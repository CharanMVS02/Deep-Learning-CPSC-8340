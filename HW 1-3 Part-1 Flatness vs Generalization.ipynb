{
 "cells": [
  {
   "cell_type": "code",
   "execution_count": 1,
   "id": "11ce36d5-41c3-4fe5-80d4-80ecb1ea955f",
   "metadata": {
    "tags": []
   },
   "outputs": [],
   "source": [
    "# Import necessary libraries\n",
    "import torch\n",
    "import torch.nn as nn\n",
    "import torch.nn.functional as F\n",
    "from torch.utils.data import DataLoader\n",
    "from torchvision import datasets, transforms\n",
    "\n",
    "import numpy as np\n",
    "import matplotlib.pyplot as plt\n",
    "\n",
    "# Enable inline plotting for Jupyter Notebooks\n",
    "%matplotlib inline\n"
   ]
  },
  {
   "cell_type": "code",
   "execution_count": 2,
   "id": "25c9276b-d552-4cd3-91e4-d63e1f03bf92",
   "metadata": {
    "tags": []
   },
   "outputs": [],
   "source": [
    "# Define the transformation: converting data to tensors\n",
    "data_transform = transforms.ToTensor()\n"
   ]
  },
  {
   "cell_type": "code",
   "execution_count": 3,
   "id": "f0927fd4-da28-4b69-bd6f-0566e7cfb2e8",
   "metadata": {
    "tags": []
   },
   "outputs": [],
   "source": [
    "# Load the MNIST dataset with training and testing sets\n",
    "train_data_set = datasets.MNIST(root='C:\\\\Users\\\\venka\\\\DeepLearning', train=True, download=True, transform=data_transform)\n",
    "test_data_set = datasets.MNIST(root='C:\\\\Users\\\\venka\\\\DeepLearning', train=False, download=True, transform=data_transform)\n"
   ]
  },
  {
   "cell_type": "code",
   "execution_count": 4,
   "id": "069c2df4-3d85-4d62-bb9b-ea923c183f62",
   "metadata": {
    "tags": []
   },
   "outputs": [
    {
     "data": {
      "text/plain": [
       "Dataset MNIST\n",
       "    Number of datapoints: 60000\n",
       "    Root location: C:\\Users\\venka\\DeepLearning\n",
       "    Split: Train\n",
       "    StandardTransform\n",
       "Transform: ToTensor()"
      ]
     },
     "execution_count": 4,
     "metadata": {},
     "output_type": "execute_result"
    }
   ],
   "source": [
    "train_data_set"
   ]
  },
  {
   "cell_type": "code",
   "execution_count": 5,
   "id": "5be37359-eb9c-47d2-82ef-7bb91259880e",
   "metadata": {
    "tags": []
   },
   "outputs": [
    {
     "data": {
      "text/plain": [
       "Dataset MNIST\n",
       "    Number of datapoints: 10000\n",
       "    Root location: C:\\Users\\venka\\DeepLearning\n",
       "    Split: Test\n",
       "    StandardTransform\n",
       "Transform: ToTensor()"
      ]
     },
     "execution_count": 5,
     "metadata": {},
     "output_type": "execute_result"
    }
   ],
   "source": [
    "test_data_set"
   ]
  },
  {
   "cell_type": "code",
   "execution_count": 18,
   "id": "2500a823-a4f4-46ea-a358-2aa02fa87cc6",
   "metadata": {
    "tags": []
   },
   "outputs": [],
   "source": [
    "# Define batch sizes\n",
    "batch_sizes = [64, 1024]\n",
    "\n",
    "# Create train and test DataLoaders for each batch size\n",
    "train_loader1 = DataLoader(train_data_set, batch_size=batch_sizes[0], shuffle=True)\n",
    "test_loader1 = DataLoader(test_data_set, batch_size=batch_sizes[0], shuffle=True)\n",
    "\n",
    "train_loader2 = DataLoader(train_data_set, batch_size=batch_sizes[1], shuffle=True)\n",
    "test_loader2 = DataLoader(test_data_set, batch_size=batch_sizes[1], shuffle=True)"
   ]
  },
  {
   "cell_type": "code",
   "execution_count": 15,
   "id": "c6234bb3-a519-4374-86c7-16713a2964d0",
   "metadata": {
    "tags": []
   },
   "outputs": [],
   "source": [
    "# Calculate the number of parameters in the model\n",
    "def calculate_params(model):\n",
    "    num_params = sum(param.numel() for param in model.parameters() if param.requires_grad)\n",
    "    return num_params\n"
   ]
  },
  {
   "cell_type": "code",
   "execution_count": 54,
   "id": "ca8db627-416c-47ea-bf2b-fe31914eb681",
   "metadata": {
    "tags": []
   },
   "outputs": [],
   "source": [
    "class Model1(nn.Module):\n",
    "    def __init__(self, in_features=784, hidden_units1=20, hidden_units2=40, out_features=10):\n",
    "        super().__init__()\n",
    "        self.fc1 = nn.Linear(in_features, hidden_units1)    \n",
    "        self.fc2 = nn.Linear(hidden_units1, hidden_units2)\n",
    "        self.output_layer = nn.Linear(hidden_units2, out_features)\n",
    "        \n",
    "    def forward(self, x):\n",
    "        x = F.relu(self.fc1(x))\n",
    "        x = F.relu(self.fc2(x))\n",
    "        x = self.output_layer(x)\n",
    "        return x\n"
   ]
  },
  {
   "cell_type": "code",
   "execution_count": 55,
   "id": "de019350-85f6-4b30-bd4e-363bc83147df",
   "metadata": {
    "tags": []
   },
   "outputs": [
    {
     "name": "stdout",
     "output_type": "stream",
     "text": [
      "16950\n"
     ]
    }
   ],
   "source": [
    "# Instantiate the model and calculate the number of parameters\n",
    "model1 = Model1()\n",
    "model1_params = calculate_params(model1)\n",
    "\n",
    "# Print the number of parameters\n",
    "print(model1_params)\n"
   ]
  },
  {
   "cell_type": "code",
   "execution_count": 56,
   "id": "92af096d-97a3-46e9-9a3b-04a93b4fa291",
   "metadata": {
    "tags": []
   },
   "outputs": [],
   "source": [
    "# Define the loss function and optimizer for Model 1\n",
    "criterion1 = nn.CrossEntropyLoss()\n",
    "optimizer1 = torch.optim.Adam(model1.parameters(), lr=0.001)\n"
   ]
  },
  {
   "cell_type": "code",
   "execution_count": 57,
   "id": "bea5eab4-9a52-45c5-a6b9-cb28f8414a32",
   "metadata": {
    "tags": []
   },
   "outputs": [],
   "source": [
    "epochs = 10\n",
    "train_correct_mod1 = []\n",
    "test_correct_mod1 = []\n",
    "train_losses_mod1=[]\n",
    "test_losses_mod1=[]\n",
    "for i in range(epochs):\n",
    "    train_corr = 0\n",
    "    test_corr = 0\n",
    "\n",
    "    # training  the batches\n",
    "    for b, (X_train, y_train) in enumerate(train_loader1):\n",
    "       \n",
    "        y_pred = model1(X_train.view(-1,784))  \n",
    "        trn_loss = criterion1(y_pred, y_train)\n",
    "\n",
    "        predicted = torch.max(y_pred.data, 1)[1]\n",
    "        batch_corr = (predicted == y_train).sum()\n",
    "        train_corr += batch_corr\n",
    "        \n",
    "        # Update parameters\n",
    "        optimizer1.zero_grad()\n",
    "        trn_loss.backward()\n",
    "        optimizer1.step()\n",
    "        \n",
    "    # Update train loss & accuracy for the epoch\n",
    "    train_losses_mod1.append(trn_loss)\n",
    "    train_correct_mod1.append(train_corr)\n",
    "        \n",
    "    # testing the batches\n",
    "    with torch.no_grad():\n",
    "        for b, (X_test, y_test) in enumerate(test_loader1):\n",
    "\n",
    "            y_val = model1(X_test.view(-1,784)) \n",
    "\n",
    "            predicted = torch.max(y_val.data, 1)[1] \n",
    "            test_corr += (predicted == y_test).sum()\n",
    "    \n",
    "    # Update test loss & accuracy for the epoch\n",
    "    test_loss = criterion1(y_val, y_test)\n",
    "    test_losses_mod1.append(test_loss)\n",
    "    test_correct_mod1.append(test_corr)"
   ]
  },
  {
   "cell_type": "code",
   "execution_count": 58,
   "id": "d8f5a0f1-351a-479c-8c4b-a85634f4383b",
   "metadata": {
    "tags": []
   },
   "outputs": [],
   "source": [
    "train_loss_list=[]"
   ]
  },
  {
   "cell_type": "code",
   "execution_count": 59,
   "id": "13ab0b66-0a8e-497e-b6a2-ae57d56ba99e",
   "metadata": {
    "tags": []
   },
   "outputs": [],
   "source": [
    "for i in range(len(train_losses_mod1)):\n",
    "     train_loss_list.append(train_losses_mod1[i].detach().numpy())\n",
    "  "
   ]
  },
  {
   "cell_type": "code",
   "execution_count": 60,
   "id": "ccc492d1-e880-4984-80b4-497e22957466",
   "metadata": {
    "tags": []
   },
   "outputs": [],
   "source": [
    "test_loss_list=[]"
   ]
  },
  {
   "cell_type": "code",
   "execution_count": 62,
   "id": "5268deeb-c568-4775-bbcc-88fdfc315719",
   "metadata": {
    "tags": []
   },
   "outputs": [],
   "source": [
    "for i in range(len(test_losses_mod1)):\n",
    "     test_loss_list.append(test_losses_mod1[i].detach().numpy())"
   ]
  },
  {
   "cell_type": "code",
   "execution_count": 64,
   "id": "cebaab6d-0ca7-4d4a-bf50-f5e10a89f6d0",
   "metadata": {
    "tags": []
   },
   "outputs": [],
   "source": [
    "train_accuracy_list=[]\n",
    "for i in range(len(train_correct_mod1)):\n",
    "     train_accuracy_list.append(train_correct_mod1[i].detach().numpy()/600)"
   ]
  },
  {
   "cell_type": "code",
   "execution_count": 65,
   "id": "c7daed1c-7035-4024-878b-25a3fbc3d0d8",
   "metadata": {
    "tags": []
   },
   "outputs": [],
   "source": [
    "test_accuracy_list=[]\n",
    "for i in range(len(test_correct_mod1)):\n",
    "     test_accuracy_list.append(test_correct_mod1[i].detach().numpy()/100)"
   ]
  },
  {
   "cell_type": "code",
   "execution_count": null,
   "id": "0cb8aea0-0c9b-4bb0-a557-70ec44216948",
   "metadata": {},
   "outputs": [],
   "source": []
  },
  {
   "cell_type": "code",
   "execution_count": null,
   "id": "9fc86a0a-5653-47b0-905b-0185d30163ad",
   "metadata": {},
   "outputs": [],
   "source": [
    "#=================================================Model2 with batch size 1024====================================#"
   ]
  },
  {
   "cell_type": "code",
   "execution_count": 66,
   "id": "9feaa776-9c2e-4a21-9340-8034d628c341",
   "metadata": {
    "tags": []
   },
   "outputs": [],
   "source": [
    "class Model2(nn.Module):\n",
    "    def __init__(self, in_features=784, hidden_units1=20, hidden_units2=40, out_features=10):\n",
    "        super().__init__()\n",
    "        self.fc1 = nn.Linear(in_features, hidden_units1)    \n",
    "        self.fc2 = nn.Linear(hidden_units1, hidden_units2)\n",
    "        self.output_layer = nn.Linear(hidden_units2, out_features)\n",
    "        \n",
    "    def forward(self, x):\n",
    "        x = F.relu(self.fc1(x))\n",
    "        x = F.relu(self.fc2(x))\n",
    "        x = self.output_layer(x)\n",
    "        return x\n"
   ]
  },
  {
   "cell_type": "code",
   "execution_count": 67,
   "id": "1dc4c4a5-c7e0-4fc4-8bd5-13bec35c31ec",
   "metadata": {
    "tags": []
   },
   "outputs": [
    {
     "name": "stdout",
     "output_type": "stream",
     "text": [
      "16950\n"
     ]
    }
   ],
   "source": [
    "model2=Model2()\n",
    "model2params=calculate_params(model2)\n",
    "print(model2params)"
   ]
  },
  {
   "cell_type": "code",
   "execution_count": 68,
   "id": "c52d22d9-597c-491c-a0d5-64511bafadd9",
   "metadata": {
    "tags": []
   },
   "outputs": [
    {
     "data": {
      "text/plain": [
       "Model2(\n",
       "  (fc1): Linear(in_features=784, out_features=20, bias=True)\n",
       "  (fc2): Linear(in_features=20, out_features=40, bias=True)\n",
       "  (output_layer): Linear(in_features=40, out_features=10, bias=True)\n",
       ")"
      ]
     },
     "execution_count": 68,
     "metadata": {},
     "output_type": "execute_result"
    }
   ],
   "source": [
    "model2"
   ]
  },
  {
   "cell_type": "code",
   "execution_count": 69,
   "id": "96fe5df8-85a2-4ece-8f0e-ba43422ab1d8",
   "metadata": {
    "tags": []
   },
   "outputs": [],
   "source": [
    "criterion2 = nn.CrossEntropyLoss()\n",
    "optimizer2 = torch.optim.Adam(model2.parameters(), lr=0.001)\n"
   ]
  },
  {
   "cell_type": "code",
   "execution_count": 70,
   "id": "7c60605c-badb-4519-9283-0a84e4dea6dc",
   "metadata": {
    "tags": []
   },
   "outputs": [],
   "source": [
    "epochs = 10\n",
    "train_losses_mod2=[]\n",
    "test_losses_mod2=[]\n",
    "train_correct_mod2 = []\n",
    "test_correct_mod2 = []\n",
    "for i in range(epochs):\n",
    "    train_corr = 0\n",
    "    test_corr = 0\n",
    "\n",
    "    # training  the batches\n",
    "    for b, (X_train, y_train) in enumerate(train_loader2):\n",
    "       \n",
    "        y_pred = model2(X_train.view(-1,784))  \n",
    "        loss = criterion2(y_pred, y_train)\n",
    "\n",
    "        predicted = torch.max(y_pred.data, 1)[1]\n",
    "        batch_corr = (predicted == y_train).sum()\n",
    "        train_corr += batch_corr\n",
    "        \n",
    "        # Update parameters\n",
    "        optimizer2.zero_grad()\n",
    "        loss.backward()\n",
    "        optimizer2.step()\n",
    "        \n",
    "    # Update train loss & accuracy for the epoch\n",
    "    train_losses_mod2.append(loss)\n",
    "    train_correct_mod2.append(train_corr)\n",
    "        \n",
    "    # testing the batches\n",
    "    with torch.no_grad():\n",
    "        for b, (X_test, y_test) in enumerate(test_loader2):\n",
    "\n",
    "            # Apply the model\n",
    "            y_val = model2(X_test.view(-1,784)) \n",
    "\n",
    "            predicted = torch.max(y_val.data, 1)[1] \n",
    "            test_corr += (predicted == y_test).sum()\n",
    "    \n",
    "    # Update test loss & accuracy for the epoch\n",
    "    loss = criterion2(y_val, y_test)\n",
    "    test_losses_mod2.append(loss)\n",
    "    test_correct_mod2.append(test_corr)"
   ]
  },
  {
   "cell_type": "code",
   "execution_count": 77,
   "id": "0e0b7aa0-376d-4992-8ef5-993d487383a2",
   "metadata": {
    "tags": []
   },
   "outputs": [],
   "source": [
    "for i in range(len(train_losses_mod2)):\n",
    "     train_loss_list.append(train_losses_mod2[i].detach().numpy())\n",
    "  "
   ]
  },
  {
   "cell_type": "code",
   "execution_count": 78,
   "id": "3e81cb14-b443-49c6-98ee-0939eeb86bfe",
   "metadata": {
    "tags": []
   },
   "outputs": [],
   "source": [
    "for i in range(len(test_losses_mod2)):\n",
    "     test_loss_list.append(test_losses_mod2[i].detach().numpy())"
   ]
  },
  {
   "cell_type": "code",
   "execution_count": 79,
   "id": "246a6c3f-6609-493b-ab62-a40d793b1dd5",
   "metadata": {
    "tags": []
   },
   "outputs": [],
   "source": [
    "for i in range(len(train_correct_mod2)):\n",
    "     train_accuracy_list.append(train_correct_mod2[i].detach().numpy()/600)"
   ]
  },
  {
   "cell_type": "code",
   "execution_count": 80,
   "id": "f112d2da-947b-4b1e-9b91-6e2e1932203e",
   "metadata": {
    "tags": []
   },
   "outputs": [],
   "source": [
    "for i in range(len(test_correct_mod2)):\n",
    "     test_accuracy_list.append(test_correct_mod2[i].detach().numpy()/100)"
   ]
  },
  {
   "cell_type": "code",
   "execution_count": 81,
   "id": "0bb4e5da-e6d0-46d7-9864-4f2baed8cc49",
   "metadata": {
    "tags": []
   },
   "outputs": [],
   "source": [
    "alpha = np.linspace(-1.0, 2.0, num=20)\n",
    "theta_array = [(1 - alpha_val) * model1_params + alpha_val * model2params for alpha_val in alpha]\n"
   ]
  },
  {
   "cell_type": "code",
   "execution_count": 82,
   "id": "d1c81f8d-87a5-49c1-8c6d-d19128b480d6",
   "metadata": {
    "tags": []
   },
   "outputs": [
    {
     "data": {
      "text/plain": [
       "<matplotlib.legend.Legend at 0x7f88ad1a5ad0>"
      ]
     },
     "execution_count": 82,
     "metadata": {},
     "output_type": "execute_result"
    },
    {
     "data": {
      "image/png": "[encoded data removed]",
      "text/plain": [
       "<Figure size 640x480 with 2 Axes>"
      ]
     },
     "metadata": {},
     "output_type": "display_data"
    }
   ],
   "source": [
    "# Visualize Loss and Accuracy against the Interpolation Ratio with lr=0.001\n",
    "fig, ax1 = plt.subplots()\n",
    "ax2 = ax1.twinx()\n",
    "\n",
    "# Plot training and testing losses\n",
    "ax1.plot(alpha, train_loss_list, 'b', label='Train Loss')\n",
    "ax1.plot(alpha, test_loss_list, 'b--', label='Test Loss')\n",
    "\n",
    "# Plot training and testing accuracies\n",
    "ax2.plot(alpha, train_accuracy_list, 'r', label='Train Accuracy')\n",
    "ax2.plot(alpha, test_accuracy_list, 'r--', label='Test Accuracy')\n",
    "\n",
    "# Set titles and labels\n",
    "ax1.set_title('Loss and Accuracy vs. Interpolation Ratio (lr=0.001)')\n",
    "ax1.set_xlabel('Alpha')\n",
    "ax1.set_ylabel('Loss', color='b')\n",
    "ax2.set_ylabel('Accuracy', color='r')\n",
    "\n",
    "# Show legends\n",
    "ax1.legend(loc='upper right')\n",
    "ax2.legend(loc='lower right')\n"
   ]
  },
  {
   "cell_type": "code",
   "execution_count": null,
   "id": "eb1570d0-6e27-4784-9a54-ef0d5e39c822",
   "metadata": {},
   "outputs": [],
   "source": []
  },
  {
   "cell_type": "code",
   "execution_count": null,
   "id": "56ac26e6-70d6-4b2e-8688-5f4f8d1344da",
   "metadata": {},
   "outputs": [],
   "source": [
    "#===============================Model with lr=0.01===================================#"
   ]
  },
  {
   "cell_type": "code",
   "execution_count": 83,
   "id": "8ee7d143-9c33-47b0-9081-d1367a81923f",
   "metadata": {
    "tags": []
   },
   "outputs": [],
   "source": [
    "class ModelOne(nn.Module):\n",
    "    def __init__(self, in_features=784, hidden_layer1=20, hidden_layer2=40, out_features=10):\n",
    "        super().__init__()\n",
    "        self.fc1 = nn.Linear(in_features, hidden_layer1)    \n",
    "        self.fc2 = nn.Linear(hidden_layer1, hidden_layer2)\n",
    "        self.out = nn.Linear(hidden_layer2, out_features)\n",
    "        \n",
    "    def forward(self, x):\n",
    "        x = F.relu(self.fc1(x))\n",
    "        x = F.relu(self.fc2(x))\n",
    "        x = self.out(x)\n",
    "        return x\n"
   ]
  },
  {
   "cell_type": "code",
   "execution_count": 85,
   "id": "98a1a0b7-14c6-4940-b2bc-6baa590063bf",
   "metadata": {
    "tags": []
   },
   "outputs": [
    {
     "data": {
      "text/plain": [
       "ModelOne(\n",
       "  (fc1): Linear(in_features=784, out_features=20, bias=True)\n",
       "  (fc2): Linear(in_features=20, out_features=40, bias=True)\n",
       "  (out): Linear(in_features=40, out_features=10, bias=True)\n",
       ")"
      ]
     },
     "execution_count": 85,
     "metadata": {},
     "output_type": "execute_result"
    }
   ],
   "source": [
    "model_one = ModelOne()\n",
    "model_one\n",
    "criterion_one = nn.CrossEntropyLoss()\n",
    "optimizer_one = torch.optim.Adam(model_one.parameters(), lr=0.01)\n",
    "model_one\n"
   ]
  },
  {
   "cell_type": "code",
   "execution_count": 86,
   "id": "860b4ce0-eb90-46ae-9ffe-b0fbfb7348c7",
   "metadata": {
    "tags": []
   },
   "outputs": [],
   "source": [
    "epochs = 10\n",
    "train_correct_mod1 = []\n",
    "test_correct_mod1 = []\n",
    "train_losses_mod1=[]\n",
    "test_losses_mod1=[]\n",
    "\n",
    "for i in range(epochs):\n",
    "    train_corr = 0\n",
    "    test_corr = 0\n",
    "\n",
    "    for b, (X_train, y_train) in enumerate(train_loader1):\n",
    "       \n",
    "        y_pred = model_one(X_train.view(-1,784))  \n",
    "        trn_loss = criterion_one(y_pred, y_train)\n",
    "\n",
    "        predicted = torch.max(y_pred.data, 1)[1]\n",
    "        batch_corr = (predicted == y_train).sum()\n",
    "        train_corr += batch_corr\n",
    "        \n",
    "        # Update parameters\n",
    "        optimizer_one.zero_grad()\n",
    "        trn_loss.backward()\n",
    "        optimizer_one.step()\n",
    "        \n",
    "    # Update train loss & accuracy for the epoch\n",
    "    train_losses_mod1.append(trn_loss)\n",
    "    train_correct_mod1.append(train_corr)\n",
    "        \n",
    "    # testing the batches\n",
    "    with torch.no_grad():\n",
    "        for b, (X_test, y_test) in enumerate(test_loader1):\n",
    "\n",
    "            y_val = model_one(X_test.view(-1,784)) \n",
    "\n",
    "            predicted = torch.max(y_val.data, 1)[1] \n",
    "            test_corr += (predicted == y_test).sum()\n",
    "    \n",
    "    # Update test loss & accuracy for the epoch\n",
    "    test_loss = criterion_one(y_val, y_test)\n",
    "    test_losses_mod1.append(test_loss)\n",
    "    test_correct_mod1.append(test_corr)\n",
    "    "
   ]
  },
  {
   "cell_type": "code",
   "execution_count": 127,
   "id": "e63def5f-f1e6-4277-814d-610559ae23e6",
   "metadata": {
    "tags": []
   },
   "outputs": [],
   "source": [
    "train_loss_list=[]"
   ]
  },
  {
   "cell_type": "code",
   "execution_count": 128,
   "id": "6bb82ace-9fb2-4429-97f2-fb8811d98e49",
   "metadata": {
    "tags": []
   },
   "outputs": [],
   "source": [
    "for i in range(len(train_losses_mod1)):\n",
    "     train_loss_list.append(train_losses_mod1[i].detach().numpy())"
   ]
  },
  {
   "cell_type": "code",
   "execution_count": 129,
   "id": "39910b41-6990-4387-bb28-b14bf41f9bff",
   "metadata": {
    "tags": []
   },
   "outputs": [],
   "source": [
    "test_loss_list=[]"
   ]
  },
  {
   "cell_type": "code",
   "execution_count": 130,
   "id": "ae7ef3e5-3e32-4486-ab89-d150c50032de",
   "metadata": {
    "tags": []
   },
   "outputs": [],
   "source": [
    "for i in range(len(test_losses_mod1)):\n",
    "     test_loss_list.append(test_losses_mod1[i].detach().numpy())"
   ]
  },
  {
   "cell_type": "code",
   "execution_count": 131,
   "id": "eb970012-18f3-41a8-9ae0-9b57ab488983",
   "metadata": {
    "tags": []
   },
   "outputs": [],
   "source": [
    "train_accuracy_list=[]"
   ]
  },
  {
   "cell_type": "code",
   "execution_count": 132,
   "id": "c6e27268-effa-428e-91e7-266efec9494d",
   "metadata": {
    "tags": []
   },
   "outputs": [],
   "source": [
    "for i in range(len(train_correct_mod1)):\n",
    "     train_accuracy_list.append(train_correct_mod1[i].detach().numpy()/600)"
   ]
  },
  {
   "cell_type": "code",
   "execution_count": 133,
   "id": "fa473f7e-165e-428c-ba13-40a159d49b20",
   "metadata": {
    "tags": []
   },
   "outputs": [],
   "source": [
    "test_accuracy_list=[]"
   ]
  },
  {
   "cell_type": "code",
   "execution_count": 134,
   "id": "cfda1fc4-fad8-4358-b62f-edc6017ac64f",
   "metadata": {
    "tags": []
   },
   "outputs": [],
   "source": [
    "for i in range(len(test_correct_mod1)):\n",
    "     test_accuracy_list.append(test_correct_mod1[i].detach().numpy()/100)"
   ]
  },
  {
   "cell_type": "code",
   "execution_count": null,
   "id": "8df99226-c964-49cd-87a1-48c13e67d124",
   "metadata": {},
   "outputs": [],
   "source": []
  },
  {
   "cell_type": "code",
   "execution_count": 136,
   "id": "4db604b9-04f8-43dc-a642-a4b579131a07",
   "metadata": {
    "tags": []
   },
   "outputs": [],
   "source": [
    "class ModelTwo(nn.Module):\n",
    "    def __init__(self, in_features=784, hidden_layer1=20, hidden_layer2=40, out_features=10):\n",
    "        super().__init__()\n",
    "        self.fc1 = nn.Linear(in_features, hidden_layer1)    \n",
    "        self.fc2 = nn.Linear(hidden_layer1, hidden_layer2)\n",
    "        self.out = nn.Linear(hidden_layer2, out_features)\n",
    "        \n",
    "    def forward(self, x):\n",
    "        x = F.relu(self.fc1(x))\n",
    "        x = F.relu(self.fc2(x))\n",
    "        x = self.out(x)\n",
    "        return x\n"
   ]
  },
  {
   "cell_type": "code",
   "execution_count": 137,
   "id": "194f4a58-8a7f-41e3-8439-5b556939e198",
   "metadata": {
    "tags": []
   },
   "outputs": [],
   "source": [
    "model_two = ModelTwo()"
   ]
  },
  {
   "cell_type": "code",
   "execution_count": 138,
   "id": "7abc832a-47ee-4c1f-ad97-4d36c7db0097",
   "metadata": {
    "tags": []
   },
   "outputs": [],
   "source": [
    "criterion_two = nn.CrossEntropyLoss()\n",
    "optimizer_two = torch.optim.Adam(model_two.parameters(), lr=0.01)\n"
   ]
  },
  {
   "cell_type": "code",
   "execution_count": 139,
   "id": "c7e79042-8010-4449-a62f-d217b0913c72",
   "metadata": {
    "tags": []
   },
   "outputs": [],
   "source": [
    "epochs = 10\n",
    "train_correct_mod2 = []\n",
    "test_correct_mod2 = []\n",
    "train_losses_mod2=[]\n",
    "test_losses_mod2=[]\n",
    "\n",
    "for i in range(epochs):\n",
    "    train_corr = 0\n",
    "    test_corr = 0\n",
    "\n",
    "    for b, (X_train, y_train) in enumerate(train_loader2):\n",
    "       \n",
    "        y_pred = model_two(X_train.view(-1,784))  \n",
    "        trn_loss = criterion_two(y_pred, y_train)\n",
    "\n",
    "        predicted = torch.max(y_pred.data, 1)[1]\n",
    "        batch_corr = (predicted == y_train).sum()\n",
    "        train_corr += batch_corr\n",
    "        \n",
    "        # Update parameters\n",
    "        optimizer_two .zero_grad()\n",
    "        trn_loss.backward()\n",
    "        optimizer_two .step()\n",
    "        \n",
    "    # Update train loss & accuracy for the epoch\n",
    "    train_losses_mod2.append(trn_loss)\n",
    "    train_correct_mod2.append(train_corr)\n",
    "        \n",
    "    # testing the batches\n",
    "    with torch.no_grad():\n",
    "        for b, (X_test, y_test) in enumerate(test_loader2):\n",
    "\n",
    "            y_val = model_two(X_test.view(-1,784)) \n",
    "\n",
    "            predicted = torch.max(y_val.data, 1)[1] \n",
    "            test_corr += (predicted == y_test).sum()\n",
    "    \n",
    "    # Update test loss & accuracy for the epoch\n",
    "    test_loss = criterion_two(y_val, y_test)\n",
    "    test_losses_mod2.append(test_loss)\n",
    "    test_correct_mod2.append(test_corr)"
   ]
  },
  {
   "cell_type": "code",
   "execution_count": 140,
   "id": "4aeffbd1-6aa0-41aa-bc11-5e116a726443",
   "metadata": {
    "tags": []
   },
   "outputs": [],
   "source": [
    "for i in range(len(train_losses_mod2)):\n",
    "     train_loss_list.append(train_losses_mod2[i].detach().numpy())"
   ]
  },
  {
   "cell_type": "code",
   "execution_count": 141,
   "id": "82b3c2a1-ab56-46cd-9047-53f841ed4916",
   "metadata": {
    "tags": []
   },
   "outputs": [],
   "source": [
    "for i in range(len(test_losses_mod2)):\n",
    "     test_loss_list.append(test_losses_mod2[i].detach().numpy())"
   ]
  },
  {
   "cell_type": "code",
   "execution_count": 142,
   "id": "d7d5f2f3-62a4-47b0-9d45-76fdf491cb90",
   "metadata": {
    "tags": []
   },
   "outputs": [],
   "source": [
    "for i in range(len(train_correct_mod2)):\n",
    "     train_accuracy_list.append(train_correct_mod2[i].detach().numpy()/600)"
   ]
  },
  {
   "cell_type": "code",
   "execution_count": 143,
   "id": "0066c624-7d51-400e-beed-f3497acbf9cc",
   "metadata": {
    "tags": []
   },
   "outputs": [],
   "source": [
    "for i in range(len(test_correct_mod2)):\n",
    "     test_accuracy_list.append(test_correct_mod2[i].detach().numpy()/100)"
   ]
  },
  {
   "cell_type": "code",
   "execution_count": 144,
   "id": "f394c911-fd77-499d-8e16-194d1dfecfed",
   "metadata": {
    "tags": []
   },
   "outputs": [
    {
     "data": {
      "text/plain": [
       "<matplotlib.legend.Legend at 0x7f88be4efc10>"
      ]
     },
     "execution_count": 144,
     "metadata": {},
     "output_type": "execute_result"
    },
    {
     "data": {
      "image/png": "[encoded data removed]",
      "text/plain": [
       "<Figure size 640x480 with 2 Axes>"
      ]
     },
     "metadata": {},
     "output_type": "display_data"
    }
   ],
   "source": [
    "# Visulaize Loss and accuracy to the number of interpolation ratio with lr=0.001 for batch size of all models\n",
    "fig, ax1 = plt.subplots()\n",
    "ax2 = ax1.twinx()\n",
    "ax1.plot(alpha, train_loss_list, 'b', label='Train')\n",
    "ax1.plot(alpha, test_loss_list, 'b--', label='Test')\n",
    "ax2.plot(alpha, train_accuracy_list, 'r', label='accuracy')\n",
    "ax2.plot(alpha, test_accuracy_list, 'r--', label='accuracy')\n",
    "ax1.set_title('Loss and accuracy to the number of interpolation ratio lr=0.01. ')\n",
    "ax1.set_xlabel('alpha')\n",
    "ax1.set_ylabel('loss', color='b')\n",
    "ax2.set_ylabel('accuracy', color='r')\n",
    "ax1.legend(loc='upper right')"
   ]
  },
  {
   "cell_type": "code",
   "execution_count": null,
   "id": "69fbd8e9-8b95-431f-b81a-a47e23669912",
   "metadata": {},
   "outputs": [],
   "source": []
  }
 ],
 "metadata": {
  "kernelspec": {
   "display_name": "Python 3 (ipykernel)",
   "language": "python",
   "name": "python3"
  },
  "language_info": {
   "codemirror_mode": {
    "name": "ipython",
    "version": 3
   },
   "file_extension": ".py",
   "mimetype": "text/x-python",
   "name": "python",
   "nbconvert_exporter": "python",
   "pygments_lexer": "ipython3",
   "version": "3.11.5"
  }
 },
 "nbformat": 4,
 "nbformat_minor": 5
}
