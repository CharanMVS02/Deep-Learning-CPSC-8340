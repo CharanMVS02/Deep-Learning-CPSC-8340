{
 "cells": [
  {
   "cell_type": "code",
   "execution_count": 1,
   "id": "f65ab905-750e-4570-ae27-39ef52c2c6d7",
   "metadata": {
    "tags": []
   },
   "outputs": [],
   "source": [
    "import numpy as np\n",
    "import pandas as pd\n",
    "import matplotlib.pyplot as plt\n",
    "import torch\n",
    "import torch.nn as nn\n",
    "import torch.nn.functional as F\n",
    "from torch.utils.data import DataLoader\n",
    "from torchvision import datasets, transforms\n",
    "\n",
    "# Ensure inline plotting in Jupyter notebooks\n",
    "%matplotlib inline\n"
   ]
  },
  {
   "cell_type": "code",
   "execution_count": 2,
   "id": "5af5e2d3-d351-46f4-bbfc-a54760b3f25b",
   "metadata": {
    "tags": []
   },
   "outputs": [],
   "source": [
    "# Define transformation to convert images to tensor\n",
    "transform = transforms.ToTensor()\n"
   ]
  },
  {
   "cell_type": "code",
   "execution_count": 3,
   "id": "e69bc733-3c9a-4174-8519-3499bd49a88d",
   "metadata": {
    "tags": []
   },
   "outputs": [],
   "source": [
    "# Define paths for dataset storage\n",
    "data_path = 'C:\\\\Users\\\\venka\\\\DeepLearning'\n",
    "\n",
    "# Load MNIST datasets with the specified transform\n",
    "train_data_set = datasets.MNIST(root=data_path, train=True, download=True, transform=transform)\n",
    "test_data_set = datasets.MNIST(root=data_path, train=False, download=True, transform=transform)\n"
   ]
  },
  {
   "cell_type": "code",
   "execution_count": 4,
   "id": "e86bf905-6697-4607-829f-b3ee38a164b6",
   "metadata": {
    "tags": []
   },
   "outputs": [
    {
     "data": {
      "text/plain": [
       "60000"
      ]
     },
     "execution_count": 4,
     "metadata": {},
     "output_type": "execute_result"
    }
   ],
   "source": [
    "len(train_data_set)"
   ]
  },
  {
   "cell_type": "code",
   "execution_count": 5,
   "id": "a01e470a-88c7-447d-83bb-d8e5d55a7110",
   "metadata": {
    "tags": []
   },
   "outputs": [
    {
     "data": {
      "text/plain": [
       "Dataset MNIST\n",
       "    Number of datapoints: 10000\n",
       "    Root location: C:\\Users\\venka\\DeepLearning\n",
       "    Split: Test\n",
       "    StandardTransform\n",
       "Transform: ToTensor()"
      ]
     },
     "execution_count": 5,
     "metadata": {},
     "output_type": "execute_result"
    }
   ],
   "source": [
    "test_data_set"
   ]
  },
  {
   "cell_type": "code",
   "execution_count": 6,
   "id": "0ff8ec99-a9f3-4fb1-ae89-bba257aa7762",
   "metadata": {
    "tags": []
   },
   "outputs": [],
   "source": [
    "import torch\n",
    "import numpy as np\n",
    "\n",
    "def shuffle_labels(dataset):\n",
    "    \"\"\"\n",
    "    Shuffle the labels of the given dataset.\n",
    "\n",
    "    Parameters:\n",
    "    - dataset (torch.utils.data.Dataset): The dataset with labels to shuffle.\n",
    "\n",
    "    Returns:\n",
    "    - None: Modifies the dataset in place.\n",
    "    \"\"\"\n",
    "    # Generate random labels\n",
    "    random_labels = torch.tensor(np.random.randint(0, 10, len(dataset)), dtype=torch.long)\n",
    "    dataset.targets = random_labels\n",
    "\n",
    "# Shuffle labels for training and test datasets\n",
    "shuffle_labels(train_data_set)\n",
    "shuffle_labels(test_data_set)\n"
   ]
  },
  {
   "cell_type": "code",
   "execution_count": 7,
   "id": "344c4c71-8065-40a2-bde2-164466f288e1",
   "metadata": {
    "tags": []
   },
   "outputs": [],
   "source": [
    "from torch.utils.data import DataLoader\n",
    "\n",
    "def create_data_loader(dataset, batch_size=50, shuffle=True):\n",
    "    \"\"\"\n",
    "    Create a DataLoader for the given dataset.\n",
    "\n",
    "    Parameters:\n",
    "    - dataset (torch.utils.data.Dataset): The dataset to load.\n",
    "    - batch_size (int): Number of samples per batch. Default is 50.\n",
    "    - shuffle (bool): Whether to shuffle the data. Default is True.\n",
    "\n",
    "    Returns:\n",
    "    - DataLoader: A DataLoader instance for the dataset.\n",
    "    \"\"\"\n",
    "    return DataLoader(dataset, batch_size=batch_size, shuffle=shuffle)\n",
    "\n",
    "# Create DataLoaders for training and testing\n",
    "train_loader = create_data_loader(train_data_set)\n",
    "test_loader = create_data_loader(test_data_set)\n"
   ]
  },
  {
   "cell_type": "code",
   "execution_count": 8,
   "id": "6e22fb91-f94c-44f7-924c-2dc803f44568",
   "metadata": {
    "tags": []
   },
   "outputs": [],
   "source": [
    "import torch\n",
    "import torch.nn as nn\n",
    "import torch.nn.functional as F\n",
    "\n",
    "class DNModel(nn.Module):\n",
    "    def __init__(self, input_size=784, hidden1=120, hidden2=120, hidden3=16, output_size=10):\n",
    "        \"\"\"\n",
    "        Initializes the Deep Neural Model with three hidden layers.\n",
    "\n",
    "        Parameters:\n",
    "        - input_size (int): Size of the input layer (default: 784).\n",
    "        - hidden1 (int): Size of the first hidden layer (default: 120).\n",
    "        - hidden2 (int): Size of the second hidden layer (default: 120).\n",
    "        - hidden3 (int): Size of the third hidden layer (default: 16).\n",
    "        - output_size (int): Size of the output layer (default: 10).\n",
    "        \"\"\"\n",
    "        super(DNModel, self).__init__()\n",
    "        self.fc1 = nn.Linear(input_size, hidden1)    \n",
    "        self.fc2 = nn.Linear(hidden1, hidden2)\n",
    "        self.fc3 = nn.Linear(hidden2, hidden3)\n",
    "        self.output_layer = nn.Linear(hidden3, output_size)\n",
    "        \n",
    "    def forward(self, x):\n",
    "        \"\"\"\n",
    "        Defines the forward pass of the model.\n",
    "\n",
    "        Parameters:\n",
    "        - x (Tensor): Input tensor.\n",
    "\n",
    "        Returns:\n",
    "        - Tensor: Output after passing through the network.\n",
    "        \"\"\"\n",
    "        x = F.relu(self.fc1(x))\n",
    "        x = F.relu(self.fc2(x))\n",
    "        x = F.relu(self.fc3(x))\n",
    "        x = self.output_layer(x)\n",
    "        return x\n"
   ]
  },
  {
   "cell_type": "code",
   "execution_count": 10,
   "id": "3f0b086a-44bf-4e24-881d-8a6b7067b5a7",
   "metadata": {
    "tags": []
   },
   "outputs": [
    {
     "data": {
      "text/plain": [
       "DNModel(\n",
       "  (fc1): Linear(in_features=784, out_features=120, bias=True)\n",
       "  (fc2): Linear(in_features=120, out_features=120, bias=True)\n",
       "  (fc3): Linear(in_features=120, out_features=16, bias=True)\n",
       "  (output_layer): Linear(in_features=16, out_features=10, bias=True)\n",
       ")"
      ]
     },
     "execution_count": 10,
     "metadata": {},
     "output_type": "execute_result"
    }
   ],
   "source": [
    "dn_model = DNModel(input_size=784, hidden1=120, hidden2=120, hidden3=16, output_size=10)\n",
    "dn_model"
   ]
  },
  {
   "cell_type": "code",
   "execution_count": 11,
   "id": "745a94c4-fa0c-4eae-b293-a430d9cad7f5",
   "metadata": {
    "tags": []
   },
   "outputs": [],
   "source": [
    "criterion_loss = nn.CrossEntropyLoss()\n"
   ]
  },
  {
   "cell_type": "code",
   "execution_count": 12,
   "id": "fa972095-cbfe-448b-a317-84d79472b829",
   "metadata": {
    "tags": []
   },
   "outputs": [],
   "source": [
    "optimizer = torch.optim.Adam(dn_model.parameters(), lr=0.001)\n"
   ]
  },
  {
   "cell_type": "code",
   "execution_count": 13,
   "id": "6ef5c5c6-e365-419a-94b2-0ffa37e8f9e6",
   "metadata": {
    "tags": []
   },
   "outputs": [],
   "source": [
    "epochs = 30\n",
    "train_losses = []\n",
    "test_losses = []\n",
    "\n",
    "for epoch in range(epochs):\n",
    "    \n",
    "    # Training the batches\n",
    "    for batch_idx, (X_train, y_train) in enumerate(train_loader):\n",
    "        \n",
    "        # Apply the model (flatten the input)\n",
    "        y_pred = dn_model(X_train.view(X_train.size(0), -1))  # Flatten X_train dynamically based on batch size\n",
    "        loss = criterion_loss(y_pred, y_train)\n",
    " \n",
    "        # Update the parameters\n",
    "        optimizer.zero_grad()  # Clear gradients\n",
    "        loss.backward()        # Backpropagation\n",
    "        optimizer.step()       # Optimizer step to update weights\n",
    "     \n",
    "    # Append train loss for the epoch\n",
    "    train_losses.append(loss.item())  # Store scalar value of the loss\n",
    "    \n",
    "    # Testing the batches\n",
    "    with torch.no_grad():  # No need to track gradients for validation\n",
    "        for batch_idx, (X_test, y_test) in enumerate(test_loader):\n",
    "            \n",
    "            # Apply the model (flatten the input)\n",
    "            y_val = dn_model(X_test.view(X_test.size(0), -1))\n",
    "    \n",
    "    # Append test loss for the epoch\n",
    "    test_loss = criterion_loss(y_val, y_test)\n",
    "    test_losses.append(test_loss.item())  # Store scalar value of the loss\n"
   ]
  },
  {
   "cell_type": "code",
   "execution_count": 15,
   "id": "cf916b4a-b828-4305-9a3e-16d56ed37fa1",
   "metadata": {
    "tags": []
   },
   "outputs": [],
   "source": [
    "train_losses = torch.stack([torch.tensor(loss) for loss in train_losses])  # Convert the list of scalar values to a tensor\n",
    "test_losses = torch.stack([torch.tensor(loss) for loss in test_losses])    # Convert the list of scalar values to a tensor\n"
   ]
  },
  {
   "cell_type": "code",
   "execution_count": 16,
   "id": "62c82fc8-84a1-4222-92b3-5dc3403aac33",
   "metadata": {
    "tags": []
   },
   "outputs": [
    {
     "data": {
      "image/png": "[encoded data removed]",
      "text/plain": [
       "<Figure size 640x480 with 1 Axes>"
      ]
     },
     "metadata": {},
     "output_type": "display_data"
    }
   ],
   "source": [
    "# Visualize losses for the MNIST dataset\n",
    "plt.plot(range(epochs), train_losses.detach().cpu().numpy(), 'r', label='Train')  # Convert tensor to numpy for plotting\n",
    "plt.plot(range(epochs), test_losses.detach().cpu().numpy(), 'b', label='Test')    # Convert tensor to numpy for plotting\n",
    "plt.title(\"Loss vs Epochs\")\n",
    "plt.xlabel(\"Epochs\")\n",
    "plt.ylabel(\"Loss\")\n",
    "plt.legend(loc=\"upper right\")\n",
    "plt.show()\n"
   ]
  },
  {
   "cell_type": "code",
   "execution_count": null,
   "id": "62ba02ad-45b9-4406-9190-29a3e36e17a2",
   "metadata": {},
   "outputs": [],
   "source": []
  }
 ],
 "metadata": {
  "kernelspec": {
   "display_name": "Python 3 (ipykernel)",
   "language": "python",
   "name": "python3"
  },
  "language_info": {
   "codemirror_mode": {
    "name": "ipython",
    "version": 3
   },
   "file_extension": ".py",
   "mimetype": "text/x-python",
   "name": "python",
   "nbconvert_exporter": "python",
   "pygments_lexer": "ipython3",
   "version": "3.11.5"
  }
 },
 "nbformat": 4,
 "nbformat_minor": 5
}
