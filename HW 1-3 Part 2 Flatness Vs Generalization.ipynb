{
 "cells": [
  {
   "cell_type": "code",
   "execution_count": 56,
   "id": "456e5a06-a827-49e7-b0ca-7b82fcfd2701",
   "metadata": {
    "tags": []
   },
   "outputs": [],
   "source": [
    "import numpy as np\n",
    "import pandas as pd\n",
    "import matplotlib.pyplot as plt\n",
    "import torch\n",
    "import torch.nn as nn\n",
    "import torch.nn.functional as F\n",
    "from torch.utils.data import DataLoader\n",
    "from torchvision import datasets, transforms\n",
    "from torchvision.utils import make_grid\n",
    "\n",
    "# Ensure inline plotting for Jupyter notebooks\n",
    "%matplotlib inline\n"
   ]
  },
  {
   "cell_type": "code",
   "execution_count": 57,
   "id": "8aaf3a47-799e-4a40-8811-f258868fc111",
   "metadata": {
    "tags": []
   },
   "outputs": [],
   "source": [
    "# Define a transformation to convert images to tensor format\n",
    "to_tensor_transform = transforms.ToTensor()\n"
   ]
  },
  {
   "cell_type": "code",
   "execution_count": 58,
   "id": "44e4df2c-d13a-4444-8e94-557e6bba98cf",
   "metadata": {
    "tags": []
   },
   "outputs": [],
   "source": [
    "# Define the path to the dataset directory\n",
    "data_path = 'C:\\\\Users\\\\venka\\\\DeepLearning'\n",
    "\n",
    "# Load the MNIST datasets with the specified transformations\n",
    "train_data_set = datasets.MNIST(root=data_path, train=True, download=True, transform=to_tensor_transform)\n",
    "test_data_set = datasets.MNIST(root=data_path, train=False, download=True, transform=to_tensor_transform)\n"
   ]
  },
  {
   "cell_type": "code",
   "execution_count": 59,
   "id": "bb86a283-d8ae-4bc3-8b08-30496d4e6dda",
   "metadata": {
    "tags": []
   },
   "outputs": [
    {
     "data": {
      "text/plain": [
       "Dataset MNIST\n",
       "    Number of datapoints: 60000\n",
       "    Root location: C:\\Users\\venka\\DeepLearning\n",
       "    Split: Train\n",
       "    StandardTransform\n",
       "Transform: ToTensor()"
      ]
     },
     "execution_count": 59,
     "metadata": {},
     "output_type": "execute_result"
    }
   ],
   "source": [
    "train_data_set"
   ]
  },
  {
   "cell_type": "code",
   "execution_count": 60,
   "id": "5747dcf3-a4b9-4ba1-8c7c-53827f661ce0",
   "metadata": {
    "tags": []
   },
   "outputs": [
    {
     "data": {
      "text/plain": [
       "Dataset MNIST\n",
       "    Number of datapoints: 10000\n",
       "    Root location: C:\\Users\\venka\\DeepLearning\n",
       "    Split: Test\n",
       "    StandardTransform\n",
       "Transform: ToTensor()"
      ]
     },
     "execution_count": 60,
     "metadata": {},
     "output_type": "execute_result"
    }
   ],
   "source": [
    "test_data_set"
   ]
  },
  {
   "cell_type": "code",
   "execution_count": 61,
   "id": "14baf710-71ef-4576-837c-1e5391d4cc17",
   "metadata": {
    "tags": []
   },
   "outputs": [],
   "source": [
    "batch_sizes = [5, 25, 125, 500, 1000]\n",
    "train_loader1 = DataLoader(train_data_set, batch_size=batch_sizes[0], shuffle=True)\n",
    "test_loader1 = DataLoader(test_data_set, batch_size=batch_sizes[0], shuffle=True)\n",
    "\n",
    "train_loader2 = DataLoader(train_data_set, batch_size=batch_sizes[1], shuffle=True)\n",
    "test_loader2 = DataLoader(test_data_set, batch_size=batch_sizes[1], shuffle=True)\n",
    "\n",
    "train_loader3 = DataLoader(train_data_set, batch_size=batch_sizes[2], shuffle=True)\n",
    "test_loader3 = DataLoader(test_data_set, batch_size=batch_sizes[2], shuffle=True)\n",
    "\n",
    "train_loader4 = DataLoader(train_data_set, batch_size=batch_sizes[3], shuffle=True)\n",
    "test_loader4 = DataLoader(test_data_set, batch_size=batch_sizes[3], shuffle=True)\n",
    "\n",
    "train_loader5 = DataLoader(train_data_set, batch_size=batch_sizes[4], shuffle=True)\n",
    "test_loader5 = DataLoader(test_data_set, batch_size=batch_sizes[4], shuffle=True)"
   ]
  },
  {
   "cell_type": "code",
   "execution_count": 62,
   "id": "969f2041-4f5a-464d-b453-ba34ca153d1e",
   "metadata": {
    "tags": []
   },
   "outputs": [],
   "source": [
    "# Calculate the number of parameters in the model\n",
    "def calc_params(model):\n",
    "    total_params = sum(param.numel() for param in model.parameters() if param.requires_grad)\n",
    "    return total_params\n"
   ]
  },
  {
   "cell_type": "code",
   "execution_count": 63,
   "id": "b982cf11-196c-4c65-818e-89d62bffc5ae",
   "metadata": {
    "tags": []
   },
   "outputs": [],
   "source": [
    "# Model1 with 16,330 parameters\n",
    "class Model1(nn.Module):\n",
    "    def __init__(self, in_features=784, hidden1_units=20, hidden2_units=20, out_features=10):\n",
    "        super().__init__()\n",
    "        self.fc_1 = nn.Linear(in_features, hidden1_units)    \n",
    "        self.fc_2 = nn.Linear(hidden1_units, hidden2_units)\n",
    "        self.out = nn.Linear(hidden2_units, out_features)\n",
    "        \n",
    "    def forward(self, x):\n",
    "        x = F.relu(self.fc_1(x))\n",
    "        x = F.relu(self.fc_2(x))\n",
    "        x = self.out(x)\n",
    "        return x\n"
   ]
  },
  {
   "cell_type": "code",
   "execution_count": 64,
   "id": "a3b3cc49-0117-4e42-baf7-02a70d2a53a9",
   "metadata": {
    "tags": []
   },
   "outputs": [],
   "source": [
    "model1=Model1()"
   ]
  },
  {
   "cell_type": "code",
   "execution_count": 65,
   "id": "e541fe0b-518a-4055-870c-05c2c117b0c5",
   "metadata": {
    "tags": []
   },
   "outputs": [
    {
     "data": {
      "text/plain": [
       "Model1(\n",
       "  (fc_1): Linear(in_features=784, out_features=20, bias=True)\n",
       "  (fc_2): Linear(in_features=20, out_features=20, bias=True)\n",
       "  (out): Linear(in_features=20, out_features=10, bias=True)\n",
       ")"
      ]
     },
     "execution_count": 65,
     "metadata": {},
     "output_type": "execute_result"
    }
   ],
   "source": [
    "model1"
   ]
  },
  {
   "cell_type": "code",
   "execution_count": 66,
   "id": "f9bf381f-7c8f-4630-b1aa-a0dcc778e1e7",
   "metadata": {
    "tags": []
   },
   "outputs": [
    {
     "name": "stdout",
     "output_type": "stream",
     "text": [
      "16330\n"
     ]
    }
   ],
   "source": [
    "model1params=calc_params(model1)\n",
    "print(model1params)"
   ]
  },
  {
   "cell_type": "code",
   "execution_count": 67,
   "id": "08a36fdc-9b3e-4861-9c17-bbea49250d9b",
   "metadata": {
    "tags": []
   },
   "outputs": [],
   "source": [
    "# Define the loss function\n",
    "loss_function = nn.CrossEntropyLoss()\n"
   ]
  },
  {
   "cell_type": "code",
   "execution_count": 68,
   "id": "dd4fe651-5032-4e39-a18e-1210a47cd128",
   "metadata": {
    "tags": []
   },
   "outputs": [],
   "source": [
    "# Initialize the SGD optimizer with a learning rate of 0.001\n",
    "optimizer1 = torch.optim.SGD(model1.parameters(), lr=0.001)\n"
   ]
  },
  {
   "cell_type": "code",
   "execution_count": 69,
   "id": "6ac1ae2c-4628-44dc-a610-918bb370f779",
   "metadata": {
    "tags": []
   },
   "outputs": [],
   "source": [
    "epochs = 10\n",
    "train_correct_mod1 = []\n",
    "test_correct_mod1 = []\n",
    "for i in range(epochs):\n",
    "    train_corr = 0\n",
    "    test_corr = 0\n",
    "\n",
    "    # Run the training batches\n",
    "    for b, (X_train, y_train) in enumerate(train_loader1):\n",
    "       \n",
    "        y_pred = model1(X_train.view(5, -1))  \n",
    "        loss = loss_function(y_pred, y_train)\n",
    "\n",
    "        # Tally the number of correct predictions\n",
    "        predicted = torch.max(y_pred.data, 1)[1]\n",
    "        batch_corr = (predicted == y_train).sum()\n",
    "        train_corr += batch_corr\n",
    "        \n",
    "        # Update parameters\n",
    "        optimizer1.zero_grad()\n",
    "        loss.backward()\n",
    "        optimizer1.step()\n",
    "        \n",
    "    # Update train loss & accuracy for the epoch\n",
    "    train_losses_mod1=loss\n",
    "    train_correct_mod1.append(train_corr)\n",
    "        \n",
    "    # testing the batches\n",
    "    with torch.no_grad():\n",
    "        for b, (X_test, y_test) in enumerate(test_loader1):\n",
    "\n",
    "            # Apply the model\n",
    "            y_val = model1(X_test.view(5, -1)) \n",
    "\n",
    "            # Tally the number of correct predictions\n",
    "            predicted = torch.max(y_val.data, 1)[1] \n",
    "            test_corr += (predicted == y_test).sum()\n",
    "    \n",
    "    # Update test loss & accuracy for the epoch\n",
    "    loss = loss_function(y_val, y_test)\n",
    "    test_losses_mod1=(loss)\n",
    "    test_correct_mod1.append(test_corr)"
   ]
  },
  {
   "cell_type": "code",
   "execution_count": 70,
   "id": "ed8a0057-e9a2-47d2-84be-ff82c6cc1bf5",
   "metadata": {
    "tags": []
   },
   "outputs": [],
   "source": [
    "# Convert the training losses tensor to a NumPy array\n",
    "train_losses_model1 = train_losses_mod1.detach().numpy()\n"
   ]
  },
  {
   "cell_type": "code",
   "execution_count": 71,
   "id": "5b8632c5-02be-4ff1-9373-999cf76716a7",
   "metadata": {
    "tags": []
   },
   "outputs": [
    {
     "name": "stdout",
     "output_type": "stream",
     "text": [
      "tensor(92.5467)\n"
     ]
    }
   ],
   "source": [
    "for t in train_correct_mod1:\n",
    "    trn_accu_mod1=t/600\n",
    "    \n",
    "print(trn_accu_mod1)"
   ]
  },
  {
   "cell_type": "code",
   "execution_count": 72,
   "id": "217fbd30-6836-4aab-81e1-9d2f61d77e4a",
   "metadata": {
    "tags": []
   },
   "outputs": [
    {
     "name": "stdout",
     "output_type": "stream",
     "text": [
      "tensor(92.6400)\n"
     ]
    }
   ],
   "source": [
    "for t in test_correct_mod1:\n",
    "    tst_accu_mod1=t/100\n",
    "    \n",
    "print(tst_accu_mod1)"
   ]
  },
  {
   "cell_type": "code",
   "execution_count": 73,
   "id": "c6a78d2d-5c9e-4ada-af30-9de3fde7f722",
   "metadata": {
    "tags": []
   },
   "outputs": [],
   "source": [
    "# Calculate sensitivity of every model\n",
    "sensitivity_list = []\n",
    "\n",
    "# Model1\n",
    "# Get gradient norm (From slides)\n",
    "total_grad_norm = 0.0\n",
    "total_frob_norm = 0\n",
    "parameter_count = 0\n",
    "\n",
    "for param in model1.parameters():\n",
    "    if param.grad is not None:\n",
    "        grad = param.grad\n",
    "        # Calculate Frobenius norm of gradients\n",
    "        frob_norm = torch.linalg.norm(grad).numpy()\n",
    "        total_frob_norm += frob_norm\n",
    "        parameter_count += 1\n",
    "\n",
    "average_frob_norm = total_frob_norm / parameter_count if parameter_count > 0 else 0\n",
    "sensitivity_list.append(average_frob_norm)\n"
   ]
  },
  {
   "cell_type": "markdown",
   "id": "d9551cb4-9375-4a4f-a619-753be54b06d1",
   "metadata": {},
   "source": [
    "#---------------------------Model2-------------------#"
   ]
  },
  {
   "cell_type": "code",
   "execution_count": 74,
   "id": "9c7ee492-7d65-4e92-8961-2512500ab6da",
   "metadata": {
    "tags": []
   },
   "outputs": [],
   "source": [
    "# Model2 with 16,330 parameters\n",
    "class Model2(nn.Module):\n",
    "    def __init__(self, in_features=784, hidden1_units=20, hidden2_units=20, out_features=10):\n",
    "        super().__init__()\n",
    "        self.fc_1 = nn.Linear(in_features, hidden1_units)    \n",
    "        self.fc_2 = nn.Linear(hidden1_units, hidden2_units)\n",
    "        self.out = nn.Linear(hidden2_units, out_features)\n",
    "        \n",
    "    def forward(self, x):\n",
    "        x = F.relu(self.fc_1(x))\n",
    "        x = F.relu(self.fc_2(x))\n",
    "        x = self.out(x)\n",
    "        return x\n"
   ]
  },
  {
   "cell_type": "code",
   "execution_count": 75,
   "id": "800a3330-0245-4280-9345-9ba2b82aea2b",
   "metadata": {
    "tags": []
   },
   "outputs": [
    {
     "data": {
      "text/plain": [
       "Model2(\n",
       "  (fc_1): Linear(in_features=784, out_features=20, bias=True)\n",
       "  (fc_2): Linear(in_features=20, out_features=20, bias=True)\n",
       "  (out): Linear(in_features=20, out_features=10, bias=True)\n",
       ")"
      ]
     },
     "execution_count": 75,
     "metadata": {},
     "output_type": "execute_result"
    }
   ],
   "source": [
    "model2 = Model2()\n",
    "model2"
   ]
  },
  {
   "cell_type": "code",
   "execution_count": 76,
   "id": "4a25bf81-7d1e-4ed2-b9f7-e110e696a99b",
   "metadata": {
    "tags": []
   },
   "outputs": [
    {
     "name": "stdout",
     "output_type": "stream",
     "text": [
      "16330\n"
     ]
    }
   ],
   "source": [
    "model2params=calc_params(model2)\n",
    "print(model2params)"
   ]
  },
  {
   "cell_type": "code",
   "execution_count": 77,
   "id": "4e1296dc-12b9-4b50-9d1a-22e538bc90eb",
   "metadata": {
    "tags": []
   },
   "outputs": [],
   "source": [
    "# Define the loss function\n",
    "loss_function_model2 = nn.CrossEntropyLoss()\n",
    "\n",
    "# Define the optimizer\n",
    "optimizer_model2 = torch.optim.Adam(model2.parameters(), lr=0.001)\n"
   ]
  },
  {
   "cell_type": "code",
   "execution_count": 78,
   "id": "c8829f15-9f53-4bf7-af08-7394a445fd9b",
   "metadata": {
    "tags": []
   },
   "outputs": [],
   "source": [
    "epochs = 10\n",
    "train_correct_mod2 = []\n",
    "test_correct_mod2 = []\n",
    "for i in range(epochs):\n",
    "    train_corr = 0\n",
    "    test_corr = 0\n",
    "\n",
    "    # Run the training batches\n",
    "    for b, (X_train, y_train) in enumerate(train_loader2):\n",
    "        \n",
    "        y_pred = model2(X_train.view(25, -1))  \n",
    "        loss = loss_function(y_pred, y_train)\n",
    "\n",
    "        # Tally the number of correct predictions\n",
    "        predicted = torch.max(y_pred.data, 1)[1]\n",
    "        batch_corr = (predicted == y_train).sum()\n",
    "        train_corr += batch_corr\n",
    "        \n",
    "        # Update parameters\n",
    "        optimizer_model2.zero_grad()\n",
    "        loss.backward()\n",
    "        optimizer_model2.step()\n",
    "        \n",
    "    # Update train loss & accuracy for the epoch\n",
    "    train_losses_mod2=loss\n",
    "    train_correct_mod2.append(train_corr)\n",
    "        \n",
    "    #testing the batches\n",
    "    with torch.no_grad():\n",
    "        for b, (X_test, y_test) in enumerate(test_loader2):\n",
    "\n",
    "            # Apply the model\n",
    "            y_val = model2(X_test.view(25, -1)) \n",
    "\n",
    "            # Tally the number of correct predictions\n",
    "            predicted = torch.max(y_val.data, 1)[1] \n",
    "            test_corr += (predicted == y_test).sum()\n",
    "    \n",
    "    # Update test loss & accuracy for the epoch\n",
    "    loss = loss_function_model2(y_val, y_test)\n",
    "    test_losses_mod2=(loss)\n",
    "    test_correct_mod2.append(test_corr)"
   ]
  },
  {
   "cell_type": "code",
   "execution_count": 79,
   "id": "373d0beb-9292-47c5-a430-0342095b9a31",
   "metadata": {
    "tags": []
   },
   "outputs": [],
   "source": [
    "# Convert the training losses tensor to a NumPy array\n",
    "train_losses_model2 = train_losses_mod2.detach().numpy()\n"
   ]
  },
  {
   "cell_type": "code",
   "execution_count": 80,
   "id": "e0eae1dc-313b-4cea-9dd1-bc9d2d9397e5",
   "metadata": {
    "tags": []
   },
   "outputs": [
    {
     "name": "stdout",
     "output_type": "stream",
     "text": [
      "tensor(96.4883)\n"
     ]
    }
   ],
   "source": [
    "for t in train_correct_mod2:\n",
    "    trn_accu_mod2=t/600\n",
    "    \n",
    "print(trn_accu_mod2)"
   ]
  },
  {
   "cell_type": "code",
   "execution_count": 81,
   "id": "4b351f7c-e991-4904-ac42-d691e540a29b",
   "metadata": {
    "tags": []
   },
   "outputs": [
    {
     "name": "stdout",
     "output_type": "stream",
     "text": [
      "tensor(95.9100)\n"
     ]
    }
   ],
   "source": [
    "for t in test_correct_mod2:\n",
    "    tst_accu_mod2=t/100\n",
    "    \n",
    "print(tst_accu_mod2)"
   ]
  },
  {
   "cell_type": "code",
   "execution_count": 82,
   "id": "8cce235f-bdb4-4c29-8ffa-ffa485fe7a15",
   "metadata": {
    "tags": []
   },
   "outputs": [],
   "source": [
    "# Calculate sensitivity for Model2\n",
    "\n",
    "# Initialize variables for gradient norms\n",
    "total_grad_norm = 0.0\n",
    "total_frob_norm = 0\n",
    "parameter_count = 0\n",
    "\n",
    "for param in model2.parameters():\n",
    "    if param.grad is not None:\n",
    "        grad = param.grad\n",
    "        # Calculate Frobenius norm of gradients\n",
    "        frob_norm = torch.linalg.norm(grad).numpy()\n",
    "        total_frob_norm += frob_norm\n",
    "        parameter_count += 1\n",
    "\n",
    "# Calculate the average Frobenius norm\n",
    "average_frob_norm = total_frob_norm / parameter_count if parameter_count > 0 else 0\n",
    "sensitivity_list.append(average_frob_norm)\n"
   ]
  },
  {
   "cell_type": "code",
   "execution_count": 83,
   "id": "edf5ab36-76d3-4272-9e13-935ad264775f",
   "metadata": {},
   "outputs": [],
   "source": [
    "#------------------------Model3---------------------------#"
   ]
  },
  {
   "cell_type": "code",
   "execution_count": 84,
   "id": "f3ee19f6-c452-4f33-959f-522d73392a6e",
   "metadata": {
    "tags": []
   },
   "outputs": [],
   "source": [
    "# Model3 with 16,330 parameters\n",
    "class Model3(nn.Module):\n",
    "    def __init__(self, in_features=784, hidden1_units=20, hidden2_units=20, out_features=10):\n",
    "        super().__init__()\n",
    "        self.fc_1 = nn.Linear(in_features, hidden1_units)    \n",
    "        self.fc_2 = nn.Linear(hidden1_units, hidden2_units)\n",
    "        self.out = nn.Linear(hidden2_units, out_features)\n",
    "        \n",
    "    def forward(self, x):\n",
    "        x = F.relu(self.fc_1(x))\n",
    "        x = F.relu(self.fc_2(x))\n",
    "        x = self.out(x)\n",
    "        return x"
   ]
  },
  {
   "cell_type": "code",
   "execution_count": 85,
   "id": "0b1da339-bf9d-4126-be48-9353e2466288",
   "metadata": {
    "tags": []
   },
   "outputs": [
    {
     "data": {
      "text/plain": [
       "Model3(\n",
       "  (fc_1): Linear(in_features=784, out_features=20, bias=True)\n",
       "  (fc_2): Linear(in_features=20, out_features=20, bias=True)\n",
       "  (out): Linear(in_features=20, out_features=10, bias=True)\n",
       ")"
      ]
     },
     "execution_count": 85,
     "metadata": {},
     "output_type": "execute_result"
    }
   ],
   "source": [
    "model3 = Model3()\n",
    "model3"
   ]
  },
  {
   "cell_type": "code",
   "execution_count": 86,
   "id": "203593c7-5f4a-4942-adae-c65f8f5ee589",
   "metadata": {
    "tags": []
   },
   "outputs": [
    {
     "name": "stdout",
     "output_type": "stream",
     "text": [
      "16330\n"
     ]
    }
   ],
   "source": [
    "model3params=calc_params(model3)\n",
    "print(model3params)"
   ]
  },
  {
   "cell_type": "code",
   "execution_count": 87,
   "id": "4213aff9-df38-4c37-85bc-70110c9690c1",
   "metadata": {
    "tags": []
   },
   "outputs": [],
   "source": [
    "# Define the loss function\n",
    "loss_function_model3 = nn.CrossEntropyLoss()\n",
    "\n",
    "# Define the optimizer\n",
    "optimizer_model3 = torch.optim.Adam(model3.parameters(), lr=0.001)\n"
   ]
  },
  {
   "cell_type": "code",
   "execution_count": 88,
   "id": "3b6d2c7f-0cc9-4c52-8aeb-301b7230376c",
   "metadata": {
    "tags": []
   },
   "outputs": [],
   "source": [
    "epochs = 10\n",
    "train_correct_mod3 = []\n",
    "test_correct_mod3 = []\n",
    "for i in range(epochs):\n",
    "    train_corr = 0\n",
    "    test_corr = 0\n",
    "\n",
    "    # Run the training batches\n",
    "    for b, (X_train, y_train) in enumerate(train_loader3):\n",
    "        \n",
    "        y_pred = model3(X_train.view(125, -1))  \n",
    "        loss = loss_function(y_pred, y_train)\n",
    "\n",
    "        # Tally the number of correct predictions\n",
    "        predicted = torch.max(y_pred.data, 1)[1]\n",
    "        batch_corr = (predicted == y_train).sum()\n",
    "        train_corr += batch_corr\n",
    "        \n",
    "        # Update parameters\n",
    "        optimizer_model3.zero_grad()\n",
    "        loss.backward()\n",
    "        optimizer_model3.step()\n",
    "        \n",
    "    # Update train loss & accuracy for the epoch\n",
    "    train_losses_mod3=loss\n",
    "    train_correct_mod3.append(train_corr)\n",
    "        \n",
    "    #testing the batches\n",
    "    with torch.no_grad():\n",
    "        for b, (X_test, y_test) in enumerate(test_loader3):\n",
    "\n",
    "            # Apply the model\n",
    "            y_val = model3(X_test.view(125, -1)) \n",
    "\n",
    "            # Tally the number of correct predictions\n",
    "            predicted = torch.max(y_val.data, 1)[1] \n",
    "            test_corr += (predicted == y_test).sum()\n",
    "    \n",
    "    # Update test loss & accuracy for the epoch\n",
    "    loss = loss_function_model3(y_val, y_test)\n",
    "    test_losses_mod3=(loss)\n",
    "    test_correct_mod3.append(test_corr)"
   ]
  },
  {
   "cell_type": "code",
   "execution_count": 89,
   "id": "1eaf9376-af73-4eb8-8dd4-074981bb421d",
   "metadata": {
    "tags": []
   },
   "outputs": [],
   "source": [
    "train_losses_model3 = train_losses_mod3.detach().numpy()"
   ]
  },
  {
   "cell_type": "code",
   "execution_count": 90,
   "id": "f5c38772-a48a-425c-9f7d-d4dfef14b3cb",
   "metadata": {
    "tags": []
   },
   "outputs": [
    {
     "name": "stdout",
     "output_type": "stream",
     "text": [
      "tensor(96.0317)\n"
     ]
    }
   ],
   "source": [
    "for t in train_correct_mod3:\n",
    "    trn_accu_mod3=t/600\n",
    "    \n",
    "print(trn_accu_mod3)"
   ]
  },
  {
   "cell_type": "code",
   "execution_count": 91,
   "id": "d4e011c4-f557-4d1a-a17c-16fcaef2cbaf",
   "metadata": {
    "tags": []
   },
   "outputs": [
    {
     "name": "stdout",
     "output_type": "stream",
     "text": [
      "tensor(95.7700)\n"
     ]
    }
   ],
   "source": [
    "for t in test_correct_mod3:\n",
    "    tst_accu_mod3=t/100\n",
    "    \n",
    "print(tst_accu_mod3)"
   ]
  },
  {
   "cell_type": "code",
   "execution_count": 92,
   "id": "1c444985-7cef-404c-8105-dccd99c0981d",
   "metadata": {
    "tags": []
   },
   "outputs": [],
   "source": [
    "# Calculate sensitivity for Model3\n",
    "\n",
    "# Initialize variables for gradient norms\n",
    "total_grad_norm = 0.0\n",
    "total_frob_norm = 0\n",
    "parameter_count = 0\n",
    "\n",
    "for param in model3.parameters():\n",
    "    if param.grad is not None:\n",
    "        grad = param.grad\n",
    "        # Calculate Frobenius norm of gradients\n",
    "        frob_norm = torch.linalg.norm(grad).numpy()\n",
    "        total_frob_norm += frob_norm\n",
    "        parameter_count += 1\n",
    "\n",
    "# Calculate the average Frobenius norm\n",
    "average_frob_norm = total_frob_norm / parameter_count if parameter_count > 0 else 0\n",
    "sensitivity_list.append(average_frob_norm)\n"
   ]
  },
  {
   "cell_type": "code",
   "execution_count": null,
   "id": "c36928d3-0418-4579-8092-10d96e581d74",
   "metadata": {},
   "outputs": [],
   "source": [
    "#----------------------------------------Model4----------------------------------------#"
   ]
  },
  {
   "cell_type": "code",
   "execution_count": 93,
   "id": "bb5f1813-f34f-426c-8da5-a0020b332765",
   "metadata": {},
   "outputs": [],
   "source": [
    "# Model4 with 16,330 parameters\n",
    "class Model4(nn.Module):\n",
    "    def __init__(self, in_features=784, hidden1_units=20, hidden2_units=20, out_features=10):\n",
    "        super().__init__()\n",
    "        self.fc_1 = nn.Linear(in_features, hidden1_units)    \n",
    "        self.fc_2 = nn.Linear(hidden1_units, hidden2_units)\n",
    "        self.out = nn.Linear(hidden2_units, out_features)\n",
    "        \n",
    "    def forward(self, x):\n",
    "        x = F.relu(self.fc_1(x))\n",
    "        x = F.relu(self.fc_2(x))\n",
    "        x = self.out(x)\n",
    "        return x"
   ]
  },
  {
   "cell_type": "code",
   "execution_count": 94,
   "id": "df741834-e051-49bd-a000-1e9ba6d4faa9",
   "metadata": {
    "tags": []
   },
   "outputs": [
    {
     "data": {
      "text/plain": [
       "Model4(\n",
       "  (fc_1): Linear(in_features=784, out_features=20, bias=True)\n",
       "  (fc_2): Linear(in_features=20, out_features=20, bias=True)\n",
       "  (out): Linear(in_features=20, out_features=10, bias=True)\n",
       ")"
      ]
     },
     "execution_count": 94,
     "metadata": {},
     "output_type": "execute_result"
    }
   ],
   "source": [
    "model4 = Model4()\n",
    "model4"
   ]
  },
  {
   "cell_type": "code",
   "execution_count": 95,
   "id": "85e36ad5-7575-4787-a33c-7953fd99c9eb",
   "metadata": {
    "tags": []
   },
   "outputs": [
    {
     "name": "stdout",
     "output_type": "stream",
     "text": [
      "16330\n"
     ]
    }
   ],
   "source": [
    "model4params=calc_params(model4)\n",
    "print(model4params)"
   ]
  },
  {
   "cell_type": "code",
   "execution_count": 96,
   "id": "20eb9874-6260-4427-8334-65da538b8c29",
   "metadata": {
    "tags": []
   },
   "outputs": [],
   "source": [
    "# Define the loss function\n",
    "loss_function_model4 = nn.CrossEntropyLoss()\n",
    "\n",
    "# Define the optimizer\n",
    "optimizer_model4 = torch.optim.Adam(model4.parameters(), lr=0.001)\n"
   ]
  },
  {
   "cell_type": "code",
   "execution_count": 97,
   "id": "da01eeec-b747-4f65-a684-723500e0f330",
   "metadata": {
    "tags": []
   },
   "outputs": [],
   "source": [
    "epochs = 10\n",
    "train_correct_mod4 = []\n",
    "test_correct_mod4 = []\n",
    "for i in range(epochs):\n",
    "    train_corr = 0\n",
    "    test_corr = 0\n",
    "\n",
    "    # Run the training batches\n",
    "    for b, (X_train, y_train) in enumerate(train_loader4):\n",
    "        \n",
    "        y_pred = model4(X_train.view(500, -1))  \n",
    "        loss = loss_function(y_pred, y_train)\n",
    "\n",
    "        # Tally the number of correct predictions\n",
    "        predicted = torch.max(y_pred.data, 1)[1]\n",
    "        batch_corr = (predicted == y_train).sum()\n",
    "        train_corr += batch_corr\n",
    "        \n",
    "        # Update parameters\n",
    "        optimizer_model4.zero_grad()\n",
    "        loss.backward()\n",
    "        optimizer_model4.step()\n",
    "        \n",
    "    # Update train loss & accuracy for the epoch\n",
    "    train_losses_mod4=loss\n",
    "    train_correct_mod4.append(train_corr)\n",
    "        \n",
    "    #testing the batches\n",
    "    with torch.no_grad():\n",
    "        for b, (X_test, y_test) in enumerate(test_loader4):\n",
    "\n",
    "            # Apply the model\n",
    "            y_val = model4(X_test.view(500, -1)) \n",
    "\n",
    "            # Tally the number of correct predictions\n",
    "            predicted = torch.max(y_val.data, 1)[1] \n",
    "            test_corr += (predicted == y_test).sum()\n",
    "    \n",
    "    # Update test loss & accuracy for the epoch\n",
    "    loss = loss_function_model4(y_val, y_test)\n",
    "    test_losses_mod4=(loss)\n",
    "    test_correct_mod4.append(test_corr)"
   ]
  },
  {
   "cell_type": "code",
   "execution_count": 98,
   "id": "da19fdc4-8fd3-4e92-9338-85cd0b6fb5ea",
   "metadata": {
    "tags": []
   },
   "outputs": [],
   "source": [
    "train_losses_model4 = train_losses_mod4.detach().numpy()"
   ]
  },
  {
   "cell_type": "code",
   "execution_count": 99,
   "id": "036ef53b-de97-4ef2-950d-2dafaec6d828",
   "metadata": {
    "tags": []
   },
   "outputs": [
    {
     "name": "stdout",
     "output_type": "stream",
     "text": [
      "tensor(94.2133)\n"
     ]
    }
   ],
   "source": [
    "for t in train_correct_mod4:\n",
    "    trn_accu_mod4=t/600\n",
    "    \n",
    "print(trn_accu_mod4)"
   ]
  },
  {
   "cell_type": "code",
   "execution_count": 100,
   "id": "05f7f767-b1aa-4a98-a745-8f50926c5763",
   "metadata": {
    "tags": []
   },
   "outputs": [
    {
     "name": "stdout",
     "output_type": "stream",
     "text": [
      "tensor(93.9400)\n"
     ]
    }
   ],
   "source": [
    "for t in test_correct_mod4:\n",
    "    tst_accu_mod4=t/100\n",
    "    \n",
    "print(tst_accu_mod4)"
   ]
  },
  {
   "cell_type": "code",
   "execution_count": 101,
   "id": "aa497c7d-51d4-4d34-927b-4f8138b835a9",
   "metadata": {
    "tags": []
   },
   "outputs": [],
   "source": [
    "# Calculate sensitivity for Model4\n",
    "\n",
    "# Initialize variables for gradient norms\n",
    "total_grad_norm = 0.0\n",
    "total_frob_norm = 0\n",
    "parameter_count = 0\n",
    "\n",
    "for param in model4.parameters():\n",
    "    if param.grad is not None:\n",
    "        grad = param.grad\n",
    "        # Calculate Frobenius norm of gradients\n",
    "        frob_norm = torch.linalg.norm(grad).numpy()\n",
    "        total_frob_norm += frob_norm\n",
    "        parameter_count += 1\n",
    "\n",
    "# Calculate the average Frobenius norm\n",
    "average_frob_norm = total_frob_norm / parameter_count if parameter_count > 0 else 0\n",
    "sensitivity_list.append(average_frob_norm)\n"
   ]
  },
  {
   "cell_type": "code",
   "execution_count": 102,
   "id": "54c44537-db48-42fc-8acf-9bb3bd8b7f87",
   "metadata": {
    "tags": []
   },
   "outputs": [],
   "source": [
    "#--------------------------Model5-----------------#"
   ]
  },
  {
   "cell_type": "code",
   "execution_count": 112,
   "id": "b6d3e766-97dd-4611-ae88-10dc34316251",
   "metadata": {
    "tags": []
   },
   "outputs": [],
   "source": [
    "#Model5 with 16330 parameters\n",
    "class Model5(nn.Module):\n",
    "    def __init__(self, in_features=784, h1=20, h2=20, out_features=10):\n",
    "        super().__init__()\n",
    "        self.fc1 = nn.Linear(in_features,h1)    \n",
    "        self.fc2 = nn.Linear(h1, h2)\n",
    "        self.out = nn.Linear(h2, out_features)\n",
    "        \n",
    "        \n",
    "    def forward(self, x):\n",
    "        x = F.relu(self.fc1(x))\n",
    "        x = F.relu(self.fc2(x))\n",
    "        x = self.out(x)\n",
    "        return x"
   ]
  },
  {
   "cell_type": "code",
   "execution_count": 113,
   "id": "071448f5-1c15-4619-a88e-9a77b67a2497",
   "metadata": {
    "tags": []
   },
   "outputs": [
    {
     "data": {
      "text/plain": [
       "Model5(\n",
       "  (fc1): Linear(in_features=784, out_features=20, bias=True)\n",
       "  (fc2): Linear(in_features=20, out_features=20, bias=True)\n",
       "  (out): Linear(in_features=20, out_features=10, bias=True)\n",
       ")"
      ]
     },
     "execution_count": 113,
     "metadata": {},
     "output_type": "execute_result"
    }
   ],
   "source": [
    "model5=Model5()\n",
    "model5"
   ]
  },
  {
   "cell_type": "code",
   "execution_count": 115,
   "id": "0fb75110-1ead-45e7-8eaa-bf8a032dc424",
   "metadata": {
    "tags": []
   },
   "outputs": [
    {
     "name": "stdout",
     "output_type": "stream",
     "text": [
      "16330\n"
     ]
    }
   ],
   "source": [
    "model5params=calc_params(model5)\n",
    "print(model5params)"
   ]
  },
  {
   "cell_type": "code",
   "execution_count": 116,
   "id": "5ad350f1-8206-49dc-8a8c-4ac83c47dfa2",
   "metadata": {
    "tags": []
   },
   "outputs": [],
   "source": [
    "criterion5 = nn.CrossEntropyLoss()\n",
    "optimizer5 = torch.optim.Adam(model5.parameters(), lr=0.001)"
   ]
  },
  {
   "cell_type": "code",
   "execution_count": 118,
   "id": "34ab7916-6fe7-45ae-885a-a091095a1ad7",
   "metadata": {
    "tags": []
   },
   "outputs": [],
   "source": [
    "epochs = 10\n",
    "train_correct_mod5 = []\n",
    "test_correct_mod5 = []\n",
    "for i in range(epochs):\n",
    "    train_corr = 0\n",
    "    test_corr = 0\n",
    "\n",
    "    # Run the training batches\n",
    "    for b, (X_train, y_train) in enumerate(train_loader5):\n",
    "       \n",
    "        y_pred = model5(X_train.view(1000, -1))  \n",
    "        loss = loss_function(y_pred, y_train)\n",
    "\n",
    "        # Tally the number of correct predictions\n",
    "        predicted = torch.max(y_pred.data, 1)[1]\n",
    "        batch_corr = (predicted == y_train).sum()\n",
    "        train_corr += batch_corr\n",
    "        \n",
    "        # Update parameters\n",
    "        optimizer5.zero_grad()\n",
    "        loss.backward()\n",
    "        optimizer5.step()\n",
    "        \n",
    "    # Update train loss & accuracy for the epoch\n",
    "    train_losses_mod5=loss\n",
    "    train_correct_mod5.append(train_corr)\n",
    "        \n",
    "    #testing the batches\n",
    "    with torch.no_grad():\n",
    "        for b, (X_test, y_test) in enumerate(test_loader5):\n",
    "\n",
    "            # Apply the model\n",
    "            y_val = model5(X_test.view(1000, -1)) \n",
    "\n",
    "            # Tally the number of correct predictions\n",
    "            predicted = torch.max(y_val.data, 1)[1] \n",
    "            test_corr += (predicted == y_test).sum()\n",
    "    \n",
    "    # Update test loss & accuracy for the epoch\n",
    "    loss = criterion5(y_val, y_test)\n",
    "    test_losses_mod5=(loss)\n",
    "    test_correct_mod5.append(test_corr)"
   ]
  },
  {
   "cell_type": "code",
   "execution_count": 119,
   "id": "610f31a3-97ea-443f-95d9-555adddc8aba",
   "metadata": {
    "tags": []
   },
   "outputs": [],
   "source": [
    "train_losses_model5 = train_losses_mod5.detach().numpy()"
   ]
  },
  {
   "cell_type": "code",
   "execution_count": 120,
   "id": "5736b286-40ac-4424-8fbc-23bd4570400d",
   "metadata": {
    "tags": []
   },
   "outputs": [
    {
     "name": "stdout",
     "output_type": "stream",
     "text": [
      "tensor(92.8250)\n"
     ]
    }
   ],
   "source": [
    "for t in train_correct_mod5:\n",
    "    trn_accu_mod5=t/600\n",
    "    \n",
    "print(trn_accu_mod5)"
   ]
  },
  {
   "cell_type": "code",
   "execution_count": 121,
   "id": "2ec05e08-b4a9-4416-9e07-49d4d4f0c5f5",
   "metadata": {
    "tags": []
   },
   "outputs": [
    {
     "name": "stdout",
     "output_type": "stream",
     "text": [
      "tensor(92.9000)\n"
     ]
    }
   ],
   "source": [
    "for t in test_correct_mod5:\n",
    "    tst_accu_mod5=t/100\n",
    "    \n",
    "print(tst_accu_mod5)"
   ]
  },
  {
   "cell_type": "code",
   "execution_count": 122,
   "id": "1427a75b-36ea-4fda-9643-77ec08aec6f6",
   "metadata": {
    "tags": []
   },
   "outputs": [],
   "source": [
    "# Initialize variables for gradient norms\n",
    "total_grad_norm = 0.0\n",
    "total_frob_norm = 0\n",
    "parameter_count = 0\n",
    "\n",
    "for param in model5.parameters():\n",
    "    if param.grad is not None:\n",
    "        grad = param.grad\n",
    "        # Calculate Frobenius norm of gradients\n",
    "        frob_norm = torch.linalg.norm(grad).numpy()\n",
    "        total_frob_norm += frob_norm\n",
    "        parameter_count += 1\n",
    "\n",
    "# Calculate the average Frobenius norm\n",
    "average_frob_norm = total_frob_norm / parameter_count if parameter_count > 0 else 0\n",
    "sensitivity_list.append(average_frob_norm)\n"
   ]
  },
  {
   "cell_type": "code",
   "execution_count": null,
   "id": "57185082-5467-4aa9-96f1-f7284c4178ca",
   "metadata": {},
   "outputs": [],
   "source": []
  },
  {
   "cell_type": "code",
   "execution_count": 126,
   "id": "9ca22ecc-6252-4d50-9d3b-d45093ef2f36",
   "metadata": {
    "tags": []
   },
   "outputs": [],
   "source": [
    "# Initialize lists for storing losses and accuracies\n",
    "train_loss_list = []\n",
    "test_loss_list = []\n",
    "train_accuracy_list = []\n",
    "test_accuracy_list = []\n",
    "\n",
    "# Append training losses for models\n",
    "train_loss_list.append(train_losses_model1)\n",
    "train_loss_list.append(train_losses_model2)\n",
    "train_loss_list.append(train_losses_model3)\n",
    "train_loss_list.append(train_losses_model4)\n",
    "train_loss_list.append(train_losses_model5)\n",
    "\n",
    "# Append test losses for models\n",
    "test_loss_list.append(test_losses_mod1)\n",
    "test_loss_list.append(test_losses_mod2)\n",
    "test_loss_list.append(test_losses_mod3)\n",
    "test_loss_list.append(test_losses_mod4)\n",
    "test_loss_list.append(test_losses_mod5)\n",
    "\n",
    "# Append training accuracies for models\n",
    "train_accuracy_list.append(trn_accu_mod1)\n",
    "train_accuracy_list.append(trn_accu_mod2)\n",
    "train_accuracy_list.append(trn_accu_mod3)\n",
    "train_accuracy_list.append(trn_accu_mod4)\n",
    "train_accuracy_list.append(trn_accu_mod5)\n",
    "\n",
    "# Append test accuracies for models\n",
    "test_accuracy_list.append(tst_accu_mod1)\n",
    "test_accuracy_list.append(tst_accu_mod2)\n",
    "test_accuracy_list.append(tst_accu_mod3)\n",
    "test_accuracy_list.append(tst_accu_mod4)\n",
    "test_accuracy_list.append(tst_accu_mod5)\n"
   ]
  },
  {
   "cell_type": "code",
   "execution_count": 127,
   "id": "c9017ed3-b56a-4aa8-a86a-4c28ce0e6de4",
   "metadata": {
    "tags": []
   },
   "outputs": [
    {
     "data": {
      "image/png": "[encoded data removed]",
      "text/plain": [
       "<Figure size 640x480 with 2 Axes>"
      ]
     },
     "metadata": {},
     "output_type": "display_data"
    }
   ],
   "source": [
    "# Visualize Loss and Sensitivity by batch size for all models\n",
    "fig, loss_axis = plt.subplots()\n",
    "\n",
    "# Create a second y-axis for sensitivity\n",
    "sensitivity_axis = loss_axis.twinx()\n",
    "\n",
    "# Plot training and testing loss\n",
    "loss_axis.plot(batch_sizes, train_loss_list, 'b', label='Training Loss')\n",
    "loss_axis.plot(batch_sizes, test_loss_list, 'b--', label='Testing Loss')\n",
    "\n",
    "# Plot sensitivity\n",
    "sensitivity_axis.plot(batch_sizes, sensitivity_list, 'r', label='Sensitivity')\n",
    "\n",
    "# Set title and labels\n",
    "loss_axis.set_title('Effect of Batch Size on Loss and Sensitivity')\n",
    "loss_axis.set_xlabel('Batch Sizes')\n",
    "loss_axis.set_xscale('log')  # Logarithmic scale for batch sizes\n",
    "loss_axis.set_ylabel('Loss', color='b')\n",
    "sensitivity_axis.set_ylabel('Sensitivity', color='r')\n",
    "\n",
    "# Add legends for the plots\n",
    "loss_axis.legend(loc='upper center')\n",
    "\n",
    "# Show the plot\n",
    "plt.show()\n"
   ]
  },
  {
   "cell_type": "code",
   "execution_count": 128,
   "id": "fcb07b25-d263-46b4-9699-a44784c26c6b",
   "metadata": {
    "tags": []
   },
   "outputs": [
    {
     "data": {
      "image/png": "[encoded data removed]",
      "text/plain": [
       "<Figure size 640x480 with 2 Axes>"
      ]
     },
     "metadata": {},
     "output_type": "display_data"
    }
   ],
   "source": [
    "# Visualize Accuracy and Sensitivity by batch size for all models\n",
    "fig, accuracy_axis = plt.subplots()\n",
    "\n",
    "# Create a second y-axis for sensitivity\n",
    "sensitivity_axis = accuracy_axis.twinx()\n",
    "\n",
    "# Plot training and testing accuracy\n",
    "accuracy_axis.plot(batch_sizes, train_accuracy_list, 'b', label='Training Accuracy')\n",
    "accuracy_axis.plot(batch_sizes, test_accuracy_list, 'b--', label='Testing Accuracy')\n",
    "\n",
    "# Plot sensitivity\n",
    "sensitivity_axis.plot(batch_sizes, sensitivity_list, 'r', label='Sensitivity')\n",
    "\n",
    "# Set title and labels\n",
    "accuracy_axis.set_title('Effect of Batch Size on Accuracy and Sensitivity')\n",
    "accuracy_axis.set_xlabel('Batch Sizes')\n",
    "accuracy_axis.set_xscale('log')  # Logarithmic scale for batch sizes\n",
    "accuracy_axis.set_ylabel('Accuracy', color='b')\n",
    "sensitivity_axis.set_ylabel('Sensitivity', color='r')\n",
    "\n",
    "# Add legends for the plots\n",
    "accuracy_axis.legend(loc='upper right')\n",
    "\n",
    "# Show the plot\n",
    "plt.show()\n"
   ]
  },
  {
   "cell_type": "code",
   "execution_count": null,
   "id": "efc7d06f-21ac-4f0c-8989-fb2ef82b7e82",
   "metadata": {},
   "outputs": [],
   "source": []
  }
 ],
 "metadata": {
  "kernelspec": {
   "display_name": "Python 3 (ipykernel)",
   "language": "python",
   "name": "python3"
  },
  "language_info": {
   "codemirror_mode": {
    "name": "ipython",
    "version": 3
   },
   "file_extension": ".py",
   "mimetype": "text/x-python",
   "name": "python",
   "nbconvert_exporter": "python",
   "pygments_lexer": "ipython3",
   "version": "3.11.5"
  }
 },
 "nbformat": 4,
 "nbformat_minor": 5
}
