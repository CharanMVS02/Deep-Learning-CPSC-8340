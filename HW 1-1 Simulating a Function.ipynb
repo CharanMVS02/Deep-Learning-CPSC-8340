{
 "cells": [
  {
   "cell_type": "code",
   "execution_count": 1,
   "id": "d0d7bb34-cc71-4e67-9ba7-64a8d90ae0a1",
   "metadata": {
    "tags": []
   },
   "outputs": [
    {
     "data": {
      "text/plain": [
       "<contextlib.ExitStack at 0x7f9c9f927290>"
      ]
     },
     "execution_count": 1,
     "metadata": {},
     "output_type": "execute_result"
    }
   ],
   "source": [
    "import torch\n",
    "import torch.nn as nn\n",
    "import torch.nn.functional as F\n",
    "\n",
    "import numpy as np\n",
    "import matplotlib.pyplot as plt\n",
    "plt.ion() \n"
   ]
  },
  {
   "cell_type": "code",
   "execution_count": 2,
   "id": "e4809974-de02-4127-a069-38dd58a07ea4",
   "metadata": {
    "tags": []
   },
   "outputs": [],
   "source": [
    "X = torch.unsqueeze(torch.linspace(-1, 1, 200), dim=1)\n"
   ]
  },
  {
   "cell_type": "code",
   "execution_count": 5,
   "id": "8a784e7e-f4d3-40f1-975e-bcf59af2fa4c",
   "metadata": {
    "tags": []
   },
   "outputs": [],
   "source": [
    "y = np.tanh(5 * np.pi * X)\n"
   ]
  },
  {
   "cell_type": "code",
   "execution_count": 6,
   "id": "08b6d23e-0bd3-4ad5-bc4a-4a1bf9183ccc",
   "metadata": {
    "tags": []
   },
   "outputs": [
    {
     "data": {
      "image/png": "[encoded data removed]",
      "text/plain": [
       "<Figure size 640x480 with 1 Axes>"
      ]
     },
     "metadata": {},
     "output_type": "display_data"
    }
   ],
   "source": [
    "plt.plot(X.detach().numpy(), y.detach().numpy())\n",
    "plt.ylabel('y')\n",
    "plt.xlabel('x')\n",
    "plt.show()  \n"
   ]
  },
  {
   "cell_type": "code",
   "execution_count": null,
   "id": "131b6acb-954d-40b0-96c4-0e1f54946249",
   "metadata": {},
   "outputs": [],
   "source": [
    "#------------------------------------------Model0------------------------------------#"
   ]
  },
  {
   "cell_type": "code",
   "execution_count": 7,
   "id": "e59aeedf-ac74-4612-b467-8253924b1119",
   "metadata": {
    "tags": []
   },
   "outputs": [],
   "source": [
    "class Model0(nn.Module):\n",
    "    def __init__(self, in_features=1, h2=5, h3=10, h4=10, h5=10, h6=10, h7=10, h8=5, out_features=1):\n",
    "        super(Model0, self).__init__()\n",
    "        self.layer1 = nn.Linear(in_features, h2)    # input layer\n",
    "        self.layer2 = nn.Linear(h2, h3)\n",
    "        self.layer3 = nn.Linear(h3, h4)\n",
    "        self.layer4 = nn.Linear(h4, h5)\n",
    "        self.layer5 = nn.Linear(h5, h6)\n",
    "        self.layer6 = nn.Linear(h6, h7)\n",
    "        self.layer7 = nn.Linear(h7, h8)\n",
    "        self.output = nn.Linear(h8, out_features)  # output layer\n",
    "\n",
    "    def forward(self, x):\n",
    "        x = F.relu(self.layer1(x))\n",
    "        x = F.relu(self.layer2(x))\n",
    "        x = F.relu(self.layer3(x))\n",
    "        x = F.relu(self.layer4(x))\n",
    "        x = F.relu(self.layer5(x))\n",
    "        x = F.relu(self.layer6(x))\n",
    "        x = F.relu(self.layer7(x))\n",
    "        x = self.output(x)\n",
    "        return x\n"
   ]
  },
  {
   "cell_type": "code",
   "execution_count": 8,
   "id": "59a7af0e-a5a7-48c1-871a-4ede6732df26",
   "metadata": {
    "tags": []
   },
   "outputs": [],
   "source": [
    "model_zero = Model0()\n"
   ]
  },
  {
   "cell_type": "code",
   "execution_count": 9,
   "id": "def09233-2fd4-40c2-9c12-0cbf96e61ad1",
   "metadata": {
    "tags": []
   },
   "outputs": [],
   "source": [
    "criterion = nn.MSELoss()\n"
   ]
  },
  {
   "cell_type": "code",
   "execution_count": 10,
   "id": "55f15419-699a-4d28-8a1d-4a5bbe6386ce",
   "metadata": {
    "tags": []
   },
   "outputs": [],
   "source": [
    "optimizer = torch.optim.Adam(model_zero.parameters(), lr=0.001)\n"
   ]
  },
  {
   "cell_type": "code",
   "execution_count": 11,
   "id": "a1f091ad-90e9-4bc0-894e-0749edfe8f33",
   "metadata": {
    "tags": []
   },
   "outputs": [],
   "source": [
    "epochs = 2000\n",
    "mod0_losses = []\n",
    "\n",
    "for epoch in range(epochs):\n",
    "    # Forward pass\n",
    "    y_pred = model_zero(x=X)  # Using model_zero(x) instead of model_zero.forward(X)\n",
    "    \n",
    "    # Compute loss\n",
    "    loss = criterion(y_pred, y)\n",
    "    \n",
    "    # Append loss to a list for plotting and analysis\n",
    "    mod0_losses.append(loss.item())  # Use .item() to get a Python number from the tensor\n",
    "    \n",
    "    # Zero gradients before the backward pass\n",
    "    optimizer.zero_grad()\n",
    "    \n",
    "    # Backward pass: compute gradient of the loss with respect to parameters\n",
    "    loss.backward()\n",
    "    \n",
    "    # Optimization step: update weights\n",
    "    optimizer.step()\n"
   ]
  },
  {
   "cell_type": "code",
   "execution_count": 12,
   "id": "887af4cd-b7ca-4214-b94a-7f95e7529f15",
   "metadata": {
    "tags": []
   },
   "outputs": [],
   "source": [
    "mod0_losses = torch.tensor(mod0_losses)\n"
   ]
  },
  {
   "cell_type": "code",
   "execution_count": null,
   "id": "6d9f2aab-571b-4f2b-95cb-6b2df8b4b3f1",
   "metadata": {},
   "outputs": [],
   "source": [
    "#--------------------------------------------------Model1---------------------------#"
   ]
  },
  {
   "cell_type": "code",
   "execution_count": 13,
   "id": "a0f4cda7-9b60-4f4d-ab16-f6c744deaa02",
   "metadata": {
    "tags": []
   },
   "outputs": [],
   "source": [
    "class Model1(nn.Module):\n",
    "    def __init__(self, in_features=1, h2=10, h3=18, h4=15, h5=4, out_features=1):\n",
    "        super(Model1, self).__init__()\n",
    "        self.layer1 = nn.Linear(in_features, h2)    # input layer\n",
    "        self.layer2 = nn.Linear(h2, h3)\n",
    "        self.layer3 = nn.Linear(h3, h4)\n",
    "        self.layer4 = nn.Linear(h4, h5)\n",
    "        self.output = nn.Linear(h5, out_features)  # output layer\n",
    "        \n",
    "    def forward(self, x):\n",
    "        x = F.relu(self.layer1(x))\n",
    "        x = F.relu(self.layer2(x))\n",
    "        x = F.relu(self.layer3(x))\n",
    "        x = F.relu(self.layer4(x))\n",
    "        x = self.output(x)\n",
    "        return x\n"
   ]
  },
  {
   "cell_type": "code",
   "execution_count": 14,
   "id": "1a780dc0-e19b-4f47-8454-4e4e4a215b4a",
   "metadata": {
    "tags": []
   },
   "outputs": [],
   "source": [
    "model_one = Model1()\n"
   ]
  },
  {
   "cell_type": "code",
   "execution_count": 15,
   "id": "3080fd81-2f61-4612-a51a-7b52563907ac",
   "metadata": {
    "tags": []
   },
   "outputs": [
    {
     "data": {
      "text/plain": [
       "Model1(\n",
       "  (layer1): Linear(in_features=1, out_features=10, bias=True)\n",
       "  (layer2): Linear(in_features=10, out_features=18, bias=True)\n",
       "  (layer3): Linear(in_features=18, out_features=15, bias=True)\n",
       "  (layer4): Linear(in_features=15, out_features=4, bias=True)\n",
       "  (output): Linear(in_features=4, out_features=1, bias=True)\n",
       ")"
      ]
     },
     "execution_count": 15,
     "metadata": {},
     "output_type": "execute_result"
    }
   ],
   "source": [
    "model_one"
   ]
  },
  {
   "cell_type": "code",
   "execution_count": 16,
   "id": "2720a226-0925-4fab-9d38-7b10d476b681",
   "metadata": {
    "tags": []
   },
   "outputs": [],
   "source": [
    "criterion = nn.MSELoss()"
   ]
  },
  {
   "cell_type": "code",
   "execution_count": 17,
   "id": "0fd57a35-4ea5-443c-a818-652c3aa0a57d",
   "metadata": {
    "tags": []
   },
   "outputs": [],
   "source": [
    "optimizer = torch.optim.Adam(model_one.parameters(), lr=0.001)\n"
   ]
  },
  {
   "cell_type": "code",
   "execution_count": 18,
   "id": "e43f14f9-5d8d-4c6c-a78b-56d3b5d44164",
   "metadata": {
    "tags": []
   },
   "outputs": [],
   "source": [
    "epochs = 2000\n",
    "mod1_losses = []\n",
    "\n",
    "for epoch in range(epochs):\n",
    "    # Forward pass\n",
    "    y_pred_mod1 = model_one(x=X)  # Using model_one(x=X) instead of model_one.forward(X)\n",
    "    \n",
    "    # Compute loss\n",
    "    loss = criterion(y_pred_mod1, y)\n",
    "    \n",
    "    # Append loss to a list for plotting and analysis\n",
    "    mod1_losses.append(loss.item())  # Use .item() to get a Python number from the tensor\n",
    "    \n",
    "    # Zero gradients before the backward pass\n",
    "    optimizer.zero_grad()\n",
    "    \n",
    "    # Backward pass: compute gradient of the loss with respect to parameters\n",
    "    loss.backward()\n",
    "    \n",
    "    # Optimization step: update weights\n",
    "    optimizer.step()\n"
   ]
  },
  {
   "cell_type": "code",
   "execution_count": 19,
   "id": "885c6b6f-81c7-4dbd-a665-9c0dff852b48",
   "metadata": {
    "tags": []
   },
   "outputs": [],
   "source": [
    "mod1_losses = torch.tensor(mod1_losses)\n"
   ]
  },
  {
   "cell_type": "code",
   "execution_count": null,
   "id": "74a74a56-700f-4540-970a-0fd1c6c229fc",
   "metadata": {},
   "outputs": [],
   "source": [
    "#------------------------------------------Model2-------------------------------------#"
   ]
  },
  {
   "cell_type": "code",
   "execution_count": 20,
   "id": "ddf7bd1d-32b5-4e2f-9690-30c82c06e355",
   "metadata": {
    "tags": []
   },
   "outputs": [],
   "source": [
    "class Model2(nn.Module):\n",
    "    def __init__(self, in_features=1, h2=190, out_features=1):\n",
    "        super(Model2, self).__init__()\n",
    "        self.layer1 = nn.Linear(in_features, h2)  # input layer\n",
    "        self.output = nn.Linear(h2, out_features)  # output layer\n",
    "        \n",
    "    def forward(self, x):\n",
    "        x = F.relu(self.layer1(x))\n",
    "        x = self.output(x)\n",
    "        return x\n"
   ]
  },
  {
   "cell_type": "code",
   "execution_count": 21,
   "id": "24a82881-dbc5-41fe-9313-dc78776c5626",
   "metadata": {
    "tags": []
   },
   "outputs": [],
   "source": [
    "model_two = Model2()\n"
   ]
  },
  {
   "cell_type": "code",
   "execution_count": 22,
   "id": "dabd81b0-f964-417a-8db2-3b0a3e2e416f",
   "metadata": {
    "tags": []
   },
   "outputs": [],
   "source": [
    "criterion = nn.MSELoss()\n"
   ]
  },
  {
   "cell_type": "code",
   "execution_count": 23,
   "id": "50cb1753-bf8c-4cdc-bc5a-c654fc599722",
   "metadata": {
    "tags": []
   },
   "outputs": [],
   "source": [
    "optimizer = torch.optim.Adam(model_two.parameters(), lr=0.001)\n"
   ]
  },
  {
   "cell_type": "code",
   "execution_count": 24,
   "id": "25f9ab8c-f6b8-4b65-a62b-46c00706f465",
   "metadata": {
    "tags": []
   },
   "outputs": [],
   "source": [
    "epochs = 2000\n",
    "mod2_losses = []\n",
    "\n",
    "for epoch in range(epochs):\n",
    "    # Forward pass\n",
    "    y_pred_mod2 = model_two(x=X)  # Using model_two(x=X) instead of model_two.forward(X)\n",
    "    \n",
    "    # Compute loss\n",
    "    loss = criterion(y_pred_mod2, y)\n",
    "    \n",
    "    # Append loss to a list for plotting and analysis\n",
    "    mod2_losses.append(loss.item())  # Use .item() to get a Python number from the tensor\n",
    "    \n",
    "    # Zero gradients before the backward pass\n",
    "    optimizer.zero_grad()\n",
    "    \n",
    "    # Backward pass: compute gradient of the loss with respect to parameters\n",
    "    loss.backward()\n",
    "    \n",
    "    # Optimization step: update weights\n",
    "    optimizer.step()\n"
   ]
  },
  {
   "cell_type": "code",
   "execution_count": 25,
   "id": "fc7fa404-2518-4988-b265-7a6e7e17b3df",
   "metadata": {
    "tags": []
   },
   "outputs": [],
   "source": [
    "mod2_losses = torch.tensor(mod2_losses)\n"
   ]
  },
  {
   "cell_type": "code",
   "execution_count": 26,
   "id": "66abcd90-9278-402b-999c-3db30e1561ef",
   "metadata": {
    "tags": []
   },
   "outputs": [
    {
     "data": {
      "image/png": "[encoded data removed]",
      "text/plain": [
       "<Figure size 640x480 with 1 Axes>"
      ]
     },
     "metadata": {},
     "output_type": "display_data"
    }
   ],
   "source": [
    "plt.plot(range(epochs), mod0_losses.numpy(), 'g', label='model_zero')\n",
    "plt.plot(range(epochs), mod1_losses.numpy(), 'r', label='model_one')\n",
    "plt.plot(range(epochs), mod2_losses.numpy(), 'b', label='model_two')\n",
    "plt.legend()\n",
    "plt.ylabel('Loss')\n",
    "plt.xlabel('Epochs')\n",
    "plt.show()\n"
   ]
  },
  {
   "cell_type": "code",
   "execution_count": 27,
   "id": "04a22d07-3ad5-4ac7-9b6d-2a086a1f0561",
   "metadata": {
    "tags": []
   },
   "outputs": [
    {
     "data": {
      "image/png": "[encoded data removed]",
      "text/plain": [
       "<Figure size 640x480 with 1 Axes>"
      ]
     },
     "metadata": {},
     "output_type": "display_data"
    }
   ],
   "source": [
    "# Plotting all Models\n",
    "plt.plot(X.numpy(), y_pred.detach().numpy(), 'g', label='model_zero')\n",
    "plt.plot(X.numpy(), y_pred_mod1.detach().numpy(), 'r', label='model_one')\n",
    "plt.plot(X.numpy(), y_pred_mod2.detach().numpy(), 'b', label='model_two')\n",
    "plt.legend()\n",
    "\n",
    "plt.ylabel('y')\n",
    "plt.xlabel('x')\n",
    "plt.show()\n"
   ]
  },
  {
   "cell_type": "code",
   "execution_count": null,
   "id": "45b71a47-7912-47db-9417-a64669f1b2f4",
   "metadata": {},
   "outputs": [],
   "source": []
  },
  {
   "cell_type": "code",
   "execution_count": null,
   "id": "323acc77-eada-4ee5-a9b7-3fd87b482dae",
   "metadata": {},
   "outputs": [],
   "source": [
    "#====================================="
   ]
  },
  {
   "cell_type": "code",
   "execution_count": 7,
   "id": "f2821af9-24fe-49eb-b5a9-7e032072b2c6",
   "metadata": {
    "tags": []
   },
   "outputs": [],
   "source": [
    "import torch\n",
    "import torch.nn as nn  \n",
    "import torch.nn.functional as F\n",
    "\n",
    "import numpy as np\n",
    "import matplotlib.pyplot as plt\n",
    "\n",
    "# Ensure plots are displayed inline in Jupyter notebooks\n",
    "plt.ion()\n",
    "\n",
    "# Create a tensor of 150 values between -1 and 1, reshaped into a column vector\n",
    "X1 = torch.linspace(-1, 1, 150).reshape(-1, 1)\n"
   ]
  },
  {
   "cell_type": "code",
   "execution_count": 8,
   "id": "13ad58d4-40a7-44ed-afd9-fefcc4a60780",
   "metadata": {
    "tags": []
   },
   "outputs": [],
   "source": [
    "y1 = np.exp(-5 * X1)\n"
   ]
  },
  {
   "cell_type": "code",
   "execution_count": 35,
   "id": "9073c44d-8eb6-4fe8-be07-d7563d312b38",
   "metadata": {
    "tags": []
   },
   "outputs": [
    {
     "data": {
      "image/png": "[encoded data removed]",
      "text/plain": [
       "<Figure size 640x480 with 1 Axes>"
      ]
     },
     "metadata": {},
     "output_type": "display_data"
    }
   ],
   "source": [
    "plt.plot(X1.numpy(), y1, 'b')\n",
    "plt.ylabel('y')\n",
    "plt.xlabel('x')\n",
    "plt.show()"
   ]
  },
  {
   "cell_type": "code",
   "execution_count": 1,
   "id": "779d0509-ce27-4832-b656-da65d4def22b",
   "metadata": {
    "tags": []
   },
   "outputs": [],
   "source": [
    "import torch\n",
    "import torch.nn as nn\n",
    "import torch.nn.functional as F\n",
    "\n",
    "class Modelzf2(nn.Module):\n",
    "    def __init__(self, in_features=1, h2=5, h3=10, h4=10, h5=10, h6=10, h7=10, h8=5, out_features=1):\n",
    "        super().__init__()\n",
    "        self.fc1 = nn.Linear(in_features, h2)    # Input layer\n",
    "        self.fc2 = nn.Linear(h2, h3)\n",
    "        self.fc3 = nn.Linear(h3, h4)\n",
    "        self.fc4 = nn.Linear(h4, h5)\n",
    "        self.fc5 = nn.Linear(h5, h6)\n",
    "        self.fc6 = nn.Linear(h6, h7)\n",
    "        self.fc7 = nn.Linear(h7, h8)\n",
    "        self.out = nn.Linear(h8, out_features)  # Output layer\n",
    "\n",
    "    def forward(self, x):\n",
    "        x = F.relu(self.fc1(x))  # Apply ReLU activation function\n",
    "        x = F.relu(self.fc2(x))  # Apply ReLU activation function\n",
    "        x = F.relu(self.fc3(x))  # Apply ReLU activation function\n",
    "        x = F.relu(self.fc4(x))  # Apply ReLU activation function\n",
    "        x = F.relu(self.fc5(x))  # Apply ReLU activation function\n",
    "        x = F.relu(self.fc6(x))  # Apply ReLU activation function\n",
    "        x = F.relu(self.fc7(x))  # Apply ReLU activation function\n",
    "        x = self.out(x)          # Output layer without activation function\n",
    "        return x\n"
   ]
  },
  {
   "cell_type": "code",
   "execution_count": 2,
   "id": "5c1fe21f-63cd-4148-8e98-492ca56df1cb",
   "metadata": {
    "tags": []
   },
   "outputs": [],
   "source": [
    "model_zero_f2 = Modelzf2()\n"
   ]
  },
  {
   "cell_type": "code",
   "execution_count": 3,
   "id": "8c5f99a2-6f27-4fc6-81cc-f1ae9d22b4b4",
   "metadata": {
    "tags": []
   },
   "outputs": [
    {
     "name": "stdout",
     "output_type": "stream",
     "text": [
      "Number of parameters in model = 571\n"
     ]
    }
   ],
   "source": [
    "total_params = sum(param.numel() for param in model_zero_f2.parameters())\n",
    "\n",
    "print(\"Number of parameters in model =\", total_params)\n"
   ]
  },
  {
   "cell_type": "code",
   "execution_count": 4,
   "id": "ac0bd986-5bd8-4b46-9dfb-c2742704ec71",
   "metadata": {
    "tags": []
   },
   "outputs": [],
   "source": [
    "criterion = nn.MSELoss()\n"
   ]
  },
  {
   "cell_type": "code",
   "execution_count": 5,
   "id": "a9486e03-33f1-4af0-8164-26349f84ca84",
   "metadata": {
    "tags": []
   },
   "outputs": [],
   "source": [
    "optimizer = torch.optim.Adam(model_zero_f2.parameters(), lr=0.001)\n"
   ]
  },
  {
   "cell_type": "code",
   "execution_count": 9,
   "id": "378bc2e8-559e-4913-8acb-ae51a474ce9b",
   "metadata": {
    "tags": []
   },
   "outputs": [],
   "source": [
    "epochs = 2000\n",
    "mod0_losses_f2 = []\n",
    "\n",
    "for epoch in range(epochs):\n",
    "    # Forward pass\n",
    "    y_pred_mod0_f2 = model_zero_f2(X1)\n",
    "    \n",
    "    # Compute loss (error)\n",
    "    loss = criterion(y_pred_mod0_f2, y1)\n",
    "    \n",
    "    # Append loss to a list for plotting and analysis\n",
    "    mod0_losses_f2.append(loss.item())\n",
    "    \n",
    "    # Reset gradients\n",
    "    optimizer.zero_grad()\n",
    "    # Backward pass to compute gradients\n",
    "    loss.backward()\n",
    "    # Optimization step to update weights and biases\n",
    "    optimizer.step()\n"
   ]
  },
  {
   "cell_type": "code",
   "execution_count": 10,
   "id": "e1daa477-7102-40fb-b02a-42a4e9ed622d",
   "metadata": {
    "tags": []
   },
   "outputs": [],
   "source": [
    "mod0_losses_f2 = torch.tensor(mod0_losses_f2)\n"
   ]
  },
  {
   "cell_type": "code",
   "execution_count": null,
   "id": "9cdf8b9d-e8ac-45a1-a46f-80589f44db6b",
   "metadata": {},
   "outputs": [],
   "source": []
  },
  {
   "cell_type": "code",
   "execution_count": 12,
   "id": "4e1ee093-413a-4f90-bd71-4bb11f47c0ba",
   "metadata": {
    "tags": []
   },
   "outputs": [],
   "source": [
    "class Modelof2(nn.Module):\n",
    "    def __init__(self, in_features=1, h2=10, h3=18, h4=15, h5=4, out_features=1):\n",
    "        super().__init__()\n",
    "        self.fc1 = nn.Linear(in_features, h2)    # input layer\n",
    "        self.fc2 = nn.Linear(h2, h3)\n",
    "        self.fc3 = nn.Linear(h3, h4)\n",
    "        self.fc4 = nn.Linear(h4, h5)\n",
    "        self.out = nn.Linear(h5, out_features)  # output layer\n",
    "\n",
    "    def forward(self, x):\n",
    "        x = F.relu(self.fc1(x))\n",
    "        x = F.relu(self.fc2(x))\n",
    "        x = F.relu(self.fc3(x))\n",
    "        x = F.relu(self.fc4(x))\n",
    "        x = self.out(x)\n",
    "        return x\n"
   ]
  },
  {
   "cell_type": "code",
   "execution_count": 13,
   "id": "4a215782-ed77-4c7f-9b35-d9fd163a4431",
   "metadata": {
    "tags": []
   },
   "outputs": [],
   "source": [
    "model_one_f2 = Modelof2()\n"
   ]
  },
  {
   "cell_type": "code",
   "execution_count": 14,
   "id": "571dd140-8664-404d-a824-b060416915c4",
   "metadata": {
    "tags": []
   },
   "outputs": [
    {
     "name": "stdout",
     "output_type": "stream",
     "text": [
      "Number of parameters in model = 572\n"
     ]
    }
   ],
   "source": [
    "total_params = sum(param.numel() for param in model_one_f2.parameters())\n",
    "print(\"Number of parameters in model =\", total_params)\n"
   ]
  },
  {
   "cell_type": "code",
   "execution_count": 15,
   "id": "89b6ed5f-0a23-49ce-b9fd-bfd519ab629b",
   "metadata": {
    "tags": []
   },
   "outputs": [],
   "source": [
    "criterion = nn.MSELoss()\n"
   ]
  },
  {
   "cell_type": "code",
   "execution_count": 16,
   "id": "aa8e82f8-a7fd-4643-8f4a-b9bbaeb81385",
   "metadata": {
    "tags": []
   },
   "outputs": [],
   "source": [
    "optimizer = torch.optim.Adam(model_one_f2.parameters(), lr=0.001)\n"
   ]
  },
  {
   "cell_type": "code",
   "execution_count": 17,
   "id": "9301226d-d113-48e1-b260-9ad6524d153f",
   "metadata": {
    "tags": []
   },
   "outputs": [],
   "source": [
    "epochs = 2000\n",
    "mod1_losses_f2 = []\n",
    "\n",
    "for _ in range(epochs):\n",
    "    # Forward pass\n",
    "    y_pred_mod1_f2 = model_one_f2(X1)\n",
    "    \n",
    "    # Compute loss\n",
    "    loss = criterion(y_pred_mod1_f2, y1)\n",
    "    \n",
    "    # Append loss to list for plotting and analysis\n",
    "    mod1_losses_f2.append(loss.item())\n",
    "    \n",
    "    # Reset gradients\n",
    "    optimizer.zero_grad()\n",
    "    # Backward pass\n",
    "    loss.backward()\n",
    "    # Update parameters\n",
    "    optimizer.step()\n"
   ]
  },
  {
   "cell_type": "code",
   "execution_count": 18,
   "id": "80e9497b-bafe-4a8e-baf3-398f08701f2d",
   "metadata": {
    "tags": []
   },
   "outputs": [],
   "source": [
    "mod1_losses_f2 = torch.tensor(mod1_losses_f2)\n"
   ]
  },
  {
   "cell_type": "code",
   "execution_count": null,
   "id": "00473405-956d-4ef2-961c-0e1317f3bc94",
   "metadata": {},
   "outputs": [],
   "source": []
  },
  {
   "cell_type": "code",
   "execution_count": 19,
   "id": "7fad01a3-1084-42b3-84b9-cd38dce9bea2",
   "metadata": {
    "tags": []
   },
   "outputs": [],
   "source": [
    "class Model2f2(nn.Module):\n",
    "    def __init__(self, in_features=1, h2=190, out_features=1):\n",
    "        super().__init__()\n",
    "        self.fc1 = nn.Linear(in_features, h2)   \n",
    "        self.out = nn.Linear(h2, out_features) \n",
    "        \n",
    "    def forward(self, x):\n",
    "        x = F.relu(self.fc1(x))\n",
    "        x = self.out(x)\n",
    "        return x\n"
   ]
  },
  {
   "cell_type": "code",
   "execution_count": 20,
   "id": "2173f85f-af5d-45b1-8948-8a194eba5bae",
   "metadata": {
    "tags": []
   },
   "outputs": [],
   "source": [
    "model_two_f2 = Model2f2()\n"
   ]
  },
  {
   "cell_type": "code",
   "execution_count": 21,
   "id": "c846976c-4726-4c5e-b079-7f4e84e71b2b",
   "metadata": {
    "tags": []
   },
   "outputs": [
    {
     "data": {
      "text/plain": [
       "Model2f2(\n",
       "  (fc1): Linear(in_features=1, out_features=190, bias=True)\n",
       "  (out): Linear(in_features=190, out_features=1, bias=True)\n",
       ")"
      ]
     },
     "execution_count": 21,
     "metadata": {},
     "output_type": "execute_result"
    }
   ],
   "source": [
    "model_two_f2"
   ]
  },
  {
   "cell_type": "code",
   "execution_count": 22,
   "id": "4303e952-08bd-41d3-bc64-121fe7083077",
   "metadata": {
    "tags": []
   },
   "outputs": [
    {
     "name": "stdout",
     "output_type": "stream",
     "text": [
      "parameters = 571\n"
     ]
    }
   ],
   "source": [
    "total_params = sum(param.numel() for param in model_two_f2.parameters())\n",
    "print(\"parameters =\", total_params)\n"
   ]
  },
  {
   "cell_type": "code",
   "execution_count": 23,
   "id": "6f21cf3b-f2ff-4b13-8059-f35b30088cb2",
   "metadata": {
    "tags": []
   },
   "outputs": [],
   "source": [
    "criterion = nn.MSELoss(reduction='mean')\n"
   ]
  },
  {
   "cell_type": "code",
   "execution_count": 24,
   "id": "6ca28aeb-3a0e-488f-9112-39103bc3f712",
   "metadata": {
    "tags": []
   },
   "outputs": [],
   "source": [
    "optimizer = torch.optim.Adam(params=model_two_f2.parameters(), lr=0.001)\n"
   ]
  },
  {
   "cell_type": "code",
   "execution_count": 25,
   "id": "a3653306-c4f8-4a8d-9ecf-19bc2bfd2d7b",
   "metadata": {
    "tags": []
   },
   "outputs": [],
   "source": [
    "epochs = 2000\n",
    "mod2_losses_f2 = []\n",
    "\n",
    "for _ in range(epochs):\n",
    "    # Forward pass\n",
    "    y_pred_mod2_f2 = model_two_f2(X1)\n",
    "    \n",
    "    # Compute loss\n",
    "    loss = criterion(y_pred_mod2_f2, y1)\n",
    "    \n",
    "    # Store loss for analysis\n",
    "    mod2_losses_f2.append(loss.item())\n",
    "    \n",
    "    # Zero gradients, backpropagate, and update weights\n",
    "    optimizer.zero_grad()\n",
    "    loss.backward()\n",
    "    optimizer.step()\n"
   ]
  },
  {
   "cell_type": "code",
   "execution_count": 26,
   "id": "e41c48ed-9820-4ca6-a3a3-20c5cb0d52f6",
   "metadata": {
    "tags": []
   },
   "outputs": [],
   "source": [
    "mod2_losses_f2 = torch.tensor(mod2_losses_f2)\n"
   ]
  },
  {
   "cell_type": "code",
   "execution_count": 27,
   "id": "761faea8-023c-4745-ad14-eb8a96f5e508",
   "metadata": {
    "tags": []
   },
   "outputs": [
    {
     "data": {
      "image/png": "[encoded data removed]",
      "text/plain": [
       "<Figure size 640x480 with 1 Axes>"
      ]
     },
     "metadata": {},
     "output_type": "display_data"
    }
   ],
   "source": [
    "# Plotting loss vs epochs for all models using F2\n",
    "plt.plot(range(epochs), mod0_losses_f2.numpy(), 'r', label='model0')\n",
    "plt.plot(range(epochs), mod1_losses_f2.numpy(), 'g', label='model1')\n",
    "plt.plot(range(epochs), mod2_losses_f2.numpy(), 'b', label='model2')\n",
    "\n",
    "plt.legend()\n",
    "plt.ylabel('Loss')\n",
    "plt.xlabel('Epochs')\n",
    "plt.show()\n"
   ]
  },
  {
   "cell_type": "code",
   "execution_count": 60,
   "id": "0279af65-9e58-40c3-a036-e489f93d0a20",
   "metadata": {
    "tags": []
   },
   "outputs": [
    {
     "data": {
      "image/png": "[encoded data removed]",
      "text/plain": [
       "<Figure size 640x480 with 1 Axes>"
      ]
     },
     "metadata": {},
     "output_type": "display_data"
    }
   ],
   "source": [
    "# Plotting predicted values for all models\n",
    "plt.plot(X1.numpy(), y_pred_mod0_f2.detach().numpy(), 'r', label='model0')\n",
    "plt.plot(X1.numpy(), y_pred_mod1_f2.detach().numpy(), 'g', label='model1')\n",
    "plt.plot(X1.numpy(), y_pred_mod2_f2.detach().numpy(), 'b', label='model2')\n",
    "\n",
    "plt.legend()\n",
    "plt.ylabel('y')\n",
    "plt.xlabel('x')\n",
    "plt.show()\n"
   ]
  },
  {
   "cell_type": "code",
   "execution_count": null,
   "id": "26ecb124-96fc-4604-866d-d4562454157c",
   "metadata": {},
   "outputs": [],
   "source": []
  }
 ],
 "metadata": {
  "kernelspec": {
   "display_name": "Python 3 (ipykernel)",
   "language": "python",
   "name": "python3"
  },
  "language_info": {
   "codemirror_mode": {
    "name": "ipython",
    "version": 3
   },
   "file_extension": ".py",
   "mimetype": "text/x-python",
   "name": "python",
   "nbconvert_exporter": "python",
   "pygments_lexer": "ipython3",
   "version": "3.11.5"
  }
 },
 "nbformat": 4,
 "nbformat_minor": 5
}
