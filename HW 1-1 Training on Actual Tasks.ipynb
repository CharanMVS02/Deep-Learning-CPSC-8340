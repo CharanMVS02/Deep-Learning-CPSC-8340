{
 "cells": [
  {
   "cell_type": "code",
   "execution_count": 1,
   "id": "44818e39-e2d2-4a44-8602-e41015a3d41c",
   "metadata": {
    "tags": []
   },
   "outputs": [
    {
     "name": "stdout",
     "output_type": "stream",
     "text": [
      "Defaulting to user installation because normal site-packages is not writeable\n",
      "Requirement already satisfied: torch in ./.local/lib/python3.11/site-packages (2.4.1)\n",
      "Requirement already satisfied: torchvision in ./.local/lib/python3.11/site-packages (0.19.1)\n",
      "Requirement already satisfied: torchaudio in ./.local/lib/python3.11/site-packages (2.4.1)\n",
      "Requirement already satisfied: filelock in /software/slurm/spackages/linux-rocky8-x86_64/gcc-12.2.0/anaconda3-2023.09-0-3mhml42fa64byxqyd5fig5tbih625dp2/lib/python3.11/site-packages (from torch) (3.9.0)\n",
      "Requirement already satisfied: typing-extensions>=4.8.0 in ./.local/lib/python3.11/site-packages (from torch) (4.12.2)\n",
      "Requirement already satisfied: sympy in /software/slurm/spackages/linux-rocky8-x86_64/gcc-12.2.0/anaconda3-2023.09-0-3mhml42fa64byxqyd5fig5tbih625dp2/lib/python3.11/site-packages (from torch) (1.11.1)\n",
      "Requirement already satisfied: networkx in /software/slurm/spackages/linux-rocky8-x86_64/gcc-12.2.0/anaconda3-2023.09-0-3mhml42fa64byxqyd5fig5tbih625dp2/lib/python3.11/site-packages (from torch) (3.1)\n",
      "Requirement already satisfied: jinja2 in /software/slurm/spackages/linux-rocky8-x86_64/gcc-12.2.0/anaconda3-2023.09-0-3mhml42fa64byxqyd5fig5tbih625dp2/lib/python3.11/site-packages (from torch) (3.1.2)\n",
      "Requirement already satisfied: fsspec in /software/slurm/spackages/linux-rocky8-x86_64/gcc-12.2.0/anaconda3-2023.09-0-3mhml42fa64byxqyd5fig5tbih625dp2/lib/python3.11/site-packages (from torch) (2023.4.0)\n",
      "Requirement already satisfied: nvidia-cuda-nvrtc-cu12==12.1.105 in ./.local/lib/python3.11/site-packages (from torch) (12.1.105)\n",
      "Requirement already satisfied: nvidia-cuda-runtime-cu12==12.1.105 in ./.local/lib/python3.11/site-packages (from torch) (12.1.105)\n",
      "Requirement already satisfied: nvidia-cuda-cupti-cu12==12.1.105 in ./.local/lib/python3.11/site-packages (from torch) (12.1.105)\n",
      "Requirement already satisfied: nvidia-cudnn-cu12==9.1.0.70 in ./.local/lib/python3.11/site-packages (from torch) (9.1.0.70)\n",
      "Requirement already satisfied: nvidia-cublas-cu12==12.1.3.1 in ./.local/lib/python3.11/site-packages (from torch) (12.1.3.1)\n",
      "Requirement already satisfied: nvidia-cufft-cu12==11.0.2.54 in ./.local/lib/python3.11/site-packages (from torch) (11.0.2.54)\n",
      "Requirement already satisfied: nvidia-curand-cu12==10.3.2.106 in ./.local/lib/python3.11/site-packages (from torch) (10.3.2.106)\n",
      "Requirement already satisfied: nvidia-cusolver-cu12==11.4.5.107 in ./.local/lib/python3.11/site-packages (from torch) (11.4.5.107)\n",
      "Requirement already satisfied: nvidia-cusparse-cu12==12.1.0.106 in ./.local/lib/python3.11/site-packages (from torch) (12.1.0.106)\n",
      "Requirement already satisfied: nvidia-nccl-cu12==2.20.5 in ./.local/lib/python3.11/site-packages (from torch) (2.20.5)\n",
      "Requirement already satisfied: nvidia-nvtx-cu12==12.1.105 in ./.local/lib/python3.11/site-packages (from torch) (12.1.105)\n",
      "Requirement already satisfied: triton==3.0.0 in ./.local/lib/python3.11/site-packages (from torch) (3.0.0)\n",
      "Requirement already satisfied: nvidia-nvjitlink-cu12 in ./.local/lib/python3.11/site-packages (from nvidia-cusolver-cu12==11.4.5.107->torch) (12.6.68)\n",
      "Requirement already satisfied: numpy in /software/slurm/spackages/linux-rocky8-x86_64/gcc-12.2.0/anaconda3-2023.09-0-3mhml42fa64byxqyd5fig5tbih625dp2/lib/python3.11/site-packages (from torchvision) (1.24.3)\n",
      "Requirement already satisfied: pillow!=8.3.*,>=5.3.0 in /software/slurm/spackages/linux-rocky8-x86_64/gcc-12.2.0/anaconda3-2023.09-0-3mhml42fa64byxqyd5fig5tbih625dp2/lib/python3.11/site-packages (from torchvision) (9.4.0)\n",
      "Requirement already satisfied: MarkupSafe>=2.0 in /software/slurm/spackages/linux-rocky8-x86_64/gcc-12.2.0/anaconda3-2023.09-0-3mhml42fa64byxqyd5fig5tbih625dp2/lib/python3.11/site-packages (from jinja2->torch) (2.1.1)\n",
      "Requirement already satisfied: mpmath>=0.19 in /software/slurm/spackages/linux-rocky8-x86_64/gcc-12.2.0/anaconda3-2023.09-0-3mhml42fa64byxqyd5fig5tbih625dp2/lib/python3.11/site-packages (from sympy->torch) (1.3.0)\n",
      "Note: you may need to restart the kernel to use updated packages.\n"
     ]
    }
   ],
   "source": [
    "pip install torch torchvision torchaudio"
   ]
  },
  {
   "cell_type": "code",
   "execution_count": 45,
   "id": "83480ff4-9a44-47fd-82c9-b8f4c9258a33",
   "metadata": {
    "tags": []
   },
   "outputs": [],
   "source": [
    "import torch\n",
    "import torch.nn as nn\n",
    "import torch.nn.functional as F\n",
    "from torch.utils.data import DataLoader\n",
    "from torchvision import datasets, transforms\n",
    "\n",
    "import numpy as np\n",
    "import pandas as pd\n",
    "import matplotlib.pyplot as plt\n",
    "%matplotlib inline"
   ]
  },
  {
   "cell_type": "code",
   "execution_count": 46,
   "id": "f50f8dd6-ef40-4a0d-a690-237d9fe16d4b",
   "metadata": {
    "tags": []
   },
   "outputs": [],
   "source": [
    "from torchvision import datasets, transforms\n",
    "\n",
    "# Define the transformation\n",
    "tensor_transform = transforms.ToTensor()\n",
    "\n",
    "# Load the MNIST training dataset\n",
    "training_dataset = datasets.MNIST(root='C:\\\\Users\\\\venka\\\\DeepLearning', train=True, download=True, transform=tensor_transform)\n",
    "\n",
    "# Load the MNIST testing dataset\n",
    "testing_dataset = datasets.MNIST(root='C:\\\\Users\\\\venka\\\\DeepLearning', train=False, download=True, transform=tensor_transform)\n"
   ]
  },
  {
   "cell_type": "code",
   "execution_count": 47,
   "id": "e51f8969-3310-48e5-961c-641a58070e0a",
   "metadata": {
    "tags": []
   },
   "outputs": [
    {
     "data": {
      "text/plain": [
       "Dataset MNIST\n",
       "    Number of datapoints: 60000\n",
       "    Root location: C:\\Users\\venka\\DeepLearning\n",
       "    Split: Train\n",
       "    StandardTransform\n",
       "Transform: ToTensor()"
      ]
     },
     "execution_count": 47,
     "metadata": {},
     "output_type": "execute_result"
    }
   ],
   "source": [
    "training_dataset"
   ]
  },
  {
   "cell_type": "code",
   "execution_count": 48,
   "id": "85599605-549b-4360-964c-b3016ace5912",
   "metadata": {
    "tags": []
   },
   "outputs": [
    {
     "data": {
      "text/plain": [
       "Dataset MNIST\n",
       "    Number of datapoints: 10000\n",
       "    Root location: C:\\Users\\venka\\DeepLearning\n",
       "    Split: Test\n",
       "    StandardTransform\n",
       "Transform: ToTensor()"
      ]
     },
     "execution_count": 48,
     "metadata": {},
     "output_type": "execute_result"
    }
   ],
   "source": [
    "testing_dataset"
   ]
  },
  {
   "cell_type": "code",
   "execution_count": 49,
   "id": "b41335d6-f42e-42e2-9ce0-ac550ac294f5",
   "metadata": {
    "tags": []
   },
   "outputs": [],
   "source": [
    "from torch.utils.data import DataLoader\n",
    "\n",
    "# Create DataLoader for the training dataset\n",
    "train_loader = DataLoader(training_dataset, batch_size=10, shuffle=True)\n",
    "\n",
    "# Create DataLoader for the testing dataset\n",
    "test_loader = DataLoader(testing_dataset, batch_size=10, shuffle=False)\n"
   ]
  },
  {
   "cell_type": "code",
   "execution_count": 50,
   "id": "7fab066b-7978-4e0b-a596-51d0842ce8a9",
   "metadata": {
    "tags": []
   },
   "outputs": [],
   "source": [
    "conv_layer1 = nn.Conv2d(1, 8, 3, 1)\n",
    "conv_layer2 = nn.Conv2d(8, 18, 3, 1)\n"
   ]
  },
  {
   "cell_type": "code",
   "execution_count": 51,
   "id": "6067be4c-3b64-4eed-a5d2-478fb7be3308",
   "metadata": {
    "tags": []
   },
   "outputs": [],
   "source": [
    "import torch.nn as nn\n",
    "import torch.nn.functional as F\n",
    "\n",
    "class ConvNetwork1(nn.Module):\n",
    "    def __init__(self):\n",
    "        super().__init__()\n",
    "        self.conv_layer1 = nn.Conv2d(1, 8, 3, 1)\n",
    "        self.conv_layer2 = nn.Conv2d(8, 18, 3, 1)\n",
    "        self.fc_layer1 = nn.Linear(5*5*18, 18)\n",
    "        self.fc_layer2 = nn.Linear(18, 10)\n",
    "\n",
    "    def forward(self, x):\n",
    "        x = F.leaky_relu(self.conv_layer1(x), negative_slope=0.01)\n",
    "        x = F.max_pool2d(x, 2, 2)\n",
    "        x = F.leaky_relu(self.conv_layer2(x), negative_slope=0.01)\n",
    "        x = F.max_pool2d(x, 2, 2)\n",
    "        x = x.view(-1, 5*5*18)\n",
    "        x = F.leaky_relu(self.fc_layer1(x), negative_slope=0.01)\n",
    "        x = self.fc_layer2(x)\n",
    "        return F.softmax(x, dim=1)  \n"
   ]
  },
  {
   "cell_type": "code",
   "execution_count": 52,
   "id": "bc59b88f-2e82-4951-84e6-bb68ebbbad6c",
   "metadata": {
    "tags": []
   },
   "outputs": [
    {
     "data": {
      "text/plain": [
       "ConvNetwork1(\n",
       "  (conv_layer1): Conv2d(1, 8, kernel_size=(3, 3), stride=(1, 1))\n",
       "  (conv_layer2): Conv2d(8, 18, kernel_size=(3, 3), stride=(1, 1))\n",
       "  (fc_layer1): Linear(in_features=450, out_features=18, bias=True)\n",
       "  (fc_layer2): Linear(in_features=18, out_features=10, bias=True)\n",
       ")"
      ]
     },
     "execution_count": 52,
     "metadata": {},
     "output_type": "execute_result"
    }
   ],
   "source": [
    "model1 = ConvNetwork1()\n",
    "model1\n"
   ]
  },
  {
   "cell_type": "code",
   "execution_count": 53,
   "id": "86acd6db-aee6-40f2-b593-d37a454074b4",
   "metadata": {
    "tags": []
   },
   "outputs": [],
   "source": [
    "criterion = nn.CrossEntropyLoss()\n",
    "optimizer = torch.optim.Adam(model1.parameters(), lr=0.001)\n"
   ]
  },
  {
   "cell_type": "code",
   "execution_count": 54,
   "id": "b77b6d06-1852-4a9c-9d6d-a1da94d9a4c5",
   "metadata": {
    "tags": []
   },
   "outputs": [],
   "source": [
    "epochs = 20\n",
    "train_losses = []\n",
    "test_losses = []\n",
    "train_correct = []\n",
    "test_correct = []\n",
    "\n",
    "for i in range(epochs):\n",
    "    train_corr = 0\n",
    "    test_corr = 0\n",
    "    \n",
    "    # Training the batches\n",
    "    for b, (x_train, y_train) in enumerate(train_loader):\n",
    "        \n",
    "        # Applying the model\n",
    "        y_pred = model1(x_train)  \n",
    "        loss = criterion(y_pred, y_train)\n",
    " \n",
    "        predicted = torch.max(y_pred.data, 1)[1]\n",
    "        batch_corr = (predicted == y_train).sum()\n",
    "        train_corr += batch_corr\n",
    "        \n",
    "        # Updating parameters\n",
    "        optimizer.zero_grad()\n",
    "        loss.backward()\n",
    "        optimizer.step()\n",
    "        \n",
    "    train_losses.append(loss)\n",
    "    train_correct.append(train_corr)\n",
    "        \n",
    "    # Testing the batches\n",
    "    with torch.no_grad():\n",
    "        for b, (x_test, y_test) in enumerate(test_loader):\n",
    "            y_val = model1(x_test)\n",
    "\n",
    "            predicted = torch.max(y_val.data, 1)[1] \n",
    "            test_corr += (predicted == y_test).sum()\n",
    "            \n",
    "    loss = criterion(y_val, y_test)\n",
    "    test_losses.append(loss)\n",
    "    test_correct.append(test_corr)\n"
   ]
  },
  {
   "cell_type": "code",
   "execution_count": 55,
   "id": "12a5fb70-e8c0-4fb8-bf1c-a16312e90f18",
   "metadata": {
    "tags": []
   },
   "outputs": [],
   "source": [
    "train_losses = torch.tensor(train_losses)\n"
   ]
  },
  {
   "cell_type": "code",
   "execution_count": null,
   "id": "7fd6fa13-ddea-4b20-8d87-c3e675ae9618",
   "metadata": {},
   "outputs": [],
   "source": []
  },
  {
   "cell_type": "code",
   "execution_count": 56,
   "id": "37abe386-b7f8-4fdc-8310-cd1c897a3392",
   "metadata": {
    "tags": []
   },
   "outputs": [],
   "source": [
    "conv_layer1 = nn.Conv2d(1, 6, 4, 1)\n",
    "conv_layer2 = nn.Conv2d(6, 16, 4, 1)\n"
   ]
  },
  {
   "cell_type": "code",
   "execution_count": 57,
   "id": "a500568b-53f6-4c9c-abef-2802585e0f7b",
   "metadata": {
    "tags": []
   },
   "outputs": [],
   "source": [
    "import torch.nn as nn\n",
    "import torch.nn.functional as F\n",
    "\n",
    "class ConvNetwork2(nn.Module):\n",
    "    def __init__(self):\n",
    "        super().__init__()\n",
    "        self.conv_layer1 = nn.Conv2d(1, 6, 4, 1)\n",
    "        self.conv_layer2 = nn.Conv2d(6, 16, 4, 1)\n",
    "        self.fc_layer1 = nn.Linear(4*4*16, 16)\n",
    "        self.fc_layer2 = nn.Linear(16, 14)\n",
    "        self.fc_layer3 = nn.Linear(14, 10)\n",
    "\n",
    "    def forward(self, x):\n",
    "        x = F.leaky_relu(self.conv_layer1(x), negative_slope=0.01)\n",
    "        x = F.max_pool2d(x, 2, 2)\n",
    "        x = F.leaky_relu(self.conv_layer2(x), negative_slope=0.01)\n",
    "        x = F.max_pool2d(x, 2, 2)\n",
    "        x = x.view(-1, 4*4*16)\n",
    "        x = F.leaky_relu(self.fc_layer1(x), negative_slope=0.01)\n",
    "        x = F.leaky_relu(self.fc_layer2(x), negative_slope=0.01)\n",
    "        x = self.fc_layer3(x)\n",
    "        return F.softmax(x, dim=1)  \n"
   ]
  },
  {
   "cell_type": "code",
   "execution_count": 58,
   "id": "6e406fc1-d78c-4bd3-9b62-4b4b37abd2cb",
   "metadata": {
    "tags": []
   },
   "outputs": [
    {
     "data": {
      "text/plain": [
       "ConvNetwork2(\n",
       "  (conv_layer1): Conv2d(1, 6, kernel_size=(4, 4), stride=(1, 1))\n",
       "  (conv_layer2): Conv2d(6, 16, kernel_size=(4, 4), stride=(1, 1))\n",
       "  (fc_layer1): Linear(in_features=256, out_features=16, bias=True)\n",
       "  (fc_layer2): Linear(in_features=16, out_features=14, bias=True)\n",
       "  (fc_layer3): Linear(in_features=14, out_features=10, bias=True)\n",
       ")"
      ]
     },
     "execution_count": 58,
     "metadata": {},
     "output_type": "execute_result"
    }
   ],
   "source": [
    "model2 = ConvNetwork2()\n",
    "model2\n"
   ]
  },
  {
   "cell_type": "code",
   "execution_count": 59,
   "id": "91924ae0-e05e-41fd-9a5a-997fa13068d0",
   "metadata": {
    "tags": []
   },
   "outputs": [],
   "source": [
    "criterion2 = nn.CrossEntropyLoss()\n",
    "optimizer2 = torch.optim.Adam(model2.parameters(), lr=0.001)\n"
   ]
  },
  {
   "cell_type": "code",
   "execution_count": 60,
   "id": "9ea84edc-38d7-4fbc-b1e3-59d65c532fb2",
   "metadata": {
    "tags": []
   },
   "outputs": [],
   "source": [
    "epochs = 20\n",
    "train_losses2 = []\n",
    "test_losses2 = []\n",
    "train_correct2 = []\n",
    "test_correct2 = []\n",
    "\n",
    "for i in range(epochs):\n",
    "    train_corr2 = 0\n",
    "    test_corr2 = 0\n",
    "    \n",
    "    # Training the batches\n",
    "    for b, (x_train, y_train) in enumerate(train_loader):\n",
    "        \n",
    "        # Applying the model\n",
    "        y_pred2 = model2(x_train)\n",
    "        loss2 = criterion2(y_pred2, y_train)\n",
    " \n",
    "        predicted2 = torch.max(y_pred2.data, 1)[1]\n",
    "        batch_corr2 = (predicted2 == y_train).sum()\n",
    "        train_corr2 += batch_corr2\n",
    "        \n",
    "        # Updating parameters\n",
    "        optimizer2.zero_grad()\n",
    "        loss2.backward()\n",
    "        optimizer2.step()\n",
    "        \n",
    "    train_losses2.append(loss2.item())\n",
    "    train_correct2.append(train_corr2.item())\n",
    "        \n",
    "    # Testing the batches\n",
    "    with torch.no_grad():\n",
    "        for b, (x_test, y_test) in enumerate(test_loader):\n",
    "            y_val = model2(x_test)\n",
    "            predicted2 = torch.max(y_val.data, 1)[1]\n",
    "            test_corr2 += (predicted2 == y_test).sum()\n",
    "            \n",
    "    test_loss2 = criterion2(y_val, y_test)\n",
    "    test_losses2.append(test_loss2.item())\n",
    "    test_correct2.append(test_corr2.item())\n"
   ]
  },
  {
   "cell_type": "code",
   "execution_count": 61,
   "id": "08467ee7-ec3a-4714-906b-5293d56d82b5",
   "metadata": {
    "tags": []
   },
   "outputs": [],
   "source": [
    "train_losses2 = torch.tensor(train_losses2)\n"
   ]
  },
  {
   "cell_type": "code",
   "execution_count": 62,
   "id": "0fe64bc0-a298-4943-8a44-bfb59aaf6f4c",
   "metadata": {
    "tags": []
   },
   "outputs": [
    {
     "data": {
      "image/png": "[encoded data removed]",
      "text/plain": [
       "<Figure size 640x480 with 1 Axes>"
      ]
     },
     "metadata": {},
     "output_type": "display_data"
    }
   ],
   "source": [
    "import matplotlib.pyplot as plt\n",
    "\n",
    "# Plotting training loss for all models\n",
    "plt.plot(train_losses.detach().numpy(), label='Training Loss Model 1')\n",
    "plt.plot(train_losses2.detach().numpy(), 'r', label='Training Loss Model 2')\n",
    "plt.title('Training Loss')\n",
    "plt.legend()\n",
    "plt.show()\n"
   ]
  },
  {
   "cell_type": "code",
   "execution_count": 63,
   "id": "ab9bf540-e6eb-49ea-9990-18354c18e0de",
   "metadata": {
    "tags": []
   },
   "outputs": [
    {
     "data": {
      "image/png": "[encoded data removed]",
      "text/plain": [
       "<Figure size 640x480 with 1 Axes>"
      ]
     },
     "metadata": {},
     "output_type": "display_data"
    }
   ],
   "source": [
    "import matplotlib.pyplot as plt\n",
    "\n",
    "# Plotting accuracy for all models\n",
    "plt.plot([t/600 for t in train_correct], 'g', label='Accuracy Model 1')\n",
    "plt.plot([t/600 for t in train_correct2], 'b', label='Accuracy Model 2')\n",
    "plt.title('Accuracy')\n",
    "plt.legend()\n",
    "plt.show()\n"
   ]
  },
  {
   "cell_type": "code",
   "execution_count": null,
   "id": "84871e08-337e-440f-b2c3-2c092c1973a2",
   "metadata": {},
   "outputs": [],
   "source": []
  }
 ],
 "metadata": {
  "kernelspec": {
   "display_name": "Python 3 (ipykernel)",
   "language": "python",
   "name": "python3"
  },
  "language_info": {
   "codemirror_mode": {
    "name": "ipython",
    "version": 3
   },
   "file_extension": ".py",
   "mimetype": "text/x-python",
   "name": "python",
   "nbconvert_exporter": "python",
   "pygments_lexer": "ipython3",
   "version": "3.11.5"
  }
 },
 "nbformat": 4,
 "nbformat_minor": 5
}
