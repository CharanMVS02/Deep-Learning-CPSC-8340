{
 "cells": [
  {
   "cell_type": "code",
   "execution_count": 23,
   "id": "9609bccc-8df9-40d1-8b84-211938c0ccaf",
   "metadata": {
    "tags": []
   },
   "outputs": [],
   "source": [
    "# Import numerical and plotting libraries\n",
    "import numpy as np\n",
    "import matplotlib.pyplot as plt\n",
    "\n",
    "# Import PyTorch and related libraries\n",
    "import torch\n",
    "import torch.nn as nn\n",
    "import torch.nn.functional as F\n",
    "import torch.optim as optim\n",
    "\n",
    "# Import torchvision and related components\n",
    "import torchvision as tv\n",
    "from torchvision import transforms, datasets\n",
    "\n",
    "# Ensure plots are displayed inline (if using Jupyter Notebook)\n",
    "%matplotlib inline\n"
   ]
  },
  {
   "cell_type": "code",
   "execution_count": 24,
   "id": "0f2131fb-8e17-422c-8ac0-3dd6f993479f",
   "metadata": {},
   "outputs": [],
   "source": [
    "# Create random data between (-10, 10) and determine ground truth\n",
    "sim_in = 20 * torch.rand((1000, 1)) - 10\n",
    "ground_truth = np.cos(sim_in)\n"
   ]
  },
  {
   "cell_type": "code",
   "execution_count": 25,
   "id": "9ce563c6-a4b4-48c1-a1fe-b403f795939a",
   "metadata": {
    "tags": []
   },
   "outputs": [],
   "source": [
    "# Calculate the number of parameters in a neural network\n",
    "def calc_params(input_model):\n",
    "    val = sum(params.numel() for params in input_model.parameters() if params.requires_grad)\n",
    "    return val\n"
   ]
  },
  {
   "cell_type": "code",
   "execution_count": 26,
   "id": "32b7d614-7073-4671-adc7-ab7d8c4c9d63",
   "metadata": {
    "tags": []
   },
   "outputs": [],
   "source": [
    "class OptimizeNN(nn.Module):\n",
    "    def __init__(self):\n",
    "        super().__init__()\n",
    "        self.fc_1 = nn.Linear(1, 9)\n",
    "        self.fc_2 = nn.Linear(9, 6)\n",
    "        self.fc_3 = nn.Linear(6, 1)\n",
    "\n",
    "    def forward(self, val):\n",
    "        val = F.relu(self.fc_1(val))\n",
    "        val = F.relu(self.fc_2(val))\n",
    "        val = self.fc_3(val)\n",
    "        return val\n"
   ]
  },
  {
   "cell_type": "code",
   "execution_count": 27,
   "id": "aac831af-6ba3-44f8-abfc-06f09527d425",
   "metadata": {
    "tags": []
   },
   "outputs": [],
   "source": [
    "# Set up necessary auxiliaries for neural net training\n",
    "optimize_net = OptimizeNN()\n",
    "cost_func = nn.MSELoss()\n",
    "optimizer = optim.Adam(optimize_net.parameters(), lr=0.001)\n"
   ]
  },
  {
   "cell_type": "code",
   "execution_count": 28,
   "id": "ab367f49-4aa8-4775-8763-f59fb7bae3e6",
   "metadata": {
    "tags": []
   },
   "outputs": [],
   "source": [
    "def min_ratio(weights):\n",
    "    count = 0\n",
    "    total = 0\n",
    "    for weight in weights:\n",
    "        if weight > 0:\n",
    "            count += 1\n",
    "        total += 1\n",
    "    return count / total\n"
   ]
  },
  {
   "cell_type": "code",
   "execution_count": 29,
   "id": "162c975f-5d29-4337-8c76-40ebe1b88788",
   "metadata": {
    "tags": []
   },
   "outputs": [],
   "source": [
    "def calculate_grad_norm(model):\n",
    "    grad_norms = []\n",
    "    for layer in model.modules():\n",
    "        if isinstance(layer, nn.Linear):\n",
    "            param_norm = layer.weight.grad.norm(2).item()\n",
    "            grad_norms.append(param_norm)\n",
    "\n",
    "    grad_mean = np.mean(grad_norms)  # compute mean of gradient norms\n",
    "    return grad_mean\n"
   ]
  },
  {
   "cell_type": "code",
   "execution_count": 30,
   "id": "bef7a230-bf3a-408d-a266-5bbf7ca124f2",
   "metadata": {
    "tags": []
   },
   "outputs": [],
   "source": [
    "min_ratio_list = []\n",
    "loss_list = []\n",
    "train_count = 100\n",
    "for i in range(train_count):\n",
    "    epochs = 100\n",
    "    total_loss = 0\n",
    "    # Set up necessary auxiliaries for neural net training\n",
    "    optimize_net = OptimizeNN()\n",
    "    cost_func = nn.MSELoss()\n",
    "    optimizer = optim.Adam(optimize_net.parameters(), lr=0.001)\n",
    "    \n",
    "    for epoch_index in range(epochs):\n",
    "        optimize_net.zero_grad()\n",
    "        output = optimize_net(sim_in)\n",
    "        cost = cost_func(output, ground_truth)\n",
    "        with torch.no_grad():\n",
    "            total_loss += cost_func(output, ground_truth)\n",
    "        cost.backward()\n",
    "        optimizer.step()\n",
    "    \n",
    "    loss_list.append(total_loss / len(sim_in))\n",
    "    num_params = calc_params(optimize_net)\n",
    "    \n",
    "    # Allocate Hessian size\n",
    "    hessian = torch.zeros((num_params, num_params))\n",
    "\n",
    "    y_hat = optimize_net(sim_in)\n",
    "    y = sim_in\n",
    "    loss = ((y_hat - y) ** 2).mean()\n",
    "    \n",
    "    # Calculate Jacobian w.r.t. model parameters\n",
    "    jacobian = torch.autograd.grad(loss, list(optimize_net.parameters()), create_graph=True)\n",
    "    jacobian = torch.cat([e.flatten() for e in jacobian])  # flatten\n",
    "\n",
    "    # Fill in Hessian\n",
    "    for i in range(num_params):\n",
    "        result = torch.autograd.grad(jacobian[i], list(optimize_net.parameters()), retain_graph=True)\n",
    "        hessian[i] = torch.cat([r.flatten() for r in result])  # flatten\n",
    "    \n",
    "    eigenvalues, _ = np.linalg.eig(hessian)\n",
    "    min_ratio_list.append(min_ratio(eigenvalues))\n"
   ]
  },
  {
   "cell_type": "code",
   "execution_count": 31,
   "id": "34994cd0-e075-4214-9e1f-d8a70403fc17",
   "metadata": {
    "tags": []
   },
   "outputs": [],
   "source": [
    "num_params = calc_params(optimize_net)"
   ]
  },
  {
   "cell_type": "code",
   "execution_count": 32,
   "id": "343351fe-a6a9-4304-bd25-844828b3d80b",
   "metadata": {
    "tags": []
   },
   "outputs": [],
   "source": [
    "hessian = torch.zeros((num_params, num_params))\n",
    "\n",
    "y_hat = optimize_net(sim_in)\n",
    "y = sim_in\n",
    "loss = ((y_hat - y) ** 2).mean()\n",
    "\n",
    "jacobian = torch.autograd.grad(loss, list(optimize_net.parameters()), create_graph=True)\n",
    "jacobian = torch.cat([e.flatten() for e in jacobian])  # flatten\n",
    "\n",
    "for i in range(num_params):\n",
    "    result = torch.autograd.grad(jacobian[i], list(optimize_net.parameters()), retain_graph=True)\n",
    "    hessian[i] = torch.cat([r.flatten() for r in result])  # flatten\n"
   ]
  },
  {
   "cell_type": "code",
   "execution_count": 34,
   "id": "34ea92f9-3060-4964-8f2c-fc0a00d63b71",
   "metadata": {
    "tags": []
   },
   "outputs": [
    {
     "data": {
      "text/plain": [
       "Text(0, 0.5, 'Loss')"
      ]
     },
     "execution_count": 34,
     "metadata": {},
     "output_type": "execute_result"
    },
    {
     "data": {
      "image/png": "[encoded data removed]",
      "text/plain": [
       "<Figure size 640x480 with 1 Axes>"
      ]
     },
     "metadata": {},
     "output_type": "display_data"
    }
   ],
   "source": [
    "plt.scatter(minRatio, Loss)\n",
    "plt.xlabel('Minimal Ratio')\n",
    "plt.scatter(min_ratio_list, loss_list)\n",
    "plt.xlabel('Minimal Ratio')\n",
    "plt.ylabel('Loss')\n",
    "plt.ylabel('Loss')"
   ]
  },
  {
   "cell_type": "code",
   "execution_count": null,
   "id": "98514216-d9e2-4994-970c-a7c0e06fb7af",
   "metadata": {},
   "outputs": [],
   "source": []
  }
 ],
 "metadata": {
  "kernelspec": {
   "display_name": "Python 3 (ipykernel)",
   "language": "python",
   "name": "python3"
  },
  "language_info": {
   "codemirror_mode": {
    "name": "ipython",
    "version": 3
   },
   "file_extension": ".py",
   "mimetype": "text/x-python",
   "name": "python",
   "nbconvert_exporter": "python",
   "pygments_lexer": "ipython3",
   "version": "3.11.5"
  }
 },
 "nbformat": 4,
 "nbformat_minor": 5
}
