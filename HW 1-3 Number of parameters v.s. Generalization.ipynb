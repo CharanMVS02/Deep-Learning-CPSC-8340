{
 "cells": [
  {
   "cell_type": "code",
   "execution_count": 4,
   "id": "c8d805eb-ac82-437d-80ae-e7266bf41c42",
   "metadata": {
    "tags": []
   },
   "outputs": [
    {
     "data": {
      "text/plain": [
       "<contextlib.ExitStack at 0x7fa3a245d710>"
      ]
     },
     "execution_count": 4,
     "metadata": {},
     "output_type": "execute_result"
    }
   ],
   "source": [
    "import torch\n",
    "import torch.nn as nn\n",
    "import torch.nn.functional as F\n",
    "from torch.utils.data import DataLoader\n",
    "from torchvision import datasets, transforms\n",
    "from torchvision.utils import make_grid\n",
    "\n",
    "import numpy as np\n",
    "import pandas as pd\n",
    "from sklearn.metrics import confusion_matrix\n",
    "import matplotlib.pyplot as plt\n",
    "\n",
    "# Enable inline plotting in Jupyter notebooks\n",
    "plt.ion()  # Alternative to '%matplotlib inline'\n"
   ]
  },
  {
   "cell_type": "code",
   "execution_count": 5,
   "id": "c76fec19-6b81-4d25-b3c9-e7ea3c4aaab7",
   "metadata": {
    "tags": []
   },
   "outputs": [],
   "source": [
    "# Define a transformation pipeline\n",
    "transform = transforms.Compose([\n",
    "    transforms.ToTensor()\n",
    "])\n"
   ]
  },
  {
   "cell_type": "code",
   "execution_count": 6,
   "id": "e77792a6-17b2-4aa8-b1c7-f47ab8ce4abe",
   "metadata": {
    "tags": []
   },
   "outputs": [],
   "source": [
    "# Define root directory for dataset\n",
    "data_root = 'C:\\\\Users\\\\venka\\\\DeepLearning'\n",
    "\n",
    "# Load training and test datasets\n",
    "train_data_set = datasets.MNIST(root=data_root, train=True, download=True, transform=transform)\n",
    "test_data_set = datasets.MNIST(root=data_root, train=False, download=True, transform=transform)\n"
   ]
  },
  {
   "cell_type": "code",
   "execution_count": 7,
   "id": "9d1a5e4d-5b05-4a28-8a68-1472ffadf244",
   "metadata": {
    "tags": []
   },
   "outputs": [
    {
     "data": {
      "text/plain": [
       "Dataset MNIST\n",
       "    Number of datapoints: 60000\n",
       "    Root location: C:\\Users\\venka\\DeepLearning\n",
       "    Split: Train\n",
       "    StandardTransform\n",
       "Transform: Compose(\n",
       "               ToTensor()\n",
       "           )"
      ]
     },
     "execution_count": 7,
     "metadata": {},
     "output_type": "execute_result"
    }
   ],
   "source": [
    "train_data_set"
   ]
  },
  {
   "cell_type": "code",
   "execution_count": 8,
   "id": "08991603-8868-432f-9537-7affdd1f8a9c",
   "metadata": {
    "tags": []
   },
   "outputs": [
    {
     "data": {
      "text/plain": [
       "Dataset MNIST\n",
       "    Number of datapoints: 10000\n",
       "    Root location: C:\\Users\\venka\\DeepLearning\n",
       "    Split: Test\n",
       "    StandardTransform\n",
       "Transform: Compose(\n",
       "               ToTensor()\n",
       "           )"
      ]
     },
     "execution_count": 8,
     "metadata": {},
     "output_type": "execute_result"
    }
   ],
   "source": [
    "test_data_set"
   ]
  },
  {
   "cell_type": "code",
   "execution_count": 9,
   "id": "f706fe51-97d3-443a-9f5a-bc562f404e04",
   "metadata": {
    "tags": []
   },
   "outputs": [],
   "source": [
    "# Set batch sizes for training and testing\n",
    "train_batch_size = 500\n",
    "test_batch_size = 100\n",
    "\n",
    "# Create DataLoaders for training and testing\n",
    "train_loader = DataLoader(train_data_set, batch_size=train_batch_size, shuffle=True)\n",
    "test_loader = DataLoader(test_data_set, batch_size=test_batch_size, shuffle=False)\n"
   ]
  },
  {
   "cell_type": "code",
   "execution_count": 10,
   "id": "d6a2c442-11b7-420b-bf99-8db6c3f7f0a2",
   "metadata": {
    "tags": []
   },
   "outputs": [],
   "source": [
    "def calculate_params(model):\n",
    "    \"\"\"Calculate the number of trainable parameters in a model.\"\"\"\n",
    "    return sum(param.numel() for param in model.parameters() if param.requires_grad)\n"
   ]
  },
  {
   "cell_type": "code",
   "execution_count": 11,
   "id": "5d7018ab-716d-490c-bf3d-6b5140e5e2ff",
   "metadata": {
    "tags": []
   },
   "outputs": [],
   "source": [
    "class Model1(nn.Module):\n",
    "    def __init__(self, in_features=784, hidden1=2, hidden2=5, out_features=10):\n",
    "        super(Model1, self).__init__()\n",
    "        # Define fully connected layers\n",
    "        self.fc1 = nn.Linear(in_features, hidden1)    \n",
    "        self.fc2 = nn.Linear(hidden1, hidden2)\n",
    "        self.output = nn.Linear(hidden2, out_features)\n",
    "        \n",
    "    def forward(self, x):\n",
    "        # Forward pass through the network with ReLU activations\n",
    "        x = F.relu(self.fc1(x))\n",
    "        x = F.relu(self.fc2(x))\n",
    "        x = self.output(x)\n",
    "        return x\n"
   ]
  },
  {
   "cell_type": "code",
   "execution_count": 12,
   "id": "364df24d-2191-4d92-b192-6cbf44aae508",
   "metadata": {
    "tags": []
   },
   "outputs": [],
   "source": [
    "model1=Model1()"
   ]
  },
  {
   "cell_type": "code",
   "execution_count": 13,
   "id": "407b5cb7-5fa5-4254-be91-644186f24ffa",
   "metadata": {
    "tags": []
   },
   "outputs": [
    {
     "data": {
      "text/plain": [
       "Model1(\n",
       "  (fc1): Linear(in_features=784, out_features=2, bias=True)\n",
       "  (fc2): Linear(in_features=2, out_features=5, bias=True)\n",
       "  (output): Linear(in_features=5, out_features=10, bias=True)\n",
       ")"
      ]
     },
     "execution_count": 13,
     "metadata": {},
     "output_type": "execute_result"
    }
   ],
   "source": [
    "model1"
   ]
  },
  {
   "cell_type": "code",
   "execution_count": 14,
   "id": "012dc106-1026-4cdc-b8d1-6bc21113b935",
   "metadata": {
    "tags": []
   },
   "outputs": [
    {
     "name": "stdout",
     "output_type": "stream",
     "text": [
      "Number of parameters in Model1: 1645\n"
     ]
    }
   ],
   "source": [
    "# Calculate the number of parameters\n",
    "model1_params = calculate_params(model1)\n",
    "\n",
    "# Print the number of parameters\n",
    "print(f\"Number of parameters in Model1: {model1_params}\")\n"
   ]
  },
  {
   "cell_type": "code",
   "execution_count": 15,
   "id": "76e21869-0527-415c-ab21-1f7c8b0711dd",
   "metadata": {
    "tags": []
   },
   "outputs": [],
   "source": [
    "def get_criterion():\n",
    "    \"\"\"Return the loss function used for classification tasks.\"\"\"\n",
    "    return nn.CrossEntropyLoss()\n",
    "\n",
    "# Example usage\n",
    "criterion1 = get_criterion()\n"
   ]
  },
  {
   "cell_type": "code",
   "execution_count": 16,
   "id": "a18e685f-1de9-43df-9878-c8c3fa8f8b28",
   "metadata": {
    "tags": []
   },
   "outputs": [],
   "source": [
    "def get_optimizer(model, lr=0.001):\n",
    "    \"\"\"Return an Adam optimizer for the given model with the specified learning rate.\"\"\"\n",
    "    return torch.optim.Adam(model1.parameters(), lr=lr)\n",
    "\n",
    "# Example usage\n",
    "optimizer1 = get_optimizer(model1)\n"
   ]
  },
  {
   "cell_type": "code",
   "execution_count": 17,
   "id": "d8c9b01a-36b9-4185-a544-1fc23b9846d1",
   "metadata": {
    "tags": []
   },
   "outputs": [],
   "source": [
    "epochs = 30\n",
    "train_correct_mod1 = []\n",
    "test_correct_mod1 = []\n",
    "for i in range(epochs):\n",
    "    train_corr = 0\n",
    "    test_corr = 0\n",
    "\n",
    "    # Run the training batches\n",
    "    for b, (X_train, y_train) in enumerate(train_loader):\n",
    "        \n",
    "        y_pred = model1(X_train.view(500, -1))  \n",
    "        loss = criterion1(y_pred, y_train)\n",
    "\n",
    "        # Tally the number of correct predictions\n",
    "        predicted = torch.max(y_pred.data, 1)[1]\n",
    "        batch_corr = (predicted == y_train).sum()\n",
    "        train_corr += batch_corr\n",
    "        \n",
    "        # Update parameters\n",
    "        optimizer1.zero_grad()\n",
    "        loss.backward()\n",
    "        optimizer1.step()\n",
    "        \n",
    "    # Update train loss & accuracy for the epoch\n",
    "    train_losses_mod1=loss\n",
    "    train_correct_mod1.append(train_corr)\n",
    "        \n",
    "    # Run the testing batches\n",
    "    with torch.no_grad():\n",
    "        for b, (X_test, y_test) in enumerate(test_loader):\n",
    "\n",
    "            # Apply the model\n",
    "            y_val = model1(X_test.view(100, -1)) \n",
    "\n",
    "            # Tally the number of correct predictions\n",
    "            predicted = torch.max(y_val.data, 1)[1] \n",
    "            test_corr += (predicted == y_test).sum()\n",
    "    \n",
    "    # Update test loss & accuracy for the epoch\n",
    "    loss = criterion1(y_val, y_test)\n",
    "    test_losses_mod1=(loss)\n",
    "    test_correct_mod1.append(test_corr)\n",
    "    "
   ]
  },
  {
   "cell_type": "code",
   "execution_count": 18,
   "id": "b669994d-36d9-421f-856e-c1f53d08522d",
   "metadata": {
    "tags": []
   },
   "outputs": [],
   "source": [
    "# Convert the list of training losses to a NumPy array\n",
    "train_losses_mod1= train_losses_mod1.detach().numpy()"
   ]
  },
  {
   "cell_type": "code",
   "execution_count": 115,
   "id": "c30a6674-1bd4-4ec8-999d-9719e45496aa",
   "metadata": {
    "tags": []
   },
   "outputs": [
    {
     "name": "stdout",
     "output_type": "stream",
     "text": [
      "tensor(67.7583)\n"
     ]
    }
   ],
   "source": [
    "# Calculate and print training accuracies for each epoch\n",
    "for t in train_correct_mod1:\n",
    "    trn_accu_mod1=t/600\n",
    "    \n",
    "print(trn_accu_mod1)"
   ]
  },
  {
   "cell_type": "code",
   "execution_count": 116,
   "id": "e48cf9d6-b854-4220-b50f-098af4140cd6",
   "metadata": {
    "tags": []
   },
   "outputs": [
    {
     "name": "stdout",
     "output_type": "stream",
     "text": [
      "tensor(68.3400)\n"
     ]
    }
   ],
   "source": [
    "for t in test_correct_mod1:\n",
    "    tst_accu_mod1=t/100\n",
    "    \n",
    "print(tst_accu_mod1)"
   ]
  },
  {
   "cell_type": "code",
   "execution_count": null,
   "id": "397fa62e-4105-43bf-b6a5-c5a5a34a5e7f",
   "metadata": {},
   "outputs": [],
   "source": [
    "#---------------------------------------Model2-------------------------------#"
   ]
  },
  {
   "cell_type": "code",
   "execution_count": 21,
   "id": "187e284f-7c25-41a1-9d56-b86fdf1e94a5",
   "metadata": {
    "tags": []
   },
   "outputs": [],
   "source": [
    "class Model2(nn.Module):\n",
    "    def __init__(self, input_size=784, hidden_size1=4, hidden_size2=6, output_size=10):\n",
    "        \"\"\"Initializes the layers of the model.\"\"\"\n",
    "        super(Model2, self).__init__()\n",
    "        self.fc1 = nn.Linear(input_size, hidden_size1)\n",
    "        self.fc2 = nn.Linear(hidden_size1, hidden_size2)\n",
    "        self.out = nn.Linear(hidden_size2, output_size)\n",
    "\n",
    "    def forward(self, x):\n",
    "        \"\"\"Defines the forward pass of the model.\"\"\"\n",
    "        x = F.relu(self.fc1(x))  # Apply ReLU to the first hidden layer\n",
    "        x = F.relu(self.fc2(x))  # Apply ReLU to the second hidden layer\n",
    "        x = self.out(x)  # Output layer\n",
    "        return x\n"
   ]
  },
  {
   "cell_type": "code",
   "execution_count": 22,
   "id": "b11a10a0-b529-468d-9175-17abeea4f7e0",
   "metadata": {
    "tags": []
   },
   "outputs": [
    {
     "data": {
      "text/plain": [
       "Model2(\n",
       "  (fc1): Linear(in_features=784, out_features=4, bias=True)\n",
       "  (fc2): Linear(in_features=4, out_features=6, bias=True)\n",
       "  (out): Linear(in_features=6, out_features=10, bias=True)\n",
       ")"
      ]
     },
     "execution_count": 22,
     "metadata": {},
     "output_type": "execute_result"
    }
   ],
   "source": [
    "model2=Model2()\n",
    "model2"
   ]
  },
  {
   "cell_type": "code",
   "execution_count": 23,
   "id": "30ac9308-3cff-4a52-8931-24b19cf4e199",
   "metadata": {
    "tags": []
   },
   "outputs": [
    {
     "name": "stdout",
     "output_type": "stream",
     "text": [
      "Number of parameters in Model2: 3240\n"
     ]
    }
   ],
   "source": [
    "# Define the function\n",
    "def CalcParams(model):\n",
    "    return sum(p.numel() for p in model.parameters() if p.requires_grad)\n",
    "\n",
    "# Calculate and print the number of trainable parameters in Model2\n",
    "model2_params = CalcParams(model2)\n",
    "print(f\"Number of parameters in Model2: {model2_params}\")\n"
   ]
  },
  {
   "cell_type": "code",
   "execution_count": 24,
   "id": "c6eda7c9-5580-4c75-9f61-7df169a6a90b",
   "metadata": {
    "tags": []
   },
   "outputs": [],
   "source": [
    "# Define the loss function for Model2\n",
    "loss_function2 = nn.CrossEntropyLoss()\n"
   ]
  },
  {
   "cell_type": "code",
   "execution_count": 25,
   "id": "6de0b19f-a324-482d-8894-949dc1ea8bae",
   "metadata": {
    "tags": []
   },
   "outputs": [],
   "source": [
    "# Define the optimizer for Model2\n",
    "optimizer2 = torch.optim.Adam(model2.parameters(), lr=0.001)\n"
   ]
  },
  {
   "cell_type": "code",
   "execution_count": 32,
   "id": "fc1910ad-0dae-4e2d-94e9-1f6d8ade9ee4",
   "metadata": {
    "tags": []
   },
   "outputs": [],
   "source": [
    "epochs = 30\n",
    "train_correct_mod2 = []\n",
    "test_correct_mod2 = []\n",
    "\n",
    "for i in range(epochs):\n",
    "    train_corr = 0\n",
    "    test_corr = 0\n",
    "    # Run the training batches\n",
    "    for b, (X_train, y_train) in enumerate(train_loader):\n",
    "       \n",
    "        y_pred = model2(X_train.view(500, -1))  \n",
    "        loss = loss_function2(y_pred, y_train)\n",
    "\n",
    "        # Tally the number of correct predictions\n",
    "        predicted = torch.max(y_pred.data, 1)[1]\n",
    "        batch_corr = (predicted == y_train).sum()\n",
    "        train_corr += batch_corr\n",
    "        \n",
    "        \n",
    "              \n",
    "        # Update parameters\n",
    "        optimizer2.zero_grad()\n",
    "        loss.backward()\n",
    "        optimizer2.step()\n",
    "        \n",
    "#     print(train_corr.item()*100/(100*b))\n",
    "    # Update train loss & accuracy for the epoch\n",
    "    train_losses_mod2=loss\n",
    "    train_correct_mod2.append(train_corr)\n",
    "        \n",
    "    # Run the testing batches\n",
    "    with torch.no_grad():\n",
    "        for b, (X_test, y_test) in enumerate(test_loader):\n",
    "\n",
    "            # Apply the model\n",
    "            y_val = model2(X_test.view(100, -1)) \n",
    "\n",
    "            # Tally the number of correct predictions\n",
    "            predicted = torch.max(y_val.data, 1)[1] \n",
    "            test_corr += (predicted == y_test).sum()\n",
    "    \n",
    "    # Update test loss & accuracy for the epoch\n",
    "    loss = loss_function2(y_val, y_test)\n",
    "    test_losses_mod2=(loss)\n",
    "    test_correct_mod2.append(test_corr)\n",
    "        "
   ]
  },
  {
   "cell_type": "code",
   "execution_count": 33,
   "id": "98bac6eb-6e45-436e-a3ec-95ec0231affe",
   "metadata": {
    "tags": []
   },
   "outputs": [],
   "source": [
    "\n",
    "train_losses_mod2= train_losses_mod2.detach().numpy()"
   ]
  },
  {
   "cell_type": "code",
   "execution_count": 34,
   "id": "97b2df93-abba-4d5c-b6eb-46c0a6b8d629",
   "metadata": {
    "tags": []
   },
   "outputs": [
    {
     "name": "stdout",
     "output_type": "stream",
     "text": [
      "tensor(88.7217)\n"
     ]
    }
   ],
   "source": [
    "for t in train_correct_mod2:\n",
    "    trn_accu_mod2=t/600\n",
    "    \n",
    "print(trn_accu_mod2)"
   ]
  },
  {
   "cell_type": "code",
   "execution_count": 35,
   "id": "adfdb64f-9664-4831-9f57-7b84fe22aabe",
   "metadata": {
    "tags": []
   },
   "outputs": [
    {
     "name": "stdout",
     "output_type": "stream",
     "text": [
      "tensor(87.7500)\n"
     ]
    }
   ],
   "source": [
    "for t in test_correct_mod2:\n",
    "    tst_accu_mod2=t/100\n",
    "    \n",
    "print(tst_accu_mod2)"
   ]
  },
  {
   "cell_type": "code",
   "execution_count": null,
   "id": "b196afd6-3379-497f-b277-7a391ad53b3f",
   "metadata": {},
   "outputs": [],
   "source": [
    "#----------------------------------------------------Model3------------------------------------------#"
   ]
  },
  {
   "cell_type": "code",
   "execution_count": 36,
   "id": "2181b2a0-1645-497e-ba3b-840a27919f78",
   "metadata": {
    "tags": []
   },
   "outputs": [],
   "source": [
    "class Model3(nn.Module):\n",
    "    def __init__(self, in_features=784, h1=10, h2=20, out_features=10):\n",
    "        super(Model3, self).__init__()\n",
    "        self.fc1 = nn.Linear(in_features, h1)\n",
    "        self.fc2 = nn.Linear(h1, h2)\n",
    "        self.out = nn.Linear(h2, out_features)\n",
    "        \n",
    "    def forward(self, x):\n",
    "        x = F.relu(self.fc1(x))\n",
    "        x = F.relu(self.fc2(x))\n",
    "        x = self.out(x)\n",
    "        return x\n"
   ]
  },
  {
   "cell_type": "code",
   "execution_count": 37,
   "id": "4b083995-a496-4fdc-b313-db37aff55e5f",
   "metadata": {
    "tags": []
   },
   "outputs": [
    {
     "data": {
      "text/plain": [
       "Model3(\n",
       "  (fc1): Linear(in_features=784, out_features=10, bias=True)\n",
       "  (fc2): Linear(in_features=10, out_features=20, bias=True)\n",
       "  (out): Linear(in_features=20, out_features=10, bias=True)\n",
       ")"
      ]
     },
     "execution_count": 37,
     "metadata": {},
     "output_type": "execute_result"
    }
   ],
   "source": [
    "model3=Model3()\n",
    "model3"
   ]
  },
  {
   "cell_type": "code",
   "execution_count": 38,
   "id": "ab3df50d-9fa4-4df5-a474-9f031f1556b6",
   "metadata": {
    "tags": []
   },
   "outputs": [
    {
     "name": "stdout",
     "output_type": "stream",
     "text": [
      "Model3 Parameters: 8280\n"
     ]
    }
   ],
   "source": [
    "# Define CalcParams if not already defined\n",
    "def CalcParams(model):\n",
    "    return sum(p.numel() for p in model.parameters() if p.requires_grad)\n",
    "\n",
    "# Create an instance of Model3\n",
    "model3 = Model3()\n",
    "\n",
    "# Calculate the number of parameters in model3\n",
    "model3params = CalcParams(model3)\n",
    "print(f'Model3 Parameters: {model3params}')\n"
   ]
  },
  {
   "cell_type": "code",
   "execution_count": 39,
   "id": "c65a2418-5e1c-4a89-8171-c6a370c51e86",
   "metadata": {
    "tags": []
   },
   "outputs": [],
   "source": [
    "# Define loss function\n",
    "criterion3 = nn.CrossEntropyLoss()\n",
    "\n",
    "# Define optimizer\n",
    "optimizer3 = torch.optim.Adam(model3.parameters(), lr=0.001)\n"
   ]
  },
  {
   "cell_type": "code",
   "execution_count": 40,
   "id": "a17a2204-87ac-4e12-8756-398bf45f1e53",
   "metadata": {
    "tags": []
   },
   "outputs": [],
   "source": [
    "epochs = 30\n",
    "train_correct_mod3 = []\n",
    "test_correct_mod3 = []\n",
    "for i in range(epochs):\n",
    "    train_corr = 0\n",
    "    test_corr = 0\n",
    "    \n",
    "    # Run the training batches\n",
    "    for b, (X_train, y_train) in enumerate(train_loader):\n",
    "       \n",
    "        y_pred = model3(X_train.view(500, -1))  \n",
    "        loss = criterion3(y_pred, y_train)\n",
    "\n",
    "        # Tally the number of correct predictions\n",
    "        predicted = torch.max(y_pred.data, 1)[1]\n",
    "        batch_corr = (predicted == y_train).sum()\n",
    "        train_corr += batch_corr\n",
    "        \n",
    "        # Update parameters\n",
    "        optimizer3.zero_grad()\n",
    "        loss.backward()\n",
    "        optimizer3.step()\n",
    "        \n",
    "    # Update train loss & accuracy for the epoch\n",
    "    train_losses_mod3=loss\n",
    "    train_correct_mod3.append(train_corr)\n",
    "        \n",
    "    # Run the testing batches\n",
    "    with torch.no_grad():\n",
    "        for b, (X_test, y_test) in enumerate(test_loader):\n",
    "\n",
    "            # Apply the model\n",
    "            y_val = model3(X_test.view(100, -1)) \n",
    "\n",
    "            # Tally the number of correct predictions\n",
    "            predicted = torch.max(y_val.data, 1)[1] \n",
    "            test_corr += (predicted == y_test).sum()\n",
    "    \n",
    "    # Update test loss & accuracy for the epoch\n",
    "    loss = criterion3(y_val, y_test)\n",
    "    test_losses_mod3=loss\n",
    "    test_correct_mod3.append(test_corr)"
   ]
  },
  {
   "cell_type": "code",
   "execution_count": 43,
   "id": "76dea7c6-b0e9-419c-a355-e97caf5196dc",
   "metadata": {
    "tags": []
   },
   "outputs": [],
   "source": [
    "train_losses_mod3= train_losses_mod3.detach().numpy()"
   ]
  },
  {
   "cell_type": "code",
   "execution_count": 44,
   "id": "918d33e9-8125-48d5-b145-a2c306145f54",
   "metadata": {
    "tags": []
   },
   "outputs": [
    {
     "name": "stdout",
     "output_type": "stream",
     "text": [
      "tensor(94.5467)\n"
     ]
    }
   ],
   "source": [
    "for t in train_correct_mod3:\n",
    "    trn_accu_mod3=t/600\n",
    "    \n",
    "print(trn_accu_mod3)"
   ]
  },
  {
   "cell_type": "code",
   "execution_count": 45,
   "id": "eb3141dd-1852-4b01-a2bb-31c8145aaa53",
   "metadata": {
    "tags": []
   },
   "outputs": [
    {
     "name": "stdout",
     "output_type": "stream",
     "text": [
      "tensor(93.8000)\n"
     ]
    }
   ],
   "source": [
    "for t in test_correct_mod3:\n",
    "    tst_accu_mod3=t/100\n",
    "    \n",
    "print(tst_accu_mod3)"
   ]
  },
  {
   "cell_type": "code",
   "execution_count": null,
   "id": "394a244a-0204-45d0-9ddb-43971d94d086",
   "metadata": {},
   "outputs": [],
   "source": [
    "#---------------------------------------------------Model4----------------------------------------#"
   ]
  },
  {
   "cell_type": "code",
   "execution_count": 46,
   "id": "d492d40d-838c-4532-ac1a-ba14bc39df45",
   "metadata": {
    "tags": []
   },
   "outputs": [],
   "source": [
    "class Model4(nn.Module):\n",
    "    def __init__(self, in_features=784, h1=20, h2=40, out_features=10):\n",
    "        super(Model4, self).__init__()\n",
    "        self.fc1 = nn.Linear(in_features, h1)    \n",
    "        self.fc2 = nn.Linear(h1, h2)\n",
    "        self.out = nn.Linear(h2, out_features)\n",
    "        \n",
    "    def forward(self, x):\n",
    "        x = F.relu(self.fc1(x))\n",
    "        x = F.relu(self.fc2(x))\n",
    "        x = self.out(x)\n",
    "        return x\n"
   ]
  },
  {
   "cell_type": "code",
   "execution_count": 47,
   "id": "450670e0-04c7-4e23-9792-941d61433386",
   "metadata": {
    "tags": []
   },
   "outputs": [
    {
     "data": {
      "text/plain": [
       "Model4(\n",
       "  (fc1): Linear(in_features=784, out_features=20, bias=True)\n",
       "  (fc2): Linear(in_features=20, out_features=40, bias=True)\n",
       "  (out): Linear(in_features=40, out_features=10, bias=True)\n",
       ")"
      ]
     },
     "execution_count": 47,
     "metadata": {},
     "output_type": "execute_result"
    }
   ],
   "source": [
    "model4=Model4()\n",
    "model4"
   ]
  },
  {
   "cell_type": "code",
   "execution_count": 48,
   "id": "d2414f0b-c526-4589-9118-954f0974c7f5",
   "metadata": {
    "tags": []
   },
   "outputs": [
    {
     "name": "stdout",
     "output_type": "stream",
     "text": [
      "16950\n"
     ]
    }
   ],
   "source": [
    "# Assuming CalcParams function is defined as follows\n",
    "def CalcParams(model):\n",
    "    return sum(p.numel() for p in model.parameters() if p.requires_grad)\n",
    "\n",
    "# Instantiate the model\n",
    "model4 = Model4()\n",
    "\n",
    "# Calculate the number of parameters\n",
    "model4params = CalcParams(model4)\n",
    "print(model4params)\n"
   ]
  },
  {
   "cell_type": "code",
   "execution_count": 49,
   "id": "1f8c6642-553a-4a30-8c6c-46643fb24cbe",
   "metadata": {
    "tags": []
   },
   "outputs": [],
   "source": [
    "# Define loss function\n",
    "criterion4 = nn.CrossEntropyLoss()\n",
    "\n",
    "# Define optimizer\n",
    "optimizer4 = torch.optim.Adam(model4.parameters(), lr=0.001)\n"
   ]
  },
  {
   "cell_type": "code",
   "execution_count": 50,
   "id": "6e219c9e-fa11-45cb-8f6f-fc081b5748ed",
   "metadata": {
    "tags": []
   },
   "outputs": [],
   "source": [
    "epochs = 30\n",
    "train_correct_mod4 = []\n",
    "test_correct_mod4 = []\n",
    "for i in range(epochs):\n",
    "    train_corr = 0\n",
    "    test_corr = 0\n",
    "    \n",
    "    # Run the training batches\n",
    "    for b, (X_train, y_train) in enumerate(train_loader):\n",
    "       \n",
    "        y_pred = model4(X_train.view(500, -1))  \n",
    "        loss = criterion4(y_pred, y_train)\n",
    "\n",
    "        # Tally the number of correct predictions\n",
    "        predicted = torch.max(y_pred.data, 1)[1]\n",
    "        batch_corr = (predicted == y_train).sum()\n",
    "        train_corr += batch_corr\n",
    "        \n",
    "        # Update parameters\n",
    "        optimizer4.zero_grad()\n",
    "        loss.backward()\n",
    "        optimizer4.step()\n",
    "        \n",
    "    # Update train loss & accuracy for the epoch\n",
    "    train_losses_mod4=loss\n",
    "    train_correct_mod4.append(train_corr)\n",
    "        \n",
    "    # Run the testing batches\n",
    "    with torch.no_grad():\n",
    "        for b, (X_test, y_test) in enumerate(test_loader):\n",
    "\n",
    "            # Apply the model\n",
    "            y_val = model4(X_test.view(100, -1)) \n",
    "\n",
    "            # Tally the number of correct predictions\n",
    "            predicted = torch.max(y_val.data, 1)[1] \n",
    "            test_corr += (predicted == y_test).sum()\n",
    "    \n",
    "    # Update test loss & accuracy for the epoch\n",
    "    loss = criterion4(y_val, y_test)\n",
    "    test_losses_mod4=loss\n",
    "    test_correct_mod4.append(test_corr)"
   ]
  },
  {
   "cell_type": "code",
   "execution_count": 52,
   "id": "0bf365eb-2ebb-48a8-a6e6-646e48799fe4",
   "metadata": {
    "tags": []
   },
   "outputs": [],
   "source": [
    "train_losses_mod4 = train_losses_mod4.detach().numpy()"
   ]
  },
  {
   "cell_type": "code",
   "execution_count": 53,
   "id": "023f3ab9-f3a0-4ca7-a322-be73333fa1bf",
   "metadata": {
    "tags": []
   },
   "outputs": [
    {
     "name": "stdout",
     "output_type": "stream",
     "text": [
      "tensor(97.1400)\n"
     ]
    }
   ],
   "source": [
    "for t in train_correct_mod4:\n",
    "    trn_accu_mod4=t/600\n",
    "    \n",
    "print(trn_accu_mod4)"
   ]
  },
  {
   "cell_type": "code",
   "execution_count": 54,
   "id": "09e48293-fb82-476f-bc5c-f38af2d2b8a2",
   "metadata": {
    "tags": []
   },
   "outputs": [
    {
     "name": "stdout",
     "output_type": "stream",
     "text": [
      "tensor(96.1400)\n"
     ]
    }
   ],
   "source": [
    "for t in test_correct_mod4:\n",
    "    tst_accu_mod4=t/100\n",
    "    \n",
    "print(tst_accu_mod4)\n"
   ]
  },
  {
   "cell_type": "code",
   "execution_count": null,
   "id": "3b0251f7-2419-49f3-ab0a-9ee1531e77d9",
   "metadata": {},
   "outputs": [],
   "source": [
    "#--------------------------------------------------Model5---------------------------------------#"
   ]
  },
  {
   "cell_type": "code",
   "execution_count": 55,
   "id": "0a5e2f4f-654f-49cb-958d-5aaa7adf3110",
   "metadata": {
    "tags": []
   },
   "outputs": [],
   "source": [
    "class Model5(nn.Module):\n",
    "    def __init__(self, in_features=784, h1=50, h2=80, out_features=10):\n",
    "        super().__init__()\n",
    "        self.fc1 = nn.Linear(in_features, h1)    \n",
    "        self.fc2 = nn.Linear(h1, h2)\n",
    "        self.out = nn.Linear(h2, out_features)\n",
    "        \n",
    "    def forward(self, x):\n",
    "        x = F.relu(self.fc1(x))\n",
    "        x = F.relu(self.fc2(x))\n",
    "        x = self.out(x)\n",
    "        return x\n"
   ]
  },
  {
   "cell_type": "code",
   "execution_count": 56,
   "id": "e80a2a0a-7f1d-4204-8398-e198680b6977",
   "metadata": {
    "tags": []
   },
   "outputs": [
    {
     "data": {
      "text/plain": [
       "Model5(\n",
       "  (fc1): Linear(in_features=784, out_features=50, bias=True)\n",
       "  (fc2): Linear(in_features=50, out_features=80, bias=True)\n",
       "  (out): Linear(in_features=80, out_features=10, bias=True)\n",
       ")"
      ]
     },
     "execution_count": 56,
     "metadata": {},
     "output_type": "execute_result"
    }
   ],
   "source": [
    "model5=Model5()\n",
    "model5"
   ]
  },
  {
   "cell_type": "code",
   "execution_count": 57,
   "id": "6d4adb01-58a3-4ae6-97bc-895a806ddb3e",
   "metadata": {
    "tags": []
   },
   "outputs": [
    {
     "name": "stdout",
     "output_type": "stream",
     "text": [
      "44140\n"
     ]
    }
   ],
   "source": [
    "# Initialize Model5\n",
    "model5 = Model5()\n",
    "\n",
    "# Calculate the number of parameters in Model5\n",
    "model5params = CalcParams(model5)\n",
    "\n",
    "# Print the number of parameters\n",
    "print(model5params)\n"
   ]
  },
  {
   "cell_type": "code",
   "execution_count": 58,
   "id": "f2e0add7-c749-4d22-a0bf-002217c8e91f",
   "metadata": {
    "tags": []
   },
   "outputs": [],
   "source": [
    "# Define the loss function\n",
    "criterion5 = nn.CrossEntropyLoss()\n",
    "\n",
    "# Define the optimizer\n",
    "optimizer5 = torch.optim.Adam(model5.parameters(), lr=0.001)\n"
   ]
  },
  {
   "cell_type": "code",
   "execution_count": 59,
   "id": "a099b5a5-4c71-4de7-9fe8-146498277f20",
   "metadata": {
    "tags": []
   },
   "outputs": [],
   "source": [
    "epochs = 30\n",
    "train_correct_mod5 = []\n",
    "test_correct_mod5 = []\n",
    "\n",
    "for epoch in range(epochs):\n",
    "    train_corr = 0\n",
    "    test_corr = 0\n",
    "    \n",
    "    # Run the training batches\n",
    "    for X_train, y_train in train_loader:\n",
    "        # Forward pass\n",
    "        y_pred = model5(X_train.view(X_train.size(0), -1))  \n",
    "        loss = criterion5(y_pred, y_train)\n",
    "\n",
    "        # Tally the number of correct predictions\n",
    "        predicted = torch.max(y_pred.data, 1)[1]\n",
    "        batch_corr = (predicted == y_train).sum()\n",
    "        train_corr += batch_corr\n",
    "        \n",
    "        # Update parameters\n",
    "        optimizer5.zero_grad()\n",
    "        loss.backward()\n",
    "        optimizer5.step()\n",
    "        \n",
    "    # Update train loss & accuracy for the epoch\n",
    "    train_losses_mod5 = loss.item()  # Use .item() to get a Python number from a tensor\n",
    "    train_correct_mod5.append(train_corr.item())  # Use .item() for correct predictions\n",
    "    \n",
    "    # Run the testing batches\n",
    "    with torch.no_grad():\n",
    "        for X_test, y_test in test_loader:\n",
    "            # Forward pass\n",
    "            y_val = model5(X_test.view(X_test.size(0), -1)) \n",
    "\n",
    "            # Tally the number of correct predictions\n",
    "            predicted = torch.max(y_val.data, 1)[1] \n",
    "            test_corr += (predicted == y_test).sum()\n",
    "    \n",
    "    # Update test loss & accuracy for the epoch\n",
    "    test_losses_mod5 = criterion5(y_val, y_test).item()  # Use .item() for loss\n",
    "    test_correct_mod5.append(test_corr.item())  # Use .item() for correct predictions\n"
   ]
  },
  {
   "cell_type": "code",
   "execution_count": 60,
   "id": "226991ef-c377-4411-8073-d47f73c00258",
   "metadata": {
    "tags": []
   },
   "outputs": [],
   "source": [
    "# Convert train_losses_mod5 to a NumPy array if necessary\n",
    "# This conversion is only needed if you need to handle the loss values as an array later.\n",
    "# If train_losses_mod5 is a single number, you can omit this conversion.\n",
    "\n",
    "train_losses_mod5 = np.array([train_losses_mod5])  # Wrap in a list to convert to a single-element NumPy array\n"
   ]
  },
  {
   "cell_type": "code",
   "execution_count": 61,
   "id": "66bea897-20a0-4852-91d7-bd9c1974aedf",
   "metadata": {
    "tags": []
   },
   "outputs": [
    {
     "name": "stdout",
     "output_type": "stream",
     "text": [
      "99.17166666666667\n"
     ]
    }
   ],
   "source": [
    "for t in train_correct_mod5:\n",
    "    trn_accu_mod5=t/600\n",
    "    \n",
    "print(trn_accu_mod5)"
   ]
  },
  {
   "cell_type": "code",
   "execution_count": 62,
   "id": "11762fb7-4142-4863-b57c-e54072ff02d8",
   "metadata": {
    "tags": []
   },
   "outputs": [
    {
     "name": "stdout",
     "output_type": "stream",
     "text": [
      "97.61\n"
     ]
    }
   ],
   "source": [
    "for t in test_correct_mod5:\n",
    "    tst_accu_mod5=t/100\n",
    "    \n",
    "print(tst_accu_mod5)"
   ]
  },
  {
   "cell_type": "code",
   "execution_count": null,
   "id": "eeedc5e1-1ad6-47c2-8703-854470fda48f",
   "metadata": {},
   "outputs": [],
   "source": [
    "#-----------------------------------------------------Model6---------------------------------#"
   ]
  },
  {
   "cell_type": "code",
   "execution_count": 63,
   "id": "40085901-fc18-4232-b0d2-ed260748f699",
   "metadata": {
    "tags": []
   },
   "outputs": [],
   "source": [
    "class Model6(nn.Module):\n",
    "    def __init__(self, in_features=784, hidden1=100, hidden2=120, out_features=10):\n",
    "        super().__init__()\n",
    "        self.fc1 = nn.Linear(in_features, hidden1)    \n",
    "        self.fc2 = nn.Linear(hidden1, hidden2)\n",
    "        self.out = nn.Linear(hidden2, out_features)\n",
    "        \n",
    "    def forward(self, x):\n",
    "        x = F.relu(self.fc1(x))\n",
    "        x = F.relu(self.fc2(x))\n",
    "        x = self.out(x)\n",
    "        return x\n"
   ]
  },
  {
   "cell_type": "code",
   "execution_count": 64,
   "id": "04573db4-c1cd-4d78-a66e-54a5464b778a",
   "metadata": {
    "tags": []
   },
   "outputs": [
    {
     "data": {
      "text/plain": [
       "Model6(\n",
       "  (fc1): Linear(in_features=784, out_features=100, bias=True)\n",
       "  (fc2): Linear(in_features=100, out_features=120, bias=True)\n",
       "  (out): Linear(in_features=120, out_features=10, bias=True)\n",
       ")"
      ]
     },
     "execution_count": 64,
     "metadata": {},
     "output_type": "execute_result"
    }
   ],
   "source": [
    "model6=Model6()\n",
    "model6"
   ]
  },
  {
   "cell_type": "code",
   "execution_count": 65,
   "id": "86145205-4667-4fba-8d8e-ed010807f781",
   "metadata": {
    "tags": []
   },
   "outputs": [
    {
     "name": "stdout",
     "output_type": "stream",
     "text": [
      "91830\n"
     ]
    }
   ],
   "source": [
    "# Instantiate Model6\n",
    "model6 = Model6()\n",
    "\n",
    "# Calculate and print the number of parameters\n",
    "model6params = CalcParams(model6)\n",
    "print(model6params)\n"
   ]
  },
  {
   "cell_type": "code",
   "execution_count": 66,
   "id": "e6b48b33-a781-4300-92a7-e3c91924e608",
   "metadata": {
    "tags": []
   },
   "outputs": [],
   "source": [
    "# Define loss function and optimizer for Model6\n",
    "criterion6 = nn.CrossEntropyLoss()\n",
    "optimizer6 = torch.optim.Adam(model6.parameters(), lr=0.001)\n"
   ]
  },
  {
   "cell_type": "code",
   "execution_count": 67,
   "id": "8262c65d-08a1-409a-889e-9f2a2b346e12",
   "metadata": {
    "tags": []
   },
   "outputs": [],
   "source": [
    "epochs = 30\n",
    "train_correct_mod6 = []\n",
    "test_correct_mod6 = []\n",
    "\n",
    "for epoch in range(epochs):\n",
    "    train_corr = 0\n",
    "    test_corr = 0\n",
    "\n",
    "    # Run the training batches\n",
    "    for b, (X_train, y_train) in enumerate(train_loader):\n",
    "        # Forward pass\n",
    "        y_pred = model6(X_train.view(500, -1))\n",
    "        loss = criterion6(y_pred, y_train)\n",
    "\n",
    "        # Tally the number of correct predictions\n",
    "        predicted = torch.max(y_pred.data, 1)[1]\n",
    "        batch_corr = (predicted == y_train).sum()\n",
    "        train_corr += batch_corr\n",
    "\n",
    "        # Update parameters\n",
    "        optimizer6.zero_grad()\n",
    "        loss.backward()\n",
    "        optimizer6.step()\n",
    "\n",
    "    # Update train loss & accuracy for the epoch\n",
    "    train_losses_mod6 = loss.detach().numpy()\n",
    "    train_correct_mod6.append(train_corr.item())\n",
    "\n",
    "    # Run the testing batches\n",
    "    with torch.no_grad():\n",
    "        for b, (X_test, y_test) in enumerate(test_loader):\n",
    "            # Forward pass\n",
    "            y_val = model6(X_test.view(100, -1))\n",
    "\n",
    "            # Tally the number of correct predictions\n",
    "            predicted = torch.max(y_val.data, 1)[1]\n",
    "            test_corr += (predicted == y_test).sum()\n",
    "\n",
    "    # Update test loss & accuracy for the epoch\n",
    "    loss = criterion6(y_val, y_test)\n",
    "    test_losses_mod6 = loss.detach().numpy()\n",
    "    test_correct_mod6.append(test_corr.item())\n"
   ]
  },
  {
   "cell_type": "code",
   "execution_count": 68,
   "id": "a182bf0b-a7db-4a1d-983f-140c2f4a88dc",
   "metadata": {
    "tags": []
   },
   "outputs": [],
   "source": [
    "# Make sure train_losses_mod6 is a tensor\n",
    "if isinstance(train_losses_mod6, torch.Tensor):\n",
    "    train_losses_mod6 = train_losses_mod6.detach().numpy()\n"
   ]
  },
  {
   "cell_type": "code",
   "execution_count": 69,
   "id": "c65787b2-f69d-40ac-8cee-4882cd73197e",
   "metadata": {
    "tags": []
   },
   "outputs": [
    {
     "name": "stdout",
     "output_type": "stream",
     "text": [
      "99.88333333333334\n"
     ]
    }
   ],
   "source": [
    "for t in train_correct_mod6:\n",
    "    trn_accu_mod6=t/600\n",
    "    \n",
    "print(trn_accu_mod6)"
   ]
  },
  {
   "cell_type": "code",
   "execution_count": 70,
   "id": "17a33a5f-cc26-4d77-9b43-e4f61292ef3f",
   "metadata": {
    "tags": []
   },
   "outputs": [
    {
     "name": "stdout",
     "output_type": "stream",
     "text": [
      "97.72\n"
     ]
    }
   ],
   "source": [
    "for t in test_correct_mod6:\n",
    "    tst_accu_mod6=t/100\n",
    "    \n",
    "print(tst_accu_mod6)"
   ]
  },
  {
   "cell_type": "code",
   "execution_count": null,
   "id": "ee17448e-f445-4369-a311-e176f3f3a2a5",
   "metadata": {},
   "outputs": [],
   "source": [
    "#------------------------------------------------------Model7----------------------------------------#"
   ]
  },
  {
   "cell_type": "code",
   "execution_count": 71,
   "id": "14c79bde-bf43-4e05-8952-d2217caa1484",
   "metadata": {
    "tags": []
   },
   "outputs": [],
   "source": [
    "class Model7(nn.Module):\n",
    "    def __init__(self, in_features=784, h1=180, h2=100, out_features=10):\n",
    "        super(Model7, self).__init__()\n",
    "        self.fc1 = nn.Linear(in_features, h1)\n",
    "        self.fc2 = nn.Linear(h1, h2)\n",
    "        self.out = nn.Linear(h2, out_features)\n",
    "        \n",
    "    def forward(self, x):\n",
    "        x = F.relu(self.fc1(x))\n",
    "        x = F.relu(self.fc2(x))\n",
    "        x = self.out(x)\n",
    "        return x\n"
   ]
  },
  {
   "cell_type": "code",
   "execution_count": 72,
   "id": "c0a7d2a5-5dd6-4d00-ad25-0bb018825ccc",
   "metadata": {
    "tags": []
   },
   "outputs": [
    {
     "data": {
      "text/plain": [
       "Model7(\n",
       "  (fc1): Linear(in_features=784, out_features=180, bias=True)\n",
       "  (fc2): Linear(in_features=180, out_features=100, bias=True)\n",
       "  (out): Linear(in_features=100, out_features=10, bias=True)\n",
       ")"
      ]
     },
     "execution_count": 72,
     "metadata": {},
     "output_type": "execute_result"
    }
   ],
   "source": [
    "model7=Model7()\n",
    "model7"
   ]
  },
  {
   "cell_type": "code",
   "execution_count": 73,
   "id": "ccae8a4c-faba-4827-a774-68deb4544296",
   "metadata": {
    "tags": []
   },
   "outputs": [
    {
     "name": "stdout",
     "output_type": "stream",
     "text": [
      "160410\n"
     ]
    }
   ],
   "source": [
    "model7 = Model7()\n",
    "model7params = CalcParams(model7)\n",
    "print(model7params)\n"
   ]
  },
  {
   "cell_type": "code",
   "execution_count": 74,
   "id": "1bb6eedd-7791-4c31-b786-26f8bf723cf7",
   "metadata": {
    "tags": []
   },
   "outputs": [],
   "source": [
    "criterion7 = nn.CrossEntropyLoss()\n",
    "optimizer7 = torch.optim.Adam(model7.parameters(), lr=0.001)\n"
   ]
  },
  {
   "cell_type": "code",
   "execution_count": 75,
   "id": "a47aade6-9e04-473f-a4c3-50840cbf1357",
   "metadata": {
    "tags": []
   },
   "outputs": [],
   "source": [
    "epochs = 30\n",
    "train_correct_mod7 = []\n",
    "test_correct_mod7 = []\n",
    "\n",
    "for i in range(epochs):\n",
    "    train_corr = 0\n",
    "    test_corr = 0\n",
    "    \n",
    "    # Run the training batches\n",
    "    for b, (X_train, y_train) in enumerate(train_loader):\n",
    "       \n",
    "        y_pred = model7(X_train.view(500, -1))  \n",
    "        loss = criterion7(y_pred, y_train)\n",
    "\n",
    "        # Tally the number of correct predictions\n",
    "        predicted = torch.max(y_pred.data, 1)[1]\n",
    "        batch_corr = (predicted == y_train).sum()\n",
    "        train_corr += batch_corr\n",
    "        \n",
    "        # Update parameters\n",
    "        optimizer7.zero_grad()\n",
    "        loss.backward()\n",
    "        optimizer7.step()\n",
    "        \n",
    "    # Update train loss & accuracy for the epoch\n",
    "    train_losses_mod7=loss\n",
    "    train_correct_mod7.append(train_corr)\n",
    "        \n",
    "    # Run the testing batches\n",
    "    with torch.no_grad():\n",
    "        for b, (X_test, y_test) in enumerate(test_loader):\n",
    "\n",
    "            # Apply the model\n",
    "            y_val = model7(X_test.view(100, -1)) \n",
    "\n",
    "            # Tally the number of correct predictions\n",
    "            predicted = torch.max(y_val.data, 1)[1] \n",
    "            test_corr += (predicted == y_test).sum()\n",
    "    \n",
    "    # Update test loss & accuracy for the epoch\n",
    "    loss = criterion7(y_val, y_test)\n",
    "    test_losses_mod7=loss\n",
    "    test_correct_mod7.append(test_corr)"
   ]
  },
  {
   "cell_type": "code",
   "execution_count": 76,
   "id": "ec698b5f-ecd5-4703-8f4a-76b35d0e17d9",
   "metadata": {
    "tags": []
   },
   "outputs": [],
   "source": [
    "if isinstance(train_losses_mod7, torch.Tensor):\n",
    "    train_losses_mod7 = train_losses_mod7.detach().numpy()"
   ]
  },
  {
   "cell_type": "code",
   "execution_count": 77,
   "id": "8febf54b-3454-426f-b9b7-325ac3b196c9",
   "metadata": {
    "tags": []
   },
   "outputs": [
    {
     "name": "stdout",
     "output_type": "stream",
     "text": [
      "tensor(99.9650)\n"
     ]
    }
   ],
   "source": [
    "for t in train_correct_mod7:\n",
    "    trn_accu_mod7=t/600\n",
    "    \n",
    "print(trn_accu_mod7)"
   ]
  },
  {
   "cell_type": "code",
   "execution_count": 78,
   "id": "dd8a82db-bf5b-4595-a0c5-8017a6bbdfff",
   "metadata": {
    "tags": []
   },
   "outputs": [
    {
     "name": "stdout",
     "output_type": "stream",
     "text": [
      "tensor(97.8600)\n"
     ]
    }
   ],
   "source": [
    "for t in test_correct_mod7:\n",
    "    tst_accu_mod7=t/100\n",
    "    \n",
    "print(tst_accu_mod7)"
   ]
  },
  {
   "cell_type": "code",
   "execution_count": null,
   "id": "571934f0-ce5e-43c9-a87f-f0cea1ae1287",
   "metadata": {},
   "outputs": [],
   "source": [
    "#-----------------------------------------------Model8---------------------------------------#"
   ]
  },
  {
   "cell_type": "code",
   "execution_count": 79,
   "id": "b7236e7f-6079-4d3e-a326-b6cabbea38f4",
   "metadata": {
    "tags": []
   },
   "outputs": [],
   "source": [
    "class Model8(nn.Module):\n",
    "    def __init__(self, in_features=784, h1=400, h2=200, out_features=10):\n",
    "        super(Model8, self).__init__()\n",
    "        self.fc1 = nn.Linear(in_features, h1)    \n",
    "        self.fc2 = nn.Linear(h1, h2)\n",
    "        self.out = nn.Linear(h2, out_features)\n",
    "        \n",
    "    def forward(self, x):\n",
    "        x = F.relu(self.fc1(x))\n",
    "        x = F.relu(self.fc2(x))\n",
    "        x = self.out(x)\n",
    "        return x\n"
   ]
  },
  {
   "cell_type": "code",
   "execution_count": 80,
   "id": "93f2c0db-6442-4128-b469-ae4d52fed778",
   "metadata": {
    "tags": []
   },
   "outputs": [
    {
     "data": {
      "text/plain": [
       "Model8(\n",
       "  (fc1): Linear(in_features=784, out_features=400, bias=True)\n",
       "  (fc2): Linear(in_features=400, out_features=200, bias=True)\n",
       "  (out): Linear(in_features=200, out_features=10, bias=True)\n",
       ")"
      ]
     },
     "execution_count": 80,
     "metadata": {},
     "output_type": "execute_result"
    }
   ],
   "source": [
    "model8=Model8()\n",
    "model8"
   ]
  },
  {
   "cell_type": "code",
   "execution_count": 81,
   "id": "f47e1c2c-030f-40bd-870d-74e89dfed3c4",
   "metadata": {
    "tags": []
   },
   "outputs": [
    {
     "name": "stdout",
     "output_type": "stream",
     "text": [
      "Model8 Parameters: 396210\n"
     ]
    }
   ],
   "source": [
    "model8 = Model8()  # Initialize Model8\n",
    "model8params = CalcParams(model8)  # Calculate parameters\n",
    "print(\"Model8 Parameters:\", model8params)  # Print the number of parameters\n"
   ]
  },
  {
   "cell_type": "code",
   "execution_count": 82,
   "id": "68c1f479-fd85-4147-a188-8d8b681b6b8c",
   "metadata": {
    "tags": []
   },
   "outputs": [],
   "source": [
    "# Initialize criterion and optimizer for Model8\n",
    "criterion8 = nn.CrossEntropyLoss()  # Define the loss function\n",
    "optimizer8 = torch.optim.Adam(model8.parameters(), lr=0.001)  # Define the optimizer\n"
   ]
  },
  {
   "cell_type": "code",
   "execution_count": 83,
   "id": "8f46a031-cceb-4ebc-adf3-ba7947519eb5",
   "metadata": {
    "tags": []
   },
   "outputs": [],
   "source": [
    "epochs = 30\n",
    "train_correct_mod8 = []\n",
    "test_correct_mod8 = []\n",
    "\n",
    "for i in range(epochs):\n",
    "    train_corr = 0\n",
    "    test_corr = 0\n",
    "    \n",
    "    # Run the training batches\n",
    "    for b, (X_train, y_train) in enumerate(train_loader):\n",
    "       \n",
    "        y_pred = model8(X_train.view(500, -1))  \n",
    "        loss = criterion8(y_pred, y_train)\n",
    "\n",
    "        # Tally the number of correct predictions\n",
    "        predicted = torch.max(y_pred.data, 1)[1]\n",
    "        batch_corr = (predicted == y_train).sum()\n",
    "        train_corr += batch_corr\n",
    "        \n",
    "        # Update parameters\n",
    "        optimizer8.zero_grad()\n",
    "        loss.backward()\n",
    "        optimizer8.step()\n",
    "        \n",
    "    # Update train loss & accuracy for the epoch\n",
    "    train_losses_mod8=loss\n",
    "    train_correct_mod8.append(train_corr)\n",
    "        \n",
    "    # Run the testing batches\n",
    "    with torch.no_grad():\n",
    "        for b, (X_test, y_test) in enumerate(test_loader):\n",
    "\n",
    "            # Apply the model\n",
    "            y_val = model8(X_test.view(100, -1)) \n",
    "\n",
    "            # Tally the number of correct predictions\n",
    "            predicted = torch.max(y_val.data, 1)[1] \n",
    "            test_corr += (predicted == y_test).sum()\n",
    "    \n",
    "    # Update test loss & accuracy for the epoch\n",
    "    loss = criterion8(y_val, y_test)\n",
    "    test_losses_mod8=loss\n",
    "    test_correct_mod8.append(test_corr)"
   ]
  },
  {
   "cell_type": "code",
   "execution_count": 84,
   "id": "30a989e9-72a9-4c22-8bae-8b91a96bd7be",
   "metadata": {
    "tags": []
   },
   "outputs": [],
   "source": [
    "if isinstance(train_losses_mod8, torch.Tensor):\n",
    "    train_losses_mod8 = train_losses_mod8.detach().numpy()"
   ]
  },
  {
   "cell_type": "code",
   "execution_count": 85,
   "id": "52b5fd32-3c52-42ae-a650-fd9c4ca12da4",
   "metadata": {
    "tags": []
   },
   "outputs": [
    {
     "name": "stdout",
     "output_type": "stream",
     "text": [
      "tensor(100.)\n"
     ]
    }
   ],
   "source": [
    "for t in train_correct_mod8:\n",
    "    trn_accu_mod8=t/600\n",
    "    \n",
    "print(trn_accu_mod8)"
   ]
  },
  {
   "cell_type": "code",
   "execution_count": 86,
   "id": "e6013394-1d1d-473e-9572-a9aaf775a15b",
   "metadata": {
    "tags": []
   },
   "outputs": [
    {
     "name": "stdout",
     "output_type": "stream",
     "text": [
      "tensor(98.1300)\n"
     ]
    }
   ],
   "source": [
    "for t in test_correct_mod8:\n",
    "    tst_accu_mod8=t/100\n",
    "    \n",
    "print(tst_accu_mod8)"
   ]
  },
  {
   "cell_type": "code",
   "execution_count": null,
   "id": "48bae4b1-aad6-473f-804b-2e771999a418",
   "metadata": {},
   "outputs": [],
   "source": [
    "#----------------------------------------------Model9"
   ]
  },
  {
   "cell_type": "code",
   "execution_count": 87,
   "id": "c4945704-621a-42f5-bb61-21ff03ac86d0",
   "metadata": {
    "tags": []
   },
   "outputs": [],
   "source": [
    "class Model9(nn.Module):\n",
    "    def __init__(self, in_features=784, h1=600, h2=300, out_features=10):\n",
    "        super(Model9, self).__init__()\n",
    "        self.fc1 = nn.Linear(in_features, h1)\n",
    "        self.fc2 = nn.Linear(h1, h2)\n",
    "        self.out = nn.Linear(h2, out_features)\n",
    "        \n",
    "    def forward(self, x):\n",
    "        x = F.relu(self.fc1(x))\n",
    "        x = F.relu(self.fc2(x))\n",
    "        x = self.out(x)\n",
    "        return x\n"
   ]
  },
  {
   "cell_type": "code",
   "execution_count": 88,
   "id": "18ce3ef6-efe7-4686-9e56-2da794ee0c70",
   "metadata": {
    "tags": []
   },
   "outputs": [
    {
     "data": {
      "text/plain": [
       "Model9(\n",
       "  (fc1): Linear(in_features=784, out_features=600, bias=True)\n",
       "  (fc2): Linear(in_features=600, out_features=300, bias=True)\n",
       "  (out): Linear(in_features=300, out_features=10, bias=True)\n",
       ")"
      ]
     },
     "execution_count": 88,
     "metadata": {},
     "output_type": "execute_result"
    }
   ],
   "source": [
    "model9=Model9()\n",
    "model9"
   ]
  },
  {
   "cell_type": "code",
   "execution_count": 89,
   "id": "ee0d165c-f40d-4dc9-be90-48f720cdae91",
   "metadata": {
    "tags": []
   },
   "outputs": [
    {
     "name": "stdout",
     "output_type": "stream",
     "text": [
      "654310\n"
     ]
    }
   ],
   "source": [
    "model9 = Model9()  # Initialize the model\n",
    "model9params = CalcParams(model9)  # Calculate parameters\n",
    "print(model9params)  # Print the number of parameters\n"
   ]
  },
  {
   "cell_type": "code",
   "execution_count": 90,
   "id": "6d296db9-cac1-4240-898a-cdbeeac9d9ea",
   "metadata": {
    "tags": []
   },
   "outputs": [],
   "source": [
    "# Define the loss function\n",
    "criterion9 = nn.CrossEntropyLoss()\n",
    "\n",
    "# Define the optimizer\n",
    "optimizer9 = torch.optim.Adam(model9.parameters(), lr=0.001)\n"
   ]
  },
  {
   "cell_type": "code",
   "execution_count": 91,
   "id": "63e990c7-7fff-4331-97b5-8e8b71bb9dfd",
   "metadata": {
    "tags": []
   },
   "outputs": [],
   "source": [
    "epochs = 30\n",
    "train_correct_mod9 = []\n",
    "test_correct_mod9 = []\n",
    "\n",
    "for i in range(epochs):\n",
    "    train_corr = 0\n",
    "    test_corr = 0\n",
    "    # Run the training batches\n",
    "    for b, (X_train, y_train) in enumerate(train_loader):\n",
    "     \n",
    "        y_pred = model9(X_train.view(500, -1))  \n",
    "        loss = criterion9(y_pred, y_train)\n",
    "\n",
    "        # Tally the number of correct predictions\n",
    "        predicted = torch.max(y_pred.data, 1)[1]\n",
    "        batch_corr = (predicted == y_train).sum()\n",
    "        train_corr += batch_corr\n",
    "        \n",
    "        # Update parameters\n",
    "        optimizer9.zero_grad()\n",
    "        loss.backward()\n",
    "        optimizer9.step()\n",
    "        \n",
    "    # Update train loss & accuracy for the epoch\n",
    "    train_losses_mod9=loss\n",
    "    train_correct_mod9.append(train_corr)\n",
    "        \n",
    "    # Run the testing batches\n",
    "    with torch.no_grad():\n",
    "        for b, (X_test, y_test) in enumerate(test_loader):\n",
    "\n",
    "            # Apply the model\n",
    "            y_val = model9(X_test.view(100, -1)) \n",
    "\n",
    "            # Tally the number of correct predictions\n",
    "            predicted = torch.max(y_val.data, 1)[1] \n",
    "            test_corr += (predicted == y_test).sum()\n",
    "    \n",
    "    # Update test loss & accuracy for the epoch\n",
    "    loss = criterion9(y_val, y_test)\n",
    "    test_losses_mod9=loss\n",
    "    test_correct_mod9.append(test_corr)"
   ]
  },
  {
   "cell_type": "code",
   "execution_count": 106,
   "id": "29f32fa3-a1f9-4cae-b485-9a07ea6d20d9",
   "metadata": {
    "tags": []
   },
   "outputs": [],
   "source": [
    "train_losses_mod9 = train_losses_mod9.detach().numpy()"
   ]
  },
  {
   "cell_type": "code",
   "execution_count": 107,
   "id": "0e543460-e5e0-40a7-827d-4efa3195a245",
   "metadata": {
    "tags": []
   },
   "outputs": [
    {
     "name": "stdout",
     "output_type": "stream",
     "text": [
      "tensor(100.)\n"
     ]
    }
   ],
   "source": [
    "for t in train_correct_mod9:\n",
    "    trn_accu_mod9=t/600\n",
    "    \n",
    "print(trn_accu_mod9)"
   ]
  },
  {
   "cell_type": "code",
   "execution_count": 108,
   "id": "06e7c263-fa04-4972-9e78-6810e36e5d8a",
   "metadata": {
    "tags": []
   },
   "outputs": [
    {
     "name": "stdout",
     "output_type": "stream",
     "text": [
      "tensor(98.3200)\n"
     ]
    }
   ],
   "source": [
    "for t in test_correct_mod9:\n",
    "    tst_accu_mod9=t/100\n",
    "    \n",
    "print(tst_accu_mod9)"
   ]
  },
  {
   "cell_type": "code",
   "execution_count": null,
   "id": "dd998227-d749-4bd3-84c1-11176d717652",
   "metadata": {},
   "outputs": [],
   "source": []
  },
  {
   "cell_type": "code",
   "execution_count": 109,
   "id": "4f05de0e-2ac2-4d5a-a7d1-5d5c4d60f763",
   "metadata": {
    "tags": []
   },
   "outputs": [],
   "source": [
    "class Model10(nn.Module):\n",
    "    def __init__(self, in_features=784, h1=800, h2=400, out_features=10):\n",
    "        super(Model10, self).__init__()\n",
    "        self.fc1 = nn.Linear(in_features, h1)    \n",
    "        self.fc2 = nn.Linear(h1, h2)\n",
    "        self.out = nn.Linear(h2, out_features)\n",
    "        \n",
    "    def forward(self, x):\n",
    "        x = F.relu(self.fc1(x))\n",
    "        x = F.relu(self.fc2(x))\n",
    "        x = self.out(x)\n",
    "        return x\n"
   ]
  },
  {
   "cell_type": "code",
   "execution_count": 110,
   "id": "2fe7bcf4-89db-4184-89b8-048848a94b97",
   "metadata": {
    "tags": []
   },
   "outputs": [
    {
     "data": {
      "text/plain": [
       "Model10(\n",
       "  (fc1): Linear(in_features=784, out_features=800, bias=True)\n",
       "  (fc2): Linear(in_features=800, out_features=400, bias=True)\n",
       "  (out): Linear(in_features=400, out_features=10, bias=True)\n",
       ")"
      ]
     },
     "execution_count": 110,
     "metadata": {},
     "output_type": "execute_result"
    }
   ],
   "source": [
    "model10=Model10()\n",
    "model10"
   ]
  },
  {
   "cell_type": "code",
   "execution_count": 96,
   "id": "015c56da-dccb-4632-96e8-f0e499bb8536",
   "metadata": {
    "tags": []
   },
   "outputs": [
    {
     "name": "stdout",
     "output_type": "stream",
     "text": [
      "952410\n"
     ]
    }
   ],
   "source": [
    "# Calculate the number of parameters for Model10\n",
    "model10params = CalcParams(model10)\n",
    "print(model10params)\n"
   ]
  },
  {
   "cell_type": "code",
   "execution_count": 97,
   "id": "095da0ad-2e75-4618-8ff8-abfe80bdea57",
   "metadata": {
    "tags": []
   },
   "outputs": [],
   "source": [
    "# Define the criterion and optimizer for Model10\n",
    "criterion10 = nn.CrossEntropyLoss()\n",
    "optimizer10 = torch.optim.Adam(model10.parameters(), lr=0.001)\n"
   ]
  },
  {
   "cell_type": "code",
   "execution_count": 98,
   "id": "47df3ffa-c8eb-4c54-99b8-c73984979e8d",
   "metadata": {
    "tags": []
   },
   "outputs": [],
   "source": [
    "epochs = 30\n",
    "train_correct_mod10 = []\n",
    "test_correct_mod10 = []\n",
    "\n",
    "for i in range(epochs):\n",
    "    train_corr = 0\n",
    "    test_corr = 0\n",
    "    # Run the training batches\n",
    "    for b, (X_train, y_train) in enumerate(train_loader):\n",
    "      \n",
    "        y_pred = model10(X_train.view(500, -1))  \n",
    "        loss = criterion10(y_pred, y_train)\n",
    "\n",
    "        # Tally the number of correct predictions\n",
    "        predicted = torch.max(y_pred.data, 1)[1]\n",
    "        batch_corr = (predicted == y_train).sum()\n",
    "        train_corr += batch_corr\n",
    "        \n",
    "        # Update parameters\n",
    "        optimizer10.zero_grad()\n",
    "        loss.backward()\n",
    "        optimizer10.step()\n",
    "        \n",
    "    # Update train loss & accuracy for the epoch\n",
    "    train_losses_mod10=loss\n",
    "    train_correct_mod10.append(train_corr)\n",
    "        \n",
    "    # Run the testing batches\n",
    "    with torch.no_grad():\n",
    "        for b, (X_test, y_test) in enumerate(test_loader):\n",
    "\n",
    "            # Apply the model\n",
    "            y_val = model10(X_test.view(100, -1)) \n",
    "\n",
    "            # Tally the number of correct predictions\n",
    "            predicted = torch.max(y_val.data, 1)[1] \n",
    "            test_corr += (predicted == y_test).sum()\n",
    "    \n",
    "    # Update test loss & accuracy for the epoch\n",
    "    loss = criterion10(y_val, y_test)\n",
    "    test_losses_mod10=loss\n",
    "    test_correct_mod10.append(test_corr)\n",
    "        "
   ]
  },
  {
   "cell_type": "code",
   "execution_count": 99,
   "id": "6d7db110-3e17-4bc5-b7d2-7037f2a841c4",
   "metadata": {
    "tags": []
   },
   "outputs": [],
   "source": [
    "train_losses_mod10 = train_losses_mod10.detach().numpy()"
   ]
  },
  {
   "cell_type": "code",
   "execution_count": 100,
   "id": "0750e146-7d12-41cc-891f-26265b42926a",
   "metadata": {
    "tags": []
   },
   "outputs": [
    {
     "name": "stdout",
     "output_type": "stream",
     "text": [
      "tensor(100.)\n"
     ]
    }
   ],
   "source": [
    "for t in train_correct_mod10:\n",
    "    trn_accu_mod10=t/600\n",
    "    \n",
    "print(trn_accu_mod10)"
   ]
  },
  {
   "cell_type": "code",
   "execution_count": 101,
   "id": "a6e00301-29da-4738-8d1b-7a1f7065f291",
   "metadata": {
    "tags": []
   },
   "outputs": [
    {
     "name": "stdout",
     "output_type": "stream",
     "text": [
      "tensor(98.3900)\n"
     ]
    }
   ],
   "source": [
    "for t in test_correct_mod10:\n",
    "    tst_accu_mod10=t/100\n",
    "    \n",
    "print(tst_accu_mod10)"
   ]
  },
  {
   "cell_type": "code",
   "execution_count": null,
   "id": "6ee49050-cb3f-453a-9c9a-4ca79e08a6ac",
   "metadata": {},
   "outputs": [],
   "source": []
  },
  {
   "cell_type": "code",
   "execution_count": 111,
   "id": "6ad931b7-4163-4792-8cf7-d556cbb23f00",
   "metadata": {
    "tags": []
   },
   "outputs": [
    {
     "data": {
      "image/png": "[encoded data removed]",
      "text/plain": [
       "<Figure size 640x480 with 1 Axes>"
      ]
     },
     "metadata": {},
     "output_type": "display_data"
    }
   ],
   "source": [
    "import matplotlib.pyplot as plt\n",
    "\n",
    "# Training Loss\n",
    "plt.scatter(model1_params, train_losses_mod1, c='b', label='Train - Model 1')\n",
    "plt.scatter(model2_params, train_losses_mod2, c='b', label='Train - Model 2')\n",
    "plt.scatter(model3params, train_losses_mod3, c='b', label='Train - Model 3')\n",
    "plt.scatter(model4params, train_losses_mod4, c='b', label='Train - Model 4')\n",
    "plt.scatter(model5params, train_losses_mod5, c='b', label='Train - Model 5')\n",
    "plt.scatter(model6params, train_losses_mod6, c='b', label='Train - Model 6')\n",
    "plt.scatter(model7params, train_losses_mod7, c='b', label='Train - Model 7')\n",
    "plt.scatter(model8params, train_losses_mod8, c='b', label='Train - Model 8')\n",
    "plt.scatter(model9params, train_losses_mod9, c='b', label='Train - Model 9')\n",
    "plt.scatter(model10params, train_losses_mod10, c='b', label='Train - Model 10')\n",
    "\n",
    "# Testing Loss\n",
    "plt.scatter(model1_params, test_losses_mod1, c='r', label='Test - Model 1')\n",
    "plt.scatter(model2_params, test_losses_mod2, c='r', label='Test - Model 2')\n",
    "plt.scatter(model3params, test_losses_mod3, c='r', label='Test - Model 3')\n",
    "plt.scatter(model4params, test_losses_mod4, c='r', label='Test - Model 4')\n",
    "plt.scatter(model5params, test_losses_mod5, c='r', label='Test - Model 5')\n",
    "plt.scatter(model6params, test_losses_mod6, c='r', label='Test - Model 6')\n",
    "plt.scatter(model7params, test_losses_mod7, c='r', label='Test - Model 7')\n",
    "plt.scatter(model8params, test_losses_mod8, c='r', label='Test - Model 8')\n",
    "plt.scatter(model9params, test_losses_mod9, c='r', label='Test - Model 9')\n",
    "plt.scatter(model10params, test_losses_mod10, c='r', label='Test - Model 10')\n",
    "\n",
    "plt.title(\"Loss of Models\")\n",
    "plt.xlabel(\"Number of Parameters\")\n",
    "plt.ylabel(\"Loss\")\n",
    "plt.legend(loc=\"upper right\")\n",
    "plt.show()\n"
   ]
  },
  {
   "cell_type": "code",
   "execution_count": 118,
   "id": "aab3a0f5-0593-4bce-85b3-8803cb871317",
   "metadata": {
    "tags": []
   },
   "outputs": [
    {
     "data": {
      "image/png": "[encoded data removed]",
      "text/plain": [
       "<Figure size 640x480 with 1 Axes>"
      ]
     },
     "metadata": {},
     "output_type": "display_data"
    }
   ],
   "source": [
    "plt.scatter(model1_params, trn_accu_mod1,c='b',label='Train')\n",
    "plt.scatter(model2_params, trn_accu_mod2,c='b')\n",
    "plt.scatter(model3params, trn_accu_mod3,c='b')\n",
    "plt.scatter(model4params, trn_accu_mod4,c='b')\n",
    "plt.scatter(model5params, trn_accu_mod5,c='b')\n",
    "plt.scatter(model6params, trn_accu_mod6,c='b')\n",
    "plt.scatter(model7params, trn_accu_mod7,c='b')\n",
    "plt.scatter(model8params, trn_accu_mod8,c='b')\n",
    "plt.scatter(model9params, trn_accu_mod9,c='b')\n",
    "plt.scatter(model10params, trn_accu_mod10,c='b')\n",
    "\n",
    "#Testing Accuracy\n",
    "\n",
    "plt.scatter(model1_params, tst_accu_mod1,c='r',label='Test')\n",
    "plt.scatter(model2_params, tst_accu_mod2,c='r')\n",
    "plt.scatter(model3params, tst_accu_mod3,c='r')\n",
    "plt.scatter(model4params, tst_accu_mod4,c='r')\n",
    "plt.scatter(model5params, tst_accu_mod5,c='r')\n",
    "plt.scatter(model6params, tst_accu_mod6,c='r')\n",
    "plt.scatter(model7params, tst_accu_mod7,c='r')\n",
    "plt.scatter(model8params, tst_accu_mod8,c='r')\n",
    "plt.scatter(model9params, tst_accu_mod9,c='r')\n",
    "plt.scatter(model10params, tst_accu_mod10,c='r')\n",
    "\n",
    "plt.title(\"Models Accuracy\")\n",
    "plt.xlabel(\"Number of Parameters\")\n",
    "plt.ylabel(\"Accuracy\")\n",
    "plt.legend(loc=\"upper right\")\n",
    "plt.show()"
   ]
  },
  {
   "cell_type": "code",
   "execution_count": null,
   "id": "327e3ea8-b4bd-4355-8ae2-48ecc6589be1",
   "metadata": {},
   "outputs": [],
   "source": []
  }
 ],
 "metadata": {
  "kernelspec": {
   "display_name": "Python 3 (ipykernel)",
   "language": "python",
   "name": "python3"
  },
  "language_info": {
   "codemirror_mode": {
    "name": "ipython",
    "version": 3
   },
   "file_extension": ".py",
   "mimetype": "text/x-python",
   "name": "python",
   "nbconvert_exporter": "python",
   "pygments_lexer": "ipython3",
   "version": "3.11.5"
  }
 },
 "nbformat": 4,
 "nbformat_minor": 5
}
