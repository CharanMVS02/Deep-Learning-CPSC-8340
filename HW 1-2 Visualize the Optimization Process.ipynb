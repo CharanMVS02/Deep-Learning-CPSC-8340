{
 "cells": [
  {
   "cell_type": "code",
   "execution_count": 1,
   "id": "3d118781-2d0b-4c33-b465-6e4951479241",
   "metadata": {
    "tags": []
   },
   "outputs": [],
   "source": [
    "import numpy as np\n",
    "import pandas as pd\n",
    "import torch\n",
    "import torch.nn as nn\n",
    "import torch.nn.functional as F\n",
    "import matplotlib.pyplot as plt\n",
    "from torch.utils.data import DataLoader\n",
    "from torchvision import datasets, transforms\n"
   ]
  },
  {
   "cell_type": "code",
   "execution_count": 2,
   "id": "3c007b65-3b43-436a-be57-8e7ec359e49f",
   "metadata": {},
   "outputs": [],
   "source": [
    "import torch\n",
    "\n",
    "# Generate a tensor of 200 linearly spaced values from -10 to 10 and reshape it\n",
    "X = torch.linspace(-10, 10, 200).reshape(-1, 1)\n"
   ]
  },
  {
   "cell_type": "code",
   "execution_count": 3,
   "id": "a4beaac4-69e9-4c97-8cf8-0410463ee0f8",
   "metadata": {
    "tags": []
   },
   "outputs": [],
   "source": [
    "y = 1 / (1 + np.exp(-X))"
   ]
  },
  {
   "cell_type": "code",
   "execution_count": 4,
   "id": "3726c60e-630d-41ae-8ff6-cc9f15114780",
   "metadata": {
    "tags": []
   },
   "outputs": [],
   "source": [
    "def calculate_num_params(model):\n",
    "    \"\"\"Calculate the number of trainable parameters in the model.\"\"\"\n",
    "    num_params = sum(param.numel() for param in model.parameters() if param.requires_grad)\n",
    "    return num_params\n"
   ]
  },
  {
   "cell_type": "code",
   "execution_count": 5,
   "id": "5987be22-92c8-4675-b08c-521fd333451a",
   "metadata": {
    "tags": []
   },
   "outputs": [],
   "source": [
    "import torch\n",
    "import torch.nn as nn\n",
    "import torch.nn.functional as F\n",
    "\n",
    "class Model(nn.Module):\n",
    "    def __init__(self, in_features=1, hidden1=4, hidden2=8, out_features=1):\n",
    "        super().__init__()\n",
    "        self.layers = nn.Sequential(\n",
    "            nn.Linear(in_features, hidden1),\n",
    "            nn.ReLU(),\n",
    "            nn.Linear(hidden1, hidden2),\n",
    "            nn.ReLU(),\n",
    "            nn.Linear(hidden2, out_features)\n",
    "        )\n",
    "\n",
    "    def forward(self, x):\n",
    "        return self.layers(x)\n"
   ]
  },
  {
   "cell_type": "code",
   "execution_count": 8,
   "id": "56cb7d9e-6e40-462c-b396-a2901615d4b2",
   "metadata": {
    "tags": []
   },
   "outputs": [
    {
     "name": "stdout",
     "output_type": "stream",
     "text": [
      "Number of trainable parameters: 57\n"
     ]
    }
   ],
   "source": [
    "# Instantiate the model\n",
    "model = Model()\n",
    "\n",
    "# Calculate the number of trainable parameters\n",
    "num_params = calculate_num_params(model)\n",
    "\n",
    "# Print the number of parameters\n",
    "print(f\"Number of trainable parameters: {num_params}\")\n"
   ]
  },
  {
   "cell_type": "code",
   "execution_count": 9,
   "id": "a0472d99-df0e-4390-852e-38e1db0f3c74",
   "metadata": {
    "tags": []
   },
   "outputs": [
    {
     "name": "stdout",
     "output_type": "stream",
     "text": [
      "Total number of parameters: 44\n"
     ]
    }
   ],
   "source": [
    "# Calculate the number of parameters for each layer\n",
    "input_to_hidden1 = 1 * 4  # Parameters from input layer to first hidden layer\n",
    "hidden1_to_hidden2 = 4 * 8  # Parameters from first hidden layer to second hidden layer\n",
    "hidden2_to_output = 8 * 1  # Parameters from second hidden layer to output layer\n",
    "\n",
    "# Calculate the total number of parameters in the model\n",
    "total_parameters = input_to_hidden1 + hidden1_to_hidden2 + hidden2_to_output\n",
    "\n",
    "print(f\"Total number of parameters: {total_parameters}\")\n"
   ]
  },
  {
   "cell_type": "code",
   "execution_count": 10,
   "id": "e6820f1e-a4d1-406d-8c01-320a579ad229",
   "metadata": {
    "tags": []
   },
   "outputs": [],
   "source": [
    "# Define the criterion for loss calculation\n",
    "criterion = nn.CrossEntropyLoss()\n"
   ]
  },
  {
   "cell_type": "code",
   "execution_count": 11,
   "id": "a163006e-83be-4b0a-b3b4-160456d31462",
   "metadata": {
    "tags": []
   },
   "outputs": [],
   "source": [
    "# Define the optimizer\n",
    "optimizer = torch.optim.Adam(model.parameters(), lr=0.001)\n"
   ]
  },
  {
   "cell_type": "code",
   "execution_count": 16,
   "id": "1d29d195-ca1d-4734-aa7a-bd5dd593f91c",
   "metadata": {
    "tags": []
   },
   "outputs": [],
   "source": [
    "import torch\n",
    "import torch.nn as nn\n",
    "import torch.nn.functional as F\n",
    "\n",
    "# Define the number of iterations and epochs\n",
    "num_iterations = 8\n",
    "epochs = 30\n",
    "epoch_interval = round(epochs / 3)\n",
    "\n",
    "# Initialize lists and tensors to store results\n",
    "model_losses = []\n",
    "index = 0\n",
    "layer2_weights_tensor = torch.zeros((num_iterations * epoch_interval, hidden1_to_hidden2))\n",
    "whole_model_weights_tensor = torch.zeros((num_iterations * epoch_interval, total_parameters))\n",
    "loss_tensor = torch.zeros((num_iterations * epoch_interval, 1))\n",
    "\n",
    "for iteration in range(num_iterations):\n",
    "    # Initialize model, loss function, and optimizer\n",
    "    model = Model()\n",
    "    criterion = nn.CrossEntropyLoss()\n",
    "    optimizer = torch.optim.Adam(model.parameters(), lr=0.001)\n",
    "    \n",
    "    for epoch in range(epochs):\n",
    "        # Feed forward\n",
    "        y_pred = model(X)\n",
    "        \n",
    "        # Compute error\n",
    "        train_loss = criterion(y_pred, y)\n",
    "        model_losses.append(train_loss.item())\n",
    "        \n",
    "        # Backward and optimize\n",
    "        optimizer.zero_grad()\n",
    "        train_loss.backward()\n",
    "        optimizer.step()\n",
    "        \n",
    "        # Every 3 epochs, collect weights and loss of the model\n",
    "        if (epoch + 1) % 3 == 0:\n",
    "            # Collect weights of the model from sequential layers\n",
    "            weights = [layer.weight.flatten().detach().cpu() for layer in model.layers if isinstance(layer, nn.Linear)]\n",
    "            \n",
    "            # Reshape weights\n",
    "            layer1_weights = weights[0].reshape(1, input_to_hidden1)\n",
    "            layer2_weights = weights[1].reshape(1, hidden1_to_hidden2)\n",
    "            layer3_weights = weights[2].reshape(1, hidden2_to_output)\n",
    "            \n",
    "            # Combine all layer weights for the whole model\n",
    "            combined_weights = torch.cat((layer2_weights, layer1_weights, layer3_weights), dim=1)\n",
    "            \n",
    "            # Save weights and loss\n",
    "            whole_model_weights_tensor[index] = combined_weights\n",
    "            layer2_weights_tensor[index] = layer2_weights\n",
    "            loss_tensor[index] = train_loss.item()\n",
    "            index += 1\n"
   ]
  },
  {
   "cell_type": "code",
   "execution_count": 17,
   "id": "e3d55a66-99e0-4b5f-a188-f066807fbcdd",
   "metadata": {
    "tags": []
   },
   "outputs": [],
   "source": [
    "import numpy as np\n",
    "\n",
    "def perform_pca(data, num_components):\n",
    "    \"\"\"\n",
    "    Perform Principal Component Analysis (PCA) on the given data.\n",
    "\n",
    "    Parameters:\n",
    "    - data (np.ndarray): Input data array where rows represent samples and columns represent features.\n",
    "    - num_components (int): Number of principal components to retain.\n",
    "\n",
    "    Returns:\n",
    "    - np.ndarray: Transformed data with reduced dimensionality.\n",
    "    \"\"\"\n",
    "    num_samples, num_features = data.shape\n",
    "    \n",
    "    # Compute the mean of each feature\n",
    "    means = np.mean(data, axis=0)\n",
    "    \n",
    "    # Center the data by subtracting the mean\n",
    "    centered_data = data - means\n",
    "    \n",
    "    # Compute the covariance matrix\n",
    "    covariance_matrix = np.dot(centered_data.T, centered_data)\n",
    "    \n",
    "    # Calculate eigenvalues and eigenvectors\n",
    "    eigenvalues, eigenvectors = np.linalg.eig(covariance_matrix)\n",
    "    \n",
    "    # Sort eigenvalues and eigenvectors in descending order\n",
    "    sorted_indices = np.argsort(eigenvalues)[::-1]\n",
    "    sorted_eigenvalues = eigenvalues[sorted_indices]\n",
    "    sorted_eigenvectors = eigenvectors[:, sorted_indices]\n",
    "    \n",
    "    # Select the top num_components eigenvectors\n",
    "    selected_eigenvectors = sorted_eigenvectors[:, :num_components]\n",
    "    \n",
    "    # Project the centered data onto the selected eigenvectors\n",
    "    reduced_data = np.dot(centered_data, selected_eigenvectors)\n",
    "    \n",
    "    return reduced_data\n"
   ]
  },
  {
   "cell_type": "code",
   "execution_count": 18,
   "id": "98f67345-e98f-4327-8149-684f2a0b2b4d",
   "metadata": {
    "tags": []
   },
   "outputs": [],
   "source": [
    "# Convert tensors to numpy arrays and apply PCA\n",
    "def reduce_dimensions_with_pca(tensor_data, num_components):\n",
    "    \"\"\"\n",
    "    Convert tensor data to numpy array, perform PCA, and return reduced dimensions.\n",
    "\n",
    "    Parameters:\n",
    "    - tensor_data (torch.Tensor): Input tensor data.\n",
    "    - num_components (int): Number of principal components to retain.\n",
    "\n",
    "    Returns:\n",
    "    - np.ndarray: Data with reduced dimensionality.\n",
    "    \"\"\"\n",
    "    # Convert tensor to numpy array\n",
    "    data_np = tensor_data.detach().cpu().numpy()\n",
    "    \n",
    "    # Perform PCA\n",
    "    reduced_data = perform_pca(data_np, num_components)\n",
    "    \n",
    "    return reduced_data\n",
    "\n",
    "# Reduce dimensions using PCA for different datasets\n",
    "lay2_reduced = reduce_dimensions_with_pca(layer2_weights_tensor, 2)\n",
    "whole_model_reduced = reduce_dimensions_with_pca(whole_model_weights_tensor, 2)\n",
    "loss_vector = loss_tensor.detach().cpu().numpy()\n"
   ]
  },
  {
   "cell_type": "code",
   "execution_count": 19,
   "id": "8713619d-893b-4ed2-a7f3-b6ffd24001d0",
   "metadata": {
    "tags": []
   },
   "outputs": [
    {
     "data": {
      "image/png": "[encoded data removed]",
      "text/plain": [
       "<Figure size 640x480 with 1 Axes>"
      ]
     },
     "metadata": {},
     "output_type": "display_data"
    }
   ],
   "source": [
    "import matplotlib.pyplot as plt\n",
    "\n",
    "def plot_layer_2_optimization(reduced_data, loss_vector):\n",
    "    \"\"\"\n",
    "    Plot the optimization of Layer 2 of the neural network.\n",
    "\n",
    "    Parameters:\n",
    "    - reduced_data (np.ndarray): Data reduced to 2 dimensions using PCA.\n",
    "    - loss_vector (np.ndarray): Loss values associated with each data point.\n",
    "    \"\"\"\n",
    "    colour_list = ['y*', 'b*', 'g*', 'r*', 'c*', 'm*']\n",
    "    colour_name_list = [\"yellow\", \"blue\", \"green\", \"red\", \"cyan\", \"magenta\"]\n",
    "    \n",
    "    colour_index = 0\n",
    "    for index, (point, loss) in enumerate(zip(reduced_data, loss_vector)):\n",
    "        if index % 10 == 0 and index != 0:\n",
    "            # Change colour\n",
    "            colour_index = (colour_index + 1) % len(colour_list)\n",
    "        \n",
    "        plt.plot(point[0], point[1], colour_list[colour_index])\n",
    "        plt.annotate(f\"{loss[0]:.2f}\", (point[0], point[1]), color=colour_name_list[colour_index])\n",
    "    \n",
    "    plt.title(\"Layer 2 Optimization\")\n",
    "    plt.xlabel(\"Principal Component 1\")\n",
    "    plt.ylabel(\"Principal Component 2\")\n",
    "    plt.show()\n",
    "\n",
    "# Call the plotting function\n",
    "plot_layer_2_optimization(lay2_reduced, loss_vector)\n"
   ]
  },
  {
   "cell_type": "code",
   "execution_count": 20,
   "id": "a40bf74e-d452-49bc-9656-81e230ca0bcc",
   "metadata": {
    "tags": []
   },
   "outputs": [
    {
     "data": {
      "image/png": "[encoded data removed]",
      "text/plain": [
       "<Figure size 640x480 with 1 Axes>"
      ]
     },
     "metadata": {},
     "output_type": "display_data"
    }
   ],
   "source": [
    "def plot_whole_model_optimization(reduced_data, loss_vector):\n",
    "    \"\"\"\n",
    "    Plot the optimization of the whole model's weights.\n",
    "\n",
    "    Parameters:\n",
    "    - reduced_data (np.ndarray): Data reduced to 2 dimensions using PCA.\n",
    "    - loss_vector (np.ndarray): Loss values associated with each data point.\n",
    "    \"\"\"\n",
    "    colour_list = ['y*', 'b*', 'g*', 'r*', 'c*', 'm*']\n",
    "    colour_name_list = [\"yellow\", \"blue\", \"green\", \"red\", \"cyan\", \"magenta\"]\n",
    "    \n",
    "    colour_index = 0\n",
    "    for index, (point, loss) in enumerate(zip(reduced_data, loss_vector)):\n",
    "        if index % 10 == 0 and index != 0:\n",
    "            # Change colour\n",
    "            colour_index = (colour_index + 1) % len(colour_list)\n",
    "        \n",
    "        plt.plot(point[0], point[1], colour_list[colour_index])\n",
    "        plt.annotate(f\"{loss[0]:.2f}\", (point[0], point[1]), color=colour_name_list[colour_index])\n",
    "    \n",
    "    plt.title(\"Whole Model's Weights Optimization\")\n",
    "    plt.xlabel(\"Principal Component 1\")\n",
    "    plt.ylabel(\"Principal Component 2\")\n",
    "    plt.show()\n",
    "\n",
    "# Call the plotting function\n",
    "plot_whole_model_optimization(whole_model_reduced, loss_vector)\n"
   ]
  },
  {
   "cell_type": "code",
   "execution_count": null,
   "id": "a2646328-108a-421e-81de-23e7b0d55d5d",
   "metadata": {},
   "outputs": [],
   "source": []
  }
 ],
 "metadata": {
  "kernelspec": {
   "display_name": "Python 3 (ipykernel)",
   "language": "python",
   "name": "python3"
  },
  "language_info": {
   "codemirror_mode": {
    "name": "ipython",
    "version": 3
   },
   "file_extension": ".py",
   "mimetype": "text/x-python",
   "name": "python",
   "nbconvert_exporter": "python",
   "pygments_lexer": "ipython3",
   "version": "3.11.5"
  }
 },
 "nbformat": 4,
 "nbformat_minor": 5
}
